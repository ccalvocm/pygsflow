{
 "cells": [
  {
   "cell_type": "markdown",
   "metadata": {},
   "source": [
    "# Builder Tutorial number 8\n",
    "\n",
    "The builder tutorials demonstrate how to build an operational GSFLOW model using `pyGSFLOW` from shapefile, DEM, and other common data sources. These tutorials focus on the `gsflow.builder` classes.\n",
    "\n",
    "## Building the GSFLOW control file\n",
    "\n",
    "In this tutorial, we demostrate how to build the GSFLOW control file. The building method relies on a number of defaults stored within pyGSFLOW, which allows the user to 1) rapidly generate a basic PRMS model, and 2) later adjust it using pyGSFLOW built in functionality. "
   ]
  },
  {
   "cell_type": "code",
   "execution_count": 1,
   "metadata": {},
   "outputs": [],
   "source": [
    "import os\n",
    "import utm\n",
    "import shapefile\n",
    "import matplotlib.pyplot as plt\n",
    "import matplotlib.colors as mcolors\n",
    "import numpy as np\n",
    "import flopy\n",
    "from gsflow.builder import GenerateFishnet, FlowAccumulation\n",
    "import gsflow"
   ]
  },
  {
   "cell_type": "markdown",
   "metadata": {},
   "source": [
    "### The `ControlFileBuilder` class\n",
    "\n",
    "The `ControlFileBuilder` class builds a GSFLOW control file from pyGSFLOW default parameter values.\n",
    "\n",
    "The `ControlFileBuilder` class has a single optional parameter:\n",
    "   - `defaults` : optional parameter, user can supply a gsflow.builder.Defaults instance to ModflowBuilder to use a custom set of default values\n",
    "   \n",
    "Let's start by importing the class"
   ]
  },
  {
   "cell_type": "code",
   "execution_count": 2,
   "metadata": {},
   "outputs": [],
   "source": [
    "from gsflow.builder import ControlFileBuilder"
   ]
  },
  {
   "cell_type": "markdown",
   "metadata": {},
   "source": [
    "## Applying the methods to the Sagehen 50m example problem\n",
    "\n",
    "In this example the methods are applied directly to the Sagehen 50m model as they are presented."
   ]
  },
  {
   "cell_type": "markdown",
   "metadata": {},
   "source": [
    "**Let's start by loading the Modflow model and the PRMS parameter file that was produced in the previous two builder tutorials**"
   ]
  },
  {
   "cell_type": "code",
   "execution_count": 3,
   "metadata": {},
   "outputs": [],
   "source": [
    "# define the input and output data paths\n",
    "input_ws = os.path.join(\"data\", \"sagehen\", \"50m_tutorials\")\n",
    "output_ws = os.path.join(\"data\", \"temp\")\n",
    "\n",
    "modflow_nam = \"sagehen_50m.nam\"\n",
    "parameter_file = os.path.join(input_ws, \"sagehen_50m_initial.param\")"
   ]
  },
  {
   "cell_type": "markdown",
   "metadata": {},
   "source": [
    "Load the modflow model and parameter file"
   ]
  },
  {
   "cell_type": "code",
   "execution_count": 4,
   "metadata": {},
   "outputs": [
    {
     "name": "stderr",
     "output_type": "stream",
     "text": [
      "/home/carlos/miniconda3/envs/sequia/lib/python3.8/site-packages/flopy/mbase.py:96: UserWarning: The program mfnwt does not exist or is not executable.\n",
      "  warn(\n"
     ]
    },
    {
     "name": "stdout",
     "output_type": "stream",
     "text": [
      "   loading iuzfbnd array...\n",
      "   loading irunbnd array...\n",
      "   loading vks array...\n",
      "   loading eps array...\n",
      "   loading thts array...\n",
      "   loading thti array...\n",
      "stress period 1:\n",
      "   loading finf array...\n",
      "stress period 2:\n",
      "stress period 3:\n",
      "stress period 4:\n",
      "stress period 5:\n",
      "stress period 6:\n",
      "stress period 7:\n",
      "stress period 8:\n",
      "stress period 9:\n",
      "stress period 10:\n",
      "stress period 11:\n",
      "stress period 12:\n",
      "stress period 13:\n",
      "stress period 14:\n",
      "stress period 15:\n",
      "stress period 16:\n",
      "stress period 17:\n",
      "stress period 18:\n",
      "stress period 19:\n",
      "stress period 20:\n",
      "stress period 21:\n",
      "stress period 22:\n",
      "stress period 23:\n",
      "stress period 24:\n",
      "stress period 25:\n",
      "stress period 26:\n",
      "stress period 27:\n",
      "stress period 28:\n",
      "stress period 29:\n",
      "stress period 30:\n",
      "stress period 31:\n",
      "stress period 32:\n",
      "stress period 33:\n",
      "stress period 34:\n",
      "stress period 35:\n",
      "stress period 36:\n",
      "stress period 37:\n",
      "stress period 38:\n",
      "stress period 39:\n",
      "stress period 40:\n",
      "stress period 41:\n",
      "stress period 42:\n",
      "stress period 43:\n",
      "stress period 44:\n",
      "stress period 45:\n",
      "stress period 46:\n",
      "stress period 47:\n",
      "stress period 48:\n",
      "stress period 49:\n",
      "stress period 50:\n",
      "stress period 51:\n",
      "stress period 52:\n",
      "stress period 53:\n",
      "stress period 54:\n",
      "stress period 55:\n",
      "stress period 56:\n",
      "stress period 57:\n",
      "stress period 58:\n",
      "stress period 59:\n",
      "stress period 60:\n",
      "stress period 61:\n",
      "stress period 62:\n",
      "stress period 63:\n",
      "stress period 64:\n",
      "stress period 65:\n",
      "stress period 66:\n",
      "stress period 67:\n",
      "stress period 68:\n",
      "stress period 69:\n",
      "stress period 70:\n",
      "stress period 71:\n",
      "stress period 72:\n",
      "stress period 73:\n",
      "stress period 74:\n",
      "stress period 75:\n",
      "stress period 76:\n",
      "stress period 77:\n",
      "stress period 78:\n",
      "stress period 79:\n",
      "stress period 80:\n",
      "stress period 81:\n",
      "stress period 82:\n",
      "stress period 83:\n",
      "stress period 84:\n",
      "stress period 85:\n",
      "stress period 86:\n",
      "stress period 87:\n",
      "stress period 88:\n",
      "stress period 89:\n",
      "stress period 90:\n",
      "stress period 91:\n",
      "stress period 92:\n",
      "stress period 93:\n",
      "stress period 94:\n",
      "stress period 95:\n",
      "stress period 96:\n",
      "stress period 97:\n",
      "stress period 98:\n",
      "stress period 99:\n",
      "stress period 100:\n",
      "stress period 101:\n",
      "stress period 102:\n",
      "stress period 103:\n",
      "stress period 104:\n",
      "stress period 105:\n",
      "stress period 106:\n",
      "stress period 107:\n",
      "stress period 108:\n",
      "stress period 109:\n",
      "stress period 110:\n",
      "stress period 111:\n",
      "stress period 112:\n",
      "stress period 113:\n",
      "stress period 114:\n",
      "stress period 115:\n",
      "stress period 116:\n",
      "stress period 117:\n",
      "stress period 118:\n",
      "stress period 119:\n",
      "stress period 120:\n",
      "------------------------------------\n",
      "Reading parameter file : sagehen_50m_initial.param\n",
      "------------------------------------\n",
      "Warning: ndays data type will be infered from data supplied\n",
      "Warning: ndepl data type will be infered from data supplied\n",
      "Warning: nlake data type will be infered from data supplied\n",
      "Warning: nmonths data type will be infered from data supplied\n",
      "Warning: nrain data type will be infered from data supplied\n",
      "Warning: ntemp data type will be infered from data supplied\n",
      "Warning: one data type will be infered from data supplied\n",
      "Warning: nsegment data type will be infered from data supplied\n",
      "Warning: nreach data type will be infered from data supplied\n",
      "Warning: ngw data type will be infered from data supplied\n",
      "Warning: ngwcell data type will be infered from data supplied\n",
      "Warning: nhru data type will be infered from data supplied\n",
      "Warning: nhrucell data type will be infered from data supplied\n",
      "Warning: nssr data type will be infered from data supplied\n",
      "Warning: ncascade data type will be infered from data supplied\n",
      "Warning: ncascdgw data type will be infered from data supplied\n",
      "Warning: ndeplval data type will be infered from data supplied\n",
      "Warning: nsub data type will be infered from data supplied\n"
     ]
    }
   ],
   "source": [
    "ml = gsflow.modflow.Modflow.load(modflow_nam, model_ws=input_ws)\n",
    "parameters = gsflow.prms.PrmsParameters.load_from_file(parameter_file)"
   ]
  },
  {
   "cell_type": "markdown",
   "metadata": {},
   "source": [
    "### Building a control file object\n",
    "\n",
    "Now that the modflow model and the prms parameter object have been loaded, `ControlFileBuilder` can be instantiated and a pyGSFLOW `ControlFile` object can be created containing the path information for the modflow model and the PRMS parameter file(s).\n",
    "\n",
    "For the Sagehen 50m model built in `Defaults` will be used create the initial iteration of the control file."
   ]
  },
  {
   "cell_type": "code",
   "execution_count": 5,
   "metadata": {},
   "outputs": [],
   "source": [
    "controlbuild = ControlFileBuilder()"
   ]
  },
  {
   "cell_type": "markdown",
   "metadata": {},
   "source": [
    "To build a control file object the user need to call the `build()` method. The `build()` method has three optional parameters:\n",
    "   - `name` : model name, defaults to \"gsflow_builder\"\n",
    "   - `parameter_obj` : if a `PrmsParameters` object is supplied, the control file builder will set the name(s) of the parameter file(s) in the control file\n",
    "   - `modflow_obj` : if a `Modflow` object is supplied, the control file builder will set the name of the 'modflow_name' parameter in the control file.\n",
    "   \n",
    "In this example we use all three optional parameters"
   ]
  },
  {
   "cell_type": "code",
   "execution_count": 6,
   "metadata": {},
   "outputs": [
    {
     "name": "stdout",
     "output_type": "stream",
     "text": [
      "Warning: cascade_flag data type will be infered from data supplied\n",
      "Warning: cascadegw_flag data type will be infered from data supplied\n",
      "Warning: csv_output_file data type will be infered from data supplied\n",
      "Warning: et_module data type will be infered from data supplied\n",
      "Warning: executable_desc data type will be infered from data supplied\n",
      "Warning: executable_model data type will be infered from data supplied\n",
      "Warning: gsflow_output_file data type will be infered from data supplied\n",
      "Warning: model_mode data type will be infered from data supplied\n",
      "Warning: parameter_check_flag data type will be infered from data supplied\n",
      "Warning: precip_module data type will be infered from data supplied\n",
      "Warning: rpt_days data type will be infered from data supplied\n",
      "Warning: snarea_curve_flag data type will be infered from data supplied\n",
      "Warning: soilzone_aet_flag data type will be infered from data supplied\n",
      "Warning: solrad_module data type will be infered from data supplied\n",
      "Warning: srunoff_module data type will be infered from data supplied\n",
      "Warning: start_time data type will be infered from data supplied\n",
      "Warning: subbasin_flag data type will be infered from data supplied\n",
      "Warning: temp_module data type will be infered from data supplied\n",
      "Warning: transp_module data type will be infered from data supplied\n",
      "Warning: param_file data type will be infered from data supplied\n",
      "Warning: modflow_name data type will be infered from data supplied\n",
      "<class 'gsflow.control.ControlFile'>\n"
     ]
    }
   ],
   "source": [
    "control = controlbuild.build(\"sagehen_50m\", parameters, ml)\n",
    "print(type(control))"
   ]
  },
  {
   "cell_type": "markdown",
   "metadata": {},
   "source": [
    "## `ControlFile` object overview\n",
    "\n",
    "The `ControlFile` object holds parameter information and allows the user to edit parameters, add parameters, remove parameters, and write control file parameter information. The `pygsflow_quickstart` notebooks show how to interact with this class in more detail than will be presented here.\n",
    "\n",
    "Instead this example shows how to add a record and how to update the values of an existing record in the `ControlFile` object.\n",
    "\n",
    "Futher setup is presented in a later notebook."
   ]
  },
  {
   "cell_type": "markdown",
   "metadata": {},
   "source": [
    "### `ControlRecord` explanation\n",
    "\n",
    "All control file parameter values are stored in a `ControlRecord` object that contains information about the parameter's data type and number of values. Let's look at a `ControlRecord` object quickly"
   ]
  },
  {
   "cell_type": "code",
   "execution_count": 7,
   "metadata": {},
   "outputs": [
    {
     "name": "stdout",
     "output_type": "stream",
     "text": [
      "\n",
      "####\n",
      "modflow_name\n",
      "1\n",
      "4\n",
      "sagehen_50m.nam\n",
      "####\n",
      "<class 'gsflow.control.ControlRecord'>\n",
      "['sagehen_50m.nam']\n"
     ]
    }
   ],
   "source": [
    "mf_name = control.get_record(\"modflow_name\")\n",
    "\n",
    "print(mf_name)\n",
    "print(type(mf_name))\n",
    "print(mf_name.values)"
   ]
  },
  {
   "cell_type": "markdown",
   "metadata": {},
   "source": [
    "### Updating the values in an existing control file parameter\n",
    "\n",
    "The `ControlFile` object allows the user to easily update existing parameters using pyGSFLOW. Here is an example of updating the \"model_mode\" and the \"srunoff_module\" parameters.\n",
    "\n",
    "Because of python overloading methods setting values can be applied to the `ControlRecord` object by calling it's name as an attribute."
   ]
  },
  {
   "cell_type": "code",
   "execution_count": 8,
   "metadata": {},
   "outputs": [
    {
     "name": "stdout",
     "output_type": "stream",
     "text": [
      "\n",
      "####\n",
      "model_mode\n",
      "1\n",
      "4\n",
      "GSFLOW5\n",
      "####\n"
     ]
    }
   ],
   "source": [
    "control.model_mode = [\"GSFLOW5\",]\n",
    "\n",
    "print(control.model_mode)"
   ]
  },
  {
   "cell_type": "code",
   "execution_count": 9,
   "metadata": {},
   "outputs": [
    {
     "name": "stdout",
     "output_type": "stream",
     "text": [
      "\n",
      "####\n",
      "srunoff_module\n",
      "1\n",
      "4\n",
      "srunoff_smidx\n",
      "####\n"
     ]
    }
   ],
   "source": [
    "control.srunoff_module = [\"srunoff_smidx\",]\n",
    "\n",
    "print(control.srunoff_module)"
   ]
  },
  {
   "cell_type": "markdown",
   "metadata": {},
   "source": [
    "### Writing the `ControlFile` object to a GSFLOW control file \n",
    "\n",
    "This section shows how to write the `ControlFile` object to a GSFLOW control file using the built in `write()` method. The Builder Tutorial series will revist this file later for further tuning before creating the finished Sagehen 50m model."
   ]
  },
  {
   "cell_type": "code",
   "execution_count": 10,
   "metadata": {},
   "outputs": [],
   "source": [
    "control_file = os.path.join(output_ws, \"sagehen_50m_initial.control\")\n",
    "control.write(control_file)"
   ]
  }
 ],
 "metadata": {
  "kernelspec": {
   "display_name": "Python 3 (ipykernel)",
   "language": "python",
   "name": "python3"
  },
  "language_info": {
   "codemirror_mode": {
    "name": "ipython",
    "version": 3
   },
   "file_extension": ".py",
   "mimetype": "text/x-python",
   "name": "python",
   "nbconvert_exporter": "python",
   "pygments_lexer": "ipython3",
   "version": "3.8.18"
  }
 },
 "nbformat": 4,
 "nbformat_minor": 2
}
