{
 "cells": [
  {
   "cell_type": "markdown",
   "metadata": {},
   "source": [
    "# Quickstart for pyGSFLOW\n",
    "\n",
    "This tutorial shows how to load an existing model into pyGSFLOW and create\n",
    "a new (empty) GsflowModel object for building a new GSFLOW model"
   ]
  },
  {
   "cell_type": "markdown",
   "metadata": {},
   "source": [
    "## Package import"
   ]
  },
  {
   "cell_type": "code",
   "execution_count": 1,
   "metadata": {},
   "outputs": [],
   "source": [
    "import os\n",
    "import gsflow\n",
    "import flopy\n",
    "import platform\n",
    "import pandas as pd"
   ]
  },
  {
   "cell_type": "markdown",
   "metadata": {},
   "source": [
    "## Load an existing GSFLOW model"
   ]
  },
  {
   "cell_type": "code",
   "execution_count": 2,
   "metadata": {},
   "outputs": [],
   "source": [
    "model_ws = os.path.join(\"data\", \"sagehen\", \"gsflow\")"
   ]
  },
  {
   "cell_type": "code",
   "execution_count": 3,
   "metadata": {},
   "outputs": [
    {
     "name": "stdout",
     "output_type": "stream",
     "text": [
      "Control file is loaded\n",
      "Working on loading PRMS model ...\n",
      "Prms model loading ...\n",
      "------------------------------------\n",
      "Reading parameter file : saghen_new_par_0.params\n",
      "------------------------------------\n",
      "Warning: ncascade data type will be infered from data supplied\n",
      "Warning: ncascdgw data type will be infered from data supplied\n",
      "Warning: ndays data type will be infered from data supplied\n",
      "Warning: ndepl data type will be infered from data supplied\n",
      "Warning: ndeplval data type will be infered from data supplied\n",
      "Warning: nevap data type will be infered from data supplied\n",
      "Warning: ngw data type will be infered from data supplied\n",
      "Warning: ngwcell data type will be infered from data supplied\n",
      "Warning: nhru data type will be infered from data supplied\n",
      "Warning: nhrucell data type will be infered from data supplied\n",
      "Warning: nlake data type will be infered from data supplied\n",
      "Warning: nlake_hrus data type will be infered from data supplied\n",
      "Warning: nmonths data type will be infered from data supplied\n",
      "Warning: nobs data type will be infered from data supplied\n",
      "Warning: nrain data type will be infered from data supplied\n",
      "Warning: nreach data type will be infered from data supplied\n",
      "Warning: nsegment data type will be infered from data supplied\n",
      "Warning: nsnow data type will be infered from data supplied\n",
      "Warning: nsol data type will be infered from data supplied\n",
      "Warning: nssr data type will be infered from data supplied\n",
      "Warning: nsub data type will be infered from data supplied\n",
      "Warning: ntemp data type will be infered from data supplied\n",
      "Warning: one data type will be infered from data supplied\n",
      "------------------------------------\n",
      "Reading parameter file : saghen_new_par_1.params\n",
      "------------------------------------\n",
      "------------------------------------\n",
      "Reading parameter file : saghen_new_par_2.params\n",
      "------------------------------------\n",
      "------------------------------------\n",
      "Reading parameter file : saghen_new_par_3.params\n",
      "------------------------------------\n",
      "PRMS model loaded ...\n",
      "Working on loading MODFLOW files ....\n",
      "   loading iuzfbnd array...\n",
      "   loading irunbnd array...\n",
      "   loading vks array...\n",
      "   loading eps array...\n",
      "   loading thts array...\n",
      "stress period 1:\n",
      "   loading finf array...\n",
      "stress period 2:\n",
      "MODFLOW files are loaded ... \n"
     ]
    }
   ],
   "source": [
    "control_file = os.path.join(model_ws, \"saghen_new_cont.control\")\n",
    "gsf = gsflow.GsflowModel.load_from_file(control_file)"
   ]
  },
  {
   "cell_type": "markdown",
   "metadata": {},
   "source": [
    "## Load and run a GSFLOW model from pyGSFLOW"
   ]
  },
  {
   "cell_type": "code",
   "execution_count": 4,
   "metadata": {},
   "outputs": [],
   "source": [
    "control_file = os.path.join(model_ws, \"saghen_new_cont.control\")"
   ]
  },
  {
   "cell_type": "code",
   "execution_count": 5,
   "metadata": {},
   "outputs": [],
   "source": [
    "exe_name = os.path.join(\"..\", \"bin\", \"gsflow\")\n",
    "if platform.system().lower() == \"windows\":\n",
    "    exe_name += \".exe\""
   ]
  },
  {
   "cell_type": "code",
   "execution_count": 6,
   "metadata": {},
   "outputs": [
    {
     "name": "stdout",
     "output_type": "stream",
     "text": [
      "Control file is loaded\n",
      "Working on loading PRMS model ...\n",
      "Prms model loading ...\n",
      "------------------------------------\n",
      "Reading parameter file : saghen_new_par_0.params\n",
      "------------------------------------\n",
      "Warning: ncascade data type will be infered from data supplied\n",
      "Warning: ncascdgw data type will be infered from data supplied\n",
      "Warning: ndays data type will be infered from data supplied\n",
      "Warning: ndepl data type will be infered from data supplied\n",
      "Warning: ndeplval data type will be infered from data supplied\n",
      "Warning: nevap data type will be infered from data supplied\n",
      "Warning: ngw data type will be infered from data supplied\n",
      "Warning: ngwcell data type will be infered from data supplied\n",
      "Warning: nhru data type will be infered from data supplied\n",
      "Warning: nhrucell data type will be infered from data supplied\n",
      "Warning: nlake data type will be infered from data supplied\n",
      "Warning: nlake_hrus data type will be infered from data supplied\n",
      "Warning: nmonths data type will be infered from data supplied\n",
      "Warning: nobs data type will be infered from data supplied\n",
      "Warning: nrain data type will be infered from data supplied\n",
      "Warning: nreach data type will be infered from data supplied\n",
      "Warning: nsegment data type will be infered from data supplied\n",
      "Warning: nsnow data type will be infered from data supplied\n",
      "Warning: nsol data type will be infered from data supplied\n",
      "Warning: nssr data type will be infered from data supplied\n",
      "Warning: nsub data type will be infered from data supplied\n",
      "Warning: ntemp data type will be infered from data supplied\n",
      "Warning: one data type will be infered from data supplied\n",
      "------------------------------------\n",
      "Reading parameter file : saghen_new_par_1.params\n",
      "------------------------------------\n",
      "------------------------------------\n",
      "Reading parameter file : saghen_new_par_2.params\n",
      "------------------------------------\n",
      "------------------------------------\n",
      "Reading parameter file : saghen_new_par_3.params\n",
      "------------------------------------\n",
      "PRMS model loaded ...\n",
      "Working on loading MODFLOW files ....\n",
      "   loading iuzfbnd array...\n",
      "   loading irunbnd array...\n",
      "   loading vks array...\n",
      "   loading eps array...\n",
      "   loading thts array...\n",
      "stress period 1:\n",
      "   loading finf array...\n",
      "stress period 2:\n",
      "MODFLOW files are loaded ... \n",
      "pyGSFLOW is using the following executable to run the model: ..\\bin\\gsflow.exe\n",
      "\n",
      "\n",
      "                          U.S. Geological Survey\n",
      "        Coupled Groundwater and Surface-water FLOW model (GSFLOW)\n",
      "                         Version 1.2.2 02/23/2018\n",
      "\n",
      "    An integration of the Precipitation-Runoff Modeling System (PRMS)\n",
      "    and the Modular Groundwater Model (MODFLOW-NWT and MODFLOW-2005)\n",
      "\n",
      "\n",
      "                               MODFLOW-NWT \n",
      "  U.S. GEOLOGICAL SURVEY MODULAR FINITE-DIFFERENCE GROUNDWATER-FLOW MODEL\n",
      "                         WITH NEWTON FORMULATION\n",
      "                         VERSION 1.1.3, 8/01/2017 \n",
      "              BASED ON MODFLOW-2005 VERSION 1.11.0 08/08/2013\n",
      "\n",
      " WARNING, map_results requested with nmapOutVars equal 0\n",
      " no map_results output is produced\n",
      "\n",
      "WARNING, modflow_time_zero not specified, set to start_time\n",
      "\n",
      "Steady state simulation successful, used:    47 iterations\n",
      "\n",
      "Simulation time period: 1982/08/01 - 1997/03/31\n",
      "\n",
      "====================================================================\n",
      "\n",
      "\n",
      " Run end date and time (yyyy/mm/dd hh:mm:ss): 2022/01/11 13:56:48\n",
      " Elapsed run time:  3 Minutes,  6.550 Seconds\n",
      "\n",
      " Number of time steps:   5357;  Number of non-convergence:   0\n",
      " MF iterations:          7992;  SZ iterations:            7992\n",
      " Average MF iterations:  1.49;  Average SZ iterations:    1.49\n",
      " Maximum MF iterations:    15;  Maximum SZ iterations:      15\n",
      "\n",
      "  Normal termination of simulation\n",
      "\n",
      "WARNING: dimension 'nlake_hrus' is not required; file is saghen_new_par_0.params; line number 38\n",
      "\n",
      "WARNING: parameter 'gwflow_coef' is not required; file is saghen_new_par_0.params; line number 6624\n",
      "\n",
      "WARNING: parameter 'hru_tlaps' is not required; file is saghen_new_par_0.params; line number 19579\n",
      "\n",
      "WARNING: parameter 'gw_down_id' is not required; file is saghen_new_par_1.params; line number 6498\n",
      "\n",
      "WARNING: parameter 'gw_pct_up' is not required; file is saghen_new_par_1.params; line number 18682\n",
      "\n",
      "WARNING: parameter 'gw_strmseg_down_id' is not required; file is saghen_new_par_1.params; line number 30866\n",
      "\n",
      "WARNING: parameter 'gw_up_id' is not required; file is saghen_new_par_1.params; line number 43050\n",
      "\n",
      "WARNING: parameter 'gwsink_coef' is not required; file is saghen_new_par_2.params; line number 102\n",
      "\n",
      "WARNING: parameter 'gwstor_init' is not required; file is saghen_new_par_2.params; line number 109\n",
      "\n",
      "WARNING: parameter 'gwstor_min' is not required; file is saghen_new_par_2.params; line number 116\n",
      "\n",
      "WARNING: parameter 'mapvars_freq' is not required; file is saghen_new_par_2.params; line number 137\n",
      "\n",
      "WARNING: parameter 'mapvars_units' is not required; file is saghen_new_par_2.params; line number 144\n",
      "\n",
      "WARNING: parameter 'outlet_sta' is not required; file is saghen_new_par_2.params; line number 172\n",
      "\n",
      "WARNING: parameter 'print_freq' is not required; file is saghen_new_par_2.params; line number 211\n",
      "\n",
      "WARNING: parameter 'print_type' is not required; file is saghen_new_par_2.params; line number 218\n",
      "\n",
      "WARNING: parameter 'prms_warmup' is not required; file is saghen_new_par_2.params; line number 225\n",
      "\n",
      "WARNING: parameter 'lake_hru_id' is not required; file is saghen_new_par_3.params; line number 71217\n",
      "\n",
      "WARNING: parameter mxsziter is used by module gsflow_prms but values are not\n",
      "         set in the Parameter File. Module default values are being used.\n",
      "\n",
      "WARNING: parameter snowpack_init is used by module snowcomp but values are not\n",
      "         set in the Parameter File. Module default values are being used.\n",
      "\n",
      "WARNING: parameter id_obsrunoff is used by module gsflow_sum but values are not\n",
      "         set in the Parameter File. Module default values are being used.\n"
     ]
    },
    {
     "data": {
      "text/plain": [
       "(True, [])"
      ]
     },
     "execution_count": 6,
     "metadata": {},
     "output_type": "execute_result"
    }
   ],
   "source": [
    "gsf = gsflow.GsflowModel.load_from_file(control_file, gsflow_exe=exe_name)\n",
    "gsf.run_model()"
   ]
  },
  {
   "cell_type": "markdown",
   "metadata": {},
   "source": [
    "## Loading common output files"
   ]
  },
  {
   "cell_type": "markdown",
   "metadata": {},
   "source": [
    "### stat var file"
   ]
  },
  {
   "cell_type": "code",
   "execution_count": 7,
   "metadata": {},
   "outputs": [
    {
     "name": "stdout",
     "output_type": "stream",
     "text": [
      "Loading the statvar output file .....\n",
      "Finished Load the statvar output file .....\n"
     ]
    }
   ],
   "source": [
    "stat_var = gsf.prms.get_StatVar()"
   ]
  },
  {
   "cell_type": "markdown",
   "metadata": {},
   "source": [
    "### gsflow.csv"
   ]
  },
  {
   "cell_type": "code",
   "execution_count": 8,
   "metadata": {},
   "outputs": [],
   "source": [
    "csv_name = os.path.join(model_ws, \"saghen_new_csv_output.csv\")\n",
    "df = pd.read_csv(csv_name)"
   ]
  },
  {
   "cell_type": "markdown",
   "metadata": {},
   "source": [
    "### head file"
   ]
  },
  {
   "cell_type": "code",
   "execution_count": 9,
   "metadata": {},
   "outputs": [],
   "source": [
    "head_name = os.path.join(model_ws, \"saghen_new.hds\")\n",
    "head = flopy.utils.HeadFile(head_name)"
   ]
  },
  {
   "cell_type": "markdown",
   "metadata": {},
   "source": [
    "### budget file"
   ]
  },
  {
   "cell_type": "code",
   "execution_count": 10,
   "metadata": {},
   "outputs": [],
   "source": [
    "cbc_name = os.path.join(model_ws, \"saghen_new.cbc\")\n",
    "cbc = flopy.utils.CellBudgetFile(cbc_name)"
   ]
  },
  {
   "cell_type": "markdown",
   "metadata": {},
   "source": [
    "## Create an empty GsflowModel object for building a new model"
   ]
  },
  {
   "cell_type": "code",
   "execution_count": 11,
   "metadata": {},
   "outputs": [
    {
     "name": "stderr",
     "output_type": "stream",
     "text": [
      "gsflow.py:97: UserWarning: prms is not a PrmsModel object, skipping...\n",
      "gsflow.py:110: UserWarning: modflow is not a gsflow.modflow.Modflow object, skipping...\n"
     ]
    }
   ],
   "source": [
    "control = gsflow.ControlFile(records_list=[])\n",
    "gsf = gsflow.GsflowModel(control)"
   ]
  }
 ],
 "metadata": {
  "kernelspec": {
   "display_name": "Python 3 (ipykernel)",
   "language": "python",
   "name": "python3"
  },
  "language_info": {
   "codemirror_mode": {
    "name": "ipython",
    "version": 3
   },
   "file_extension": ".py",
   "mimetype": "text/x-python",
   "name": "python",
   "nbconvert_exporter": "python",
   "pygments_lexer": "ipython3",
   "version": "3.8.18"
  }
 },
 "nbformat": 4,
 "nbformat_minor": 2
}
