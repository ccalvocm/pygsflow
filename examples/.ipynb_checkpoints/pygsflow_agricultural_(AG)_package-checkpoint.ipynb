{
 "cells": [
  {
   "cell_type": "markdown",
   "metadata": {},
   "source": [
    "# MODFLOW-NWT Agricultural Water Use package (AG) example\n",
    "\n",
    "The Agricultural water use package allows users to specify irrigation from wells and stream segments within MODFLOW-NWT and GSFLOW.\n",
    "\n",
    "In this notebook examples of how to read in the AG package using pygsflow are presented"
   ]
  },
  {
   "cell_type": "code",
   "execution_count": 1,
   "metadata": {},
   "outputs": [],
   "source": [
    "import os\n",
    "import gsflow\n",
    "import flopy\n",
    "import numpy as np\n",
    "import matplotlib.pyplot as plt"
   ]
  },
  {
   "cell_type": "markdown",
   "metadata": {},
   "source": [
    "## Loading a pre-built AG package file\n",
    "\n",
    "We can load the AG package as part of a GSFLOW or modflow model automatically, or load the AG package individually using the `ModflowAg` class.\n",
    "\n",
    "Here we present the second option for illustration."
   ]
  },
  {
   "cell_type": "code",
   "execution_count": 2,
   "metadata": {},
   "outputs": [],
   "source": [
    "# define workspace and our ag_file name\n",
    "workspace = os.path.join(\".\", \"data\", \"sagehen\", \"modflow\")\n",
    "ag_file = \"sagehen.awu\"\n",
    "dis_file = \"saghen_ag.dis\""
   ]
  },
  {
   "cell_type": "markdown",
   "metadata": {},
   "source": [
    "Let's create an empty `Modflow` model object so we can begin adding packages to it"
   ]
  },
  {
   "cell_type": "code",
   "execution_count": 3,
   "metadata": {},
   "outputs": [
    {
     "data": {
      "text/plain": [
       "MODFLOW 0 layer(s) 0 row(s) 0 column(s) 0 stress period(s)"
      ]
     },
     "execution_count": 3,
     "metadata": {},
     "output_type": "execute_result"
    }
   ],
   "source": [
    "ml = gsflow.modflow.Modflow(modelname=\"sagehen_example\", model_ws=workspace)\n",
    "ml"
   ]
  },
  {
   "cell_type": "markdown",
   "metadata": {},
   "source": [
    "Next we can add the DIS file to the `Modflow` object. This will give us information about the model size, and the length of the model. \n",
    "\n",
    "### Note: We are going to use `flopy` to read in the dis file and add it to the `Modflow` object"
   ]
  },
  {
   "cell_type": "code",
   "execution_count": 4,
   "metadata": {},
   "outputs": [
    {
     "data": {
      "text/plain": [
       "MODFLOW 2 layer(s) 77 row(s) 84 column(s) 344 stress period(s)"
      ]
     },
     "execution_count": 4,
     "metadata": {},
     "output_type": "execute_result"
    }
   ],
   "source": [
    "dis = flopy.modflow.ModflowDis.load(os.path.join(workspace, dis_file), model=ml)\n",
    "ml"
   ]
  },
  {
   "cell_type": "markdown",
   "metadata": {},
   "source": [
    "From the output, we can see that the `ModflowDis` object has been loaded and added to the `Modflow` model\n",
    "\n",
    "### Now let's load the AG package using pygsflow's `ModflowAG.load()` method\n",
    "\n",
    "The `load()` method has a few important parameters.\n",
    "\n",
    "   - `f` : the AG package file name\n",
    "   - `model` : the `gsflow.modflow.Modflow` model object\n",
    "   - `nper` : number of stress periods in the model\n"
   ]
  },
  {
   "cell_type": "code",
   "execution_count": 5,
   "metadata": {},
   "outputs": [
    {
     "data": {
      "text/plain": [
       "rec.array([(1, 38, 53, -500.), (1, 37, 50, -500.), (1, 37, 51, -500.),\n",
       "           (1, 37, 52, -500.), (1, 37, 54, -500.), (1, 37, 55, -500.),\n",
       "           (1, 37, 56, -500.), (1, 37, 57, -500.), (1, 37, 58, -500.),\n",
       "           (1, 36, 50, -500.), (1, 36, 51, -500.), (1, 36, 52, -500.),\n",
       "           (1, 36, 55, -500.), (1, 35, 50, -500.), (1, 35, 56, -500.),\n",
       "           (1, 35, 57, -500.), (1, 35, 58, -500.), (1, 34, 52, -500.),\n",
       "           (1, 34, 53, -500.), (1, 34, 55, -500.), (1, 34, 56, -500.),\n",
       "           (1, 34, 57, -500.), (1, 34, 58, -500.), (1, 33, 48, -500.),\n",
       "           (1, 33, 49, -500.), (1, 33, 50, -500.), (1, 33, 51, -500.),\n",
       "           (1, 33, 52, -500.), (1, 33, 54, -500.), (1, 33, 55, -500.),\n",
       "           (1, 33, 56, -500.), (1, 33, 57, -500.), (1, 33, 58, -500.),\n",
       "           (1, 33, 53, -500.)],\n",
       "          dtype=[('k', '<i4'), ('i', '<i4'), ('j', '<i4'), ('flux', '<f8')])"
      ]
     },
     "execution_count": 5,
     "metadata": {},
     "output_type": "execute_result"
    }
   ],
   "source": [
    "ag = gsflow.modflow.ModflowAg.load(os.path.join(workspace, ag_file), model=ml, nper=dis.nper)\n",
    "# now let's look at the well_list\n",
    "ag.well_list"
   ]
  },
  {
   "cell_type": "markdown",
   "metadata": {},
   "source": [
    "### the well_list is stored as a flopy compatible recarray, we can also look at some of the other datatypes\n",
    "\n",
    "other datatypes include:\n",
    "\n",
    "   - `irrdiversion` which hold the irrdiversion blocks from the AG package\n",
    "   - `irrwell` which holds the irrwell blocks from the AG package\n",
    "   - `supwell` which holds the supwell blocks from the AG package"
   ]
  },
  {
   "cell_type": "code",
   "execution_count": 6,
   "metadata": {},
   "outputs": [
    {
     "name": "stdout",
     "output_type": "stream",
     "text": [
      "[( 0, 1, 0., 0., 3055, -1, 1., 0.85) ( 1, 1, 0., 0., 2973, -1, 1., 0.85)\n",
      " ( 2, 1, 0., 0., 2974, -1, 1., 0.85) ( 3, 1, 0., 0., 2975, -1, 1., 0.85)\n",
      " ( 4, 1, 0., 0., 2977, -1, 1., 0.85) ( 5, 1, 0., 0., 2978, -1, 1., 0.85)\n",
      " ( 6, 1, 0., 0., 2979, -1, 1., 0.85) ( 7, 1, 0., 0., 2980, -1, 1., 0.85)\n",
      " ( 8, 1, 0., 0., 2981, -1, 1., 0.85) ( 9, 1, 0., 0., 2894, -1, 1., 0.85)\n",
      " (10, 1, 0., 0., 2895, -1, 1., 0.85) (11, 1, 0., 0., 2896, -1, 1., 0.85)\n",
      " (12, 1, 0., 0., 2899, -1, 1., 0.85) (13, 1, 0., 0., 2815, -1, 1., 0.85)\n",
      " (14, 1, 0., 0., 2821, -1, 1., 0.85) (15, 1, 0., 0., 2822, -1, 1., 0.85)\n",
      " (16, 1, 0., 0., 2823, -1, 1., 0.85) (17, 1, 0., 0., 2738, -1, 1., 0.85)\n",
      " (18, 1, 0., 0., 2739, -1, 1., 0.85) (19, 1, 0., 0., 2741, -1, 1., 0.85)\n",
      " (20, 1, 0., 0., 2742, -1, 1., 0.85) (21, 1, 0., 0., 2743, -1, 1., 0.85)\n",
      " (22, 1, 0., 0., 2744, -1, 1., 0.85) (23, 1, 0., 0., 2655, -1, 1., 0.85)\n",
      " (24, 1, 0., 0., 2656, -1, 1., 0.85) (25, 1, 0., 0., 2657, -1, 1., 0.85)\n",
      " (26, 1, 0., 0., 2658, -1, 1., 0.85) (27, 1, 0., 0., 2659, -1, 1., 0.85)\n",
      " (28, 1, 0., 0., 2661, -1, 1., 0.85) (29, 1, 0., 0., 2662, -1, 1., 0.85)\n",
      " (30, 1, 0., 0., 2663, -1, 1., 0.85) (31, 1, 0., 0., 2664, -1, 1., 0.85)\n",
      " (32, 1, 0., 0., 2665, -1, 1., 0.85) (33, 1, 0., 0., 2660, -1, 1., 0.85)]\n"
     ]
    }
   ],
   "source": [
    "# irrdiversion\n",
    "irs = ag.irrdiversion\n",
    "\n",
    "# irrwell\n",
    "irr = ag.irrwell\n",
    "\n",
    "# supwell\n",
    "sup = ag.supwell\n",
    "\n",
    "print(irr[9])"
   ]
  },
  {
   "cell_type": "markdown",
   "metadata": {},
   "source": [
    "## Now let's illustrate how to build an AG package from scratch\n",
    "\n",
    "First let's get some empty data-types to store data in using `ModflowAg.get_empty()`"
   ]
  },
  {
   "cell_type": "code",
   "execution_count": 7,
   "metadata": {},
   "outputs": [],
   "source": [
    "well_list = gsflow.modflow.ModflowAg.get_empty(numrecords=2, block=\"well\")"
   ]
  },
  {
   "cell_type": "markdown",
   "metadata": {},
   "source": [
    "Let's create 2 wells now and add it to our well_list "
   ]
  },
  {
   "cell_type": "code",
   "execution_count": 8,
   "metadata": {},
   "outputs": [
    {
     "data": {
      "text/plain": [
       "rec.array([(1, 38, 53,  -500.), (1, 38, 54, -1000.)],\n",
       "          dtype=[('k', '<i4'), ('i', '<i4'), ('j', '<i4'), ('flux', '<f8')])"
      ]
     },
     "execution_count": 8,
     "metadata": {},
     "output_type": "execute_result"
    }
   ],
   "source": [
    "# layer, row, column, maximum_flux\n",
    "temp = [[1, 38, 53, -500.],\n",
    "        [1, 38, 54, -1000.]]\n",
    "\n",
    "for ix, well in enumerate(temp):\n",
    "    well_list[ix] = tuple(well)\n",
    "    \n",
    "well_list"
   ]
  },
  {
   "cell_type": "markdown",
   "metadata": {},
   "source": [
    "Now let's create two irrigation cells that are linked to our wells"
   ]
  },
  {
   "cell_type": "code",
   "execution_count": 9,
   "metadata": {},
   "outputs": [
    {
     "data": {
      "text/plain": [
       "('wellid',\n",
       " 'numcell',\n",
       " 'period',\n",
       " 'triggerfact',\n",
       " 'hru_id0',\n",
       " 'dum0',\n",
       " 'eff_fact0',\n",
       " 'field_fact0')"
      ]
     },
     "execution_count": 9,
     "metadata": {},
     "output_type": "execute_result"
    }
   ],
   "source": [
    "irrwell0 = gsflow.modflow.ModflowAg.get_empty(numrecords=2, maxells=1, block=\"irrwell\")\n",
    "\n",
    "# let's look at the dtypes we need \n",
    "irrwell0.dtype.names"
   ]
  },
  {
   "cell_type": "markdown",
   "metadata": {},
   "source": [
    "Let's create two irrigation cell links and add it to our irrwell\n",
    "\n",
    "Note: -1e+10 and 1e+10 are used to indicate that there is no data for this (unused variables), see Agricultural Water Use Package for MODFLOW-NWT for more infromation about the variables... "
   ]
  },
  {
   "cell_type": "code",
   "execution_count": 10,
   "metadata": {},
   "outputs": [
    {
     "data": {
      "text/plain": [
       "rec.array([(1, 1, -1.e+10, 1.e+10, 2741, -1, 1., 0.5),\n",
       "           (2, 1, -1.e+10, 1.e+10, 2743, -1, 1., 0.5)],\n",
       "          dtype=[('wellid', '<i4'), ('numcell', '<i4'), ('period', '<f8'), ('triggerfact', '<f8'), ('hru_id0', '<i4'), ('dum0', '<i4'), ('eff_fact0', '<f8'), ('field_fact0', '<f8')])"
      ]
     },
     "execution_count": 10,
     "metadata": {},
     "output_type": "execute_result"
    }
   ],
   "source": [
    "# 'wellid', 'numcell', 'period', 'triggerfact', 'hru_id0', 'dum0', 'eff_fact0', 'field_fact0'\n",
    "temp = [[1, 1, -1e+10, 1e+10, 2741, -1, 1., 0.5],\n",
    "        [2, 1, -1e+10, 1e+10, 2743, -1, 1., 0.5]]\n",
    "\n",
    "for ix, irr in enumerate(temp):\n",
    "    irrwell0[ix] = tuple(irr)\n",
    "\n",
    "irrwell0"
   ]
  },
  {
   "cell_type": "markdown",
   "metadata": {},
   "source": [
    "Since irrwell is stress period data, this needs to be made for each stress period in the model and placed in a dictionary with the format `{kper : data}`\n",
    "\n",
    "We are just going to reuse the same dataset for a three stress period example"
   ]
  },
  {
   "cell_type": "code",
   "execution_count": 11,
   "metadata": {
    "scrolled": true
   },
   "outputs": [
    {
     "data": {
      "text/plain": [
       "{0: rec.array([(1, 1, -1.e+10, 1.e+10, 2741, -1, 1., 0.5),\n",
       "            (2, 1, -1.e+10, 1.e+10, 2743, -1, 1., 0.5)],\n",
       "           dtype=[('wellid', '<i4'), ('numcell', '<i4'), ('period', '<f8'), ('triggerfact', '<f8'), ('hru_id0', '<i4'), ('dum0', '<i4'), ('eff_fact0', '<f8'), ('field_fact0', '<f8')]),\n",
       " 1: rec.array([(1, 1, -1.e+10, 1.e+10, 2741, -1, 1., 0.5),\n",
       "            (2, 1, -1.e+10, 1.e+10, 2743, -1, 1., 0.5)],\n",
       "           dtype=[('wellid', '<i4'), ('numcell', '<i4'), ('period', '<f8'), ('triggerfact', '<f8'), ('hru_id0', '<i4'), ('dum0', '<i4'), ('eff_fact0', '<f8'), ('field_fact0', '<f8')]),\n",
       " 2: rec.array([(1, 1, -1.e+10, 1.e+10, 2741, -1, 1., 0.5),\n",
       "            (2, 1, -1.e+10, 1.e+10, 2743, -1, 1., 0.5)],\n",
       "           dtype=[('wellid', '<i4'), ('numcell', '<i4'), ('period', '<f8'), ('triggerfact', '<f8'), ('hru_id0', '<i4'), ('dum0', '<i4'), ('eff_fact0', '<f8'), ('field_fact0', '<f8')])}"
      ]
     },
     "execution_count": 11,
     "metadata": {},
     "output_type": "execute_result"
    }
   ],
   "source": [
    "kper = 3\n",
    "\n",
    "irrwell = {}\n",
    "for per in range(kper):\n",
    "    irrwell[per] = irrwell0\n",
    "    \n",
    "irrwell"
   ]
  },
  {
   "cell_type": "markdown",
   "metadata": {},
   "source": [
    "# Now let's start building our new `ModflowAg` object using the data we just created\n",
    "\n",
    "### We will need to start by specifying the option block using the `OptionBlock` utility in FloPy\n",
    "\n",
    "let's create an empty options block and start filling out the data"
   ]
  },
  {
   "cell_type": "code",
   "execution_count": 12,
   "metadata": {},
   "outputs": [
    {
     "data": {
      "text/plain": [
       "OPTIONS\n",
       "END"
      ]
     },
     "execution_count": 12,
     "metadata": {},
     "output_type": "execute_result"
    }
   ],
   "source": [
    "options = flopy.utils.OptionBlock(options_line=\"\", package=gsflow.modflow.ModflowAg)\n",
    "options"
   ]
  },
  {
   "cell_type": "markdown",
   "metadata": {},
   "source": [
    "First let's specify the number of wells in the AG package (see Agricultural Water Use Package doc, for variable names)"
   ]
  },
  {
   "cell_type": "code",
   "execution_count": 13,
   "metadata": {},
   "outputs": [
    {
     "name": "stdout",
     "output_type": "stream",
     "text": [
      "OPTIONS\n",
      "MAXWELLS 2\n",
      "END\n",
      "\n"
     ]
    }
   ],
   "source": [
    "options.maxwells = True\n",
    "options.nummaxwell = 2\n",
    "\n",
    "# we can see that the maxwell option and nummaxwell have been added to the options block\n",
    "print(options)"
   ]
  },
  {
   "cell_type": "markdown",
   "metadata": {},
   "source": [
    "Now let's specify our irriagation well information"
   ]
  },
  {
   "cell_type": "code",
   "execution_count": 14,
   "metadata": {},
   "outputs": [
    {
     "data": {
      "text/plain": [
       "OPTIONS\n",
       "IRRIGATION_WELL 2 1\n",
       "MAXWELLS 2\n",
       "END"
      ]
     },
     "execution_count": 14,
     "metadata": {},
     "output_type": "execute_result"
    }
   ],
   "source": [
    "options.irrigation_well = True\n",
    "options.numirrwells = 2\n",
    "options.maxcellswell = 1\n",
    "\n",
    "options"
   ]
  },
  {
   "cell_type": "markdown",
   "metadata": {},
   "source": [
    "Finally let's specify the unit number to write CBC output for wells to "
   ]
  },
  {
   "cell_type": "code",
   "execution_count": 15,
   "metadata": {},
   "outputs": [
    {
     "data": {
      "text/plain": [
       "OPTIONS\n",
       "IRRIGATION_WELL 2 1\n",
       "MAXWELLS 2\n",
       "WELLCBC 99\n",
       "END"
      ]
     },
     "execution_count": 15,
     "metadata": {},
     "output_type": "execute_result"
    }
   ],
   "source": [
    "options.wellcbc = True\n",
    "options.unitcbc = 99\n",
    "\n",
    "options"
   ]
  },
  {
   "cell_type": "markdown",
   "metadata": {},
   "source": [
    "### Now we're ready to create our new `ModflowAg` package object"
   ]
  },
  {
   "cell_type": "code",
   "execution_count": 16,
   "metadata": {},
   "outputs": [
    {
     "data": {
      "text/plain": [
       "\n",
       "    The ModflowAg class is used to build read, write, and edit data\n",
       "    from the MODFLOW-NWT AG package.\n",
       "\n",
       "    Parameters\n",
       "    ----------\n",
       "    model : gsflow.modflow.Modflow object\n",
       "        model object\n",
       "    options : flopy.utils.OptionBlock object\n",
       "        option block object\n",
       "    time_series : np.recarray\n",
       "        numpy recarray for the time series block\n",
       "    well_list : np.recarray\n",
       "        recarray of the well_list block\n",
       "    irrdiversion : dict {per: np.recarray}\n",
       "        dictionary of the irrdiversion block\n",
       "    irrwell : dict {per: np.recarray}\n",
       "        dictionary of the irrwell block\n",
       "    irrpond : dict {per: np.recarray}\n",
       "        dictionary of the irrpond block\n",
       "    supwell : dict {per: np.recarray}\n",
       "        dictionary of the supwell block\n",
       "    extension : str, optional\n",
       "        default is .ag\n",
       "    unitnumber : list, optional\n",
       "        fortran unit number for modflow, default 69\n",
       "    filenames : list, optional\n",
       "        file name for ModflowAwu package to write input\n",
       "    nper : int\n",
       "        number of stress periods in the model\n",
       "\n",
       "    Examples\n",
       "    --------\n",
       "\n",
       "    load a ModflowAg file\n",
       "\n",
       "    >>> import gsflow\n",
       "    >>> ml = gsflow.modflow.Modflow('agtest')\n",
       "    >>> ag = gsflow.modflow.ModflowAg.load('test.g', ml, nper=2)\n",
       "\n",
       "     _name = AG\n",
       " _nper = 344 ('int)\n",
       " _parent = MODFLOW 2 layer(s) 77 row(s) 84 column(s) 344 stress period(s) ('gsflow.modflow.mf.Modflow)\n",
       " accel = None ('NoneType)\n",
       " acceptable_dtypes (list, items = 3)\n",
       " allowDuplicates = False ('bool)\n",
       " diversionirrlist = False ('bool)\n",
       " diversionlist = False ('bool)\n",
       " etdemand = False ('bool)\n",
       " file_name = sagehen_example.ag\n",
       " fn_path = .\\data\\sagehen\\modflow\\sagehen_example.ag ('str)\n",
       " irrdiversion = None ('NoneType)\n",
       " irrigation_diversion = False ('bool)\n",
       " irrigation_pond = False ('bool)\n",
       " irrigation_well = True ('bool)\n",
       " irrpond = None ('NoneType)\n",
       " irrwell = {0: rec.array([(1, 1, -1.e+10, 1.e+10, 2741, -1, 1., 0.5),\n",
       "           (2, 1, -1.e+10, 1.e+10, 2743, -1, 1., 0.5)],\n",
       "          dtype=[('wellid', '<i4'), ('numcell', '<i4'), ('period', '<f8'), ('triggerfact', '<f8'), ('hru_id0', '<i4'), ('dum0', '<i4'), ('eff_fact0', '<f8'), ('field_fact0', '<f8')]), 1: rec.array([(1, 1, -1.e+10, 1.e+10, 2741, -1, 1., 0.5),\n",
       "           (2, 1, -1.e+10, 1.e+10, 2743, -1, 1., 0.5)],\n",
       "          dtype=[('wellid', '<i4'), ('numcell', '<i4'), ('period', '<f8'), ('triggerfact', '<f8'), ('hru_id0', '<i4'), ('dum0', '<i4'), ('eff_fact0', '<f8'), ('field_fact0', '<f8')]), 2: rec.array([(1, 1, -1.e+10, 1.e+10, 2741, -1, 1., 0.5),\n",
       "           (2, 1, -1.e+10, 1.e+10, 2743, -1, 1., 0.5)],\n",
       "          dtype=[('wellid', '<i4'), ('numcell', '<i4'), ('period', '<f8'), ('triggerfact', '<f8'), ('hru_id0', '<i4'), ('dum0', '<i4'), ('eff_fact0', '<f8'), ('field_fact0', '<f8')])} ('dict)\n",
       " maxcellsdiversion = None ('NoneType)\n",
       " maxcellspond = None ('NoneType)\n",
       " maxcellswell = 1 ('int)\n",
       " maxdiversions = None ('NoneType)\n",
       " maxponds = False ('bool)\n",
       " maxval = None ('NoneType)\n",
       " maxvalpond = None ('NoneType)\n",
       " maxvalwell = None ('NoneType)\n",
       " maxwells = True ('bool)\n",
       " noprint = False ('bool)\n",
       " numirrdiversions = None ('NoneType)\n",
       " numirrponds = None ('NoneType)\n",
       " numirrwells = 2 ('int)\n",
       " nummaxpond = None ('NoneType)\n",
       " nummaxwell = 2 ('int)\n",
       " numsupwells = None ('NoneType)\n",
       " numtab = None ('NoneType)\n",
       " numtabpond = None ('NoneType)\n",
       " numtabwell = None ('NoneType)\n",
       " options = OPTIONS\n",
       "IRRIGATION_WELL 2 1\n",
       "MAXWELLS 2\n",
       "WELLCBC 99\n",
       "END\n",
       " ('flopy.utils.optionblock.OptionBlock)\n",
       " phiramp = False ('bool)\n",
       " pond_list = None ('NoneType)\n",
       " pondirrlist = False ('bool)\n",
       " pondlist = False ('bool)\n",
       " supplemental_well = False ('bool)\n",
       " supwell = None ('NoneType)\n",
       " tabfiles = False ('bool)\n",
       " tabfilespond = False ('bool)\n",
       " tabfileswell = False ('bool)\n",
       " time_series = None ('NoneType)\n",
       " timeseries_diversion = False ('bool)\n",
       " timeseries_diversionet = False ('bool)\n",
       " timeseries_pond = False ('bool)\n",
       " timeseries_pondet = False ('bool)\n",
       " timeseries_well = False ('bool)\n",
       " timeseries_wellet = False ('bool)\n",
       " trigger = False ('bool)\n",
       " unit_diversionirrlist = None ('NoneType)\n",
       " unit_diversionlist = None ('NoneType)\n",
       " unit_number = 37\n",
       " unit_pondirrlist = None ('NoneType)\n",
       " unit_pondlist = None ('NoneType)\n",
       " unit_wellirrlist = None ('NoneType)\n",
       " unit_welllist = None ('NoneType)\n",
       " unitcbc = 99 ('int)\n",
       " well_list (array, shape = 2,)\n",
       " wellcbc = True ('bool)\n",
       " wellirrlist = False ('bool)\n",
       " welllist = False ('bool)"
      ]
     },
     "execution_count": 16,
     "metadata": {},
     "output_type": "execute_result"
    }
   ],
   "source": [
    "new_ag = gsflow.modflow.ModflowAg(ml, options=options, well_list=well_list, irrwell=irrwell)\n",
    "new_ag"
   ]
  },
  {
   "cell_type": "markdown",
   "metadata": {},
   "source": [
    "### Finally we can write the new_file to disk"
   ]
  },
  {
   "cell_type": "code",
   "execution_count": 17,
   "metadata": {},
   "outputs": [],
   "source": [
    "new_ag.write_file()"
   ]
  },
  {
   "cell_type": "code",
   "execution_count": null,
   "metadata": {},
   "outputs": [],
   "source": []
  }
 ],
 "metadata": {
  "kernelspec": {
   "display_name": "Python 3 (ipykernel)",
   "language": "python",
   "name": "python3"
  },
  "language_info": {
   "codemirror_mode": {
    "name": "ipython",
    "version": 3
   },
   "file_extension": ".py",
   "mimetype": "text/x-python",
   "name": "python",
   "nbconvert_exporter": "python",
   "pygments_lexer": "ipython3",
   "version": "3.8.18"
  }
 },
 "nbformat": 4,
 "nbformat_minor": 2
}
