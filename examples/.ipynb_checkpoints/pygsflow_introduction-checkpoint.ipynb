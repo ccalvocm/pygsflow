{
 "cells": [
  {
   "cell_type": "markdown",
   "metadata": {},
   "source": [
    "<img src = \"./figures/motto2.PNG\">\n",
    " \n",
    " \n",
    "# Introduction to PyGSFLOW\n",
    "\n",
    "Simulating integrated hydrological systems requires working with a large set of input parameters and output variables that are saved in several files. Thus, changing input parameters and reading output can be laborious task. This is particularly true in  model calibration and sensitivity and uncertainty analysis. \n",
    "\n",
    "[pyGSFLOW](https://github.com/usgs-pygsflow/pygsflow) allows modeler to focus on the hydrologic aspect of the problem as it simplifies most of modeling operations such as modifying model input files, running the model, and reading and processing the model. PyGSFLOW uses [FloPy](https://github.com/modflowpy/flopy) (Bakker and others, 2021) to work with MODFLOW files.   \n",
    "\n",
    "This notebook illustrates some of the basic elements of pyGSFLOW. "
   ]
  },
  {
   "cell_type": "code",
   "execution_count": 1,
   "metadata": {},
   "outputs": [],
   "source": [
    "try:\n",
    "    import gsflow\n",
    "except ImportError:\n",
    "    import os, sys\n",
    "    import subprocess\n",
    "    python_exe = sys.executable\n",
    "    current_dir = os.getcwd()\n",
    "    package_location = \"..\"\n",
    "    os.chdir(package_location)\n",
    "    cmd = python_exe + \" setup.py install\"\n",
    "    result = subprocess.check_output(cmd, shell=True)\n",
    "    os.chdir(current_dir)\n",
    "    print(result)"
   ]
  },
  {
   "cell_type": "code",
   "execution_count": 2,
   "metadata": {},
   "outputs": [],
   "source": [
    "from gsflow import GsflowModel\n",
    "import os, sys\n",
    "import numpy as np\n",
    "import matplotlib.pyplot as plt\n",
    "from pandas.plotting import register_matplotlib_converters\n",
    "register_matplotlib_converters()"
   ]
  },
  {
   "cell_type": "markdown",
   "metadata": {},
   "source": [
    "## pyGSFLOW in a nutshell\n",
    "pyGSFLOW consists of three main components (See Figures below). These components are:\n",
    "\n",
    "    (1) A Control class,  \n",
    "    (2) a PRMS class,  \n",
    "    (3) the Flopy package, with some GSFLOW specific overrides.\n",
    "\n",
    "The Control class handles operations and information related the control file. \n",
    "\n",
    "The PRMS object wraps a number of other classes such as:\n",
    "    \n",
    "    (1) the Parameters Class that handles all PRMS parameters that can be saved in one (or more) files,\n",
    "    (2) the Data class that handles climate station data information.\n",
    "    (3) The Day class that handles climate by hru files\n",
    "    (4) Output modules that handle some of the PRMS output. \n",
    "    \n",
    "     \n",
    "The [FloPy](https://github.com/modflowpy/flopy) package (called from the `mf` attribute in pyGSFLOW) is used to handle data and operations related to MODFLOW. \n",
    "\n",
    "<img src = \"./figures/pyGSFLOW_processes.PNG\">\n",
    " \n",
    "### Accessing Data in pyGSFLOW -- The Big Picture\n",
    "\n",
    "To access any piece information within the GSFLOW model the user can use an object oriented approach starting from the main class Gsflow. The following figure illustrates how this can be accomplished\n",
    " \n",
    "<img src = \"./figures/pyGSFLOW_processes2.PNG\">\n",
    "  \n",
    " \n",
    " \n"
   ]
  },
  {
   "cell_type": "markdown",
   "metadata": {},
   "source": [
    "<img src = \"./figures/warning.PNG\"> \n",
    "\n",
    "__Note__: PyGSLFOW is still under development and updates are occuring regularly. \n",
    "\n",
    "Some of the features that are not supported includes:\n",
    "\n",
    "    (1) Reading and processing animation files and PRMS budget files,\n",
    "    (2) Tools to check for user errors in input files. \n",
    "\n",
    "Some of the tools that are currently in development:\n",
    "    \n",
    "    (1) builder classes to rapidly go from raster data to model\n",
    "    (2) additional output readers\n",
    "    (3) improved methods to handle prms discretization\n",
    "    \n",
    "Features that are included, but in their alpha version:\n",
    "    \n",
    "    (1) prms dynamic parameters\n",
    "    (2) prms day file (climate by hru) support\n"
   ]
  },
  {
   "cell_type": "markdown",
   "metadata": {},
   "source": [
    "## Example\n",
    "\n",
    "### (1) Loading an existing GSFLOW model \n",
    "\n",
    "Let's start by loading an existing GSFLOW model. To do so we need to pass the control file to the `GsflowModel` class that will load information stored in the model input files.\n",
    "\n",
    "To do this the method `GsflowModel.load_from_file()` is used. This method has a few parameters including:\n",
    "   - `control_file`: gsflow control file name\n",
    "   - `gsflow_exe`: optional, gsflow executable file path\n",
    "   - `modflow_only`: bool, if True only modflow files will be loaded, default is False\n",
    "   - `prms_only`: bool, if True only prms files will be loaded, default is False\n",
    "   - `mf_load_only`: optional, list of Modflow package names to load\n",
    "   - `forgive`: bool, if True pyGSFLOW will continue loading packages even if one does not load properly, default is False\n",
    "   - `model_ws`: optional, base directory path of the GSFLOW model\n"
   ]
  },
  {
   "cell_type": "code",
   "execution_count": 3,
   "metadata": {},
   "outputs": [
    {
     "name": "stdout",
     "output_type": "stream",
     "text": [
      "Control file is loaded\n",
      "Working on loading PRMS model ...\n",
      "Prms model loading ...\n",
      "------------------------------------\n",
      "Reading parameter file : calibration_parameters.param\n",
      "------------------------------------\n",
      "Warning: ncascade data type will be infered from data supplied\n",
      "Warning: ncascdgw data type will be infered from data supplied\n",
      "Warning: ndays data type will be infered from data supplied\n",
      "Warning: ndepl data type will be infered from data supplied\n",
      "Warning: ndeplval data type will be infered from data supplied\n",
      "Warning: nevap data type will be infered from data supplied\n",
      "Warning: ngw data type will be infered from data supplied\n",
      "Warning: ngwcell data type will be infered from data supplied\n",
      "Warning: nhru data type will be infered from data supplied\n",
      "Warning: nhrucell data type will be infered from data supplied\n",
      "Warning: nlake data type will be infered from data supplied\n",
      "Warning: nlake_hrus data type will be infered from data supplied\n",
      "Warning: nmonths data type will be infered from data supplied\n",
      "Warning: nobs data type will be infered from data supplied\n",
      "Warning: nrain data type will be infered from data supplied\n",
      "Warning: nreach data type will be infered from data supplied\n",
      "Warning: nsegment data type will be infered from data supplied\n",
      "Warning: nsnow data type will be infered from data supplied\n",
      "Warning: nsol data type will be infered from data supplied\n",
      "Warning: nssr data type will be infered from data supplied\n",
      "Warning: nsub data type will be infered from data supplied\n",
      "Warning: ntemp data type will be infered from data supplied\n",
      "Warning: one data type will be infered from data supplied\n",
      "------------------------------------\n",
      "Reading parameter file : cascade.param\n",
      "------------------------------------\n",
      "------------------------------------\n",
      "Reading parameter file : default_values.param\n",
      "------------------------------------\n",
      "------------------------------------\n",
      "Reading parameter file : gis_derived_parameters.param\n",
      "------------------------------------\n",
      "PRMS model loaded ...\n"
     ]
    }
   ],
   "source": [
    "control_file = os.path.join(\".\", \"data\", \"sagehen\", \"prms\", \"windows\", \"sagehen.control\")\n",
    "gsf = GsflowModel.load_from_file(control_file=control_file)"
   ]
  },
  {
   "cell_type": "markdown",
   "metadata": {},
   "source": [
    "### (2) Accessing data in GSFLOW inputs\n",
    "The `gsf` variable in the previous cell is a name for the `GsflowModel` object that holds information about the two components of GSFLOW : PRMS and MODFLOW. This example uses that variable to access data.\n",
    "\n",
    "### (2.a) Control Class \n",
    "Common methods and attributes the user can use to access control information include:\n",
    "\n",
    "   - `record_names`: list of all control file record names\n",
    "   - `get_record`: method that allows the user to get control file record object\n",
    "   - `get_values`: method that allows the user to get data from an existing control file record\n",
    "   - `set_values`: method that allows the user to update existing control file record data\n",
    "   - `add_record`: method that allows the user to add a new record to the control file\n",
    "   - `remove_record`: method that allows the user to remove a record from the control file"
   ]
  },
  {
   "cell_type": "markdown",
   "metadata": {},
   "source": [
    "#### Get a list of record names from the control file"
   ]
  },
  {
   "cell_type": "code",
   "execution_count": 4,
   "metadata": {},
   "outputs": [
    {
     "name": "stdout",
     "output_type": "stream",
     "text": [
      "['mapoutvar_names', 'nmapoutvars', 'mapouton_off', 'parameter_check_flag', 'prms_warmup']\n"
     ]
    }
   ],
   "source": [
    "control_names = gsf.control.record_names\n",
    "print(control_names[0:5])"
   ]
  },
  {
   "cell_type": "markdown",
   "metadata": {},
   "source": [
    "#### Get a control record and inspect it\n",
    "\n",
    "Note: printing a record will generate a GSFLOW control file entry"
   ]
  },
  {
   "cell_type": "code",
   "execution_count": 5,
   "metadata": {},
   "outputs": [
    {
     "name": "stdout",
     "output_type": "stream",
     "text": [
      "\n",
      "####\n",
      "et_module\n",
      "1\n",
      "4\n",
      "potet_jh\n",
      "####\n"
     ]
    }
   ],
   "source": [
    "# Assuming that we are interested in looking closer into ET Module \n",
    "et_module = gsf.control.get_record('et_module')\n",
    "print(et_module)"
   ]
  },
  {
   "cell_type": "markdown",
   "metadata": {},
   "source": [
    "_Note_ : when the output is large, pygsflow only prints the first 4 records to save space"
   ]
  },
  {
   "cell_type": "code",
   "execution_count": 6,
   "metadata": {},
   "outputs": [
    {
     "name": "stdout",
     "output_type": "stream",
     "text": [
      "\n",
      "####\n",
      "start_time\n",
      "6\n",
      "1\n",
      "1982\n",
      "8\n",
      "1\n",
      "0.\n",
      ".\n",
      ".\n",
      "####\n"
     ]
    }
   ],
   "source": [
    "start_date = gsf.control.get_record('start_time')\n",
    "print(start_date)"
   ]
  },
  {
   "cell_type": "markdown",
   "metadata": {},
   "source": [
    "#### Get the values from a control record\n",
    "\n",
    "Values in any record can be accessed using the `get_values()` method. "
   ]
  },
  {
   "cell_type": "code",
   "execution_count": 7,
   "metadata": {},
   "outputs": [
    {
     "data": {
      "text/plain": [
       "array([1982,    8,    1,    0,    0,    0])"
      ]
     },
     "execution_count": 7,
     "metadata": {},
     "output_type": "execute_result"
    }
   ],
   "source": [
    "start_time = gsf.control.get_values(\"start_time\")\n",
    "start_time"
   ]
  },
  {
   "cell_type": "markdown",
   "metadata": {},
   "source": [
    "#### Update the values of an existing record\n",
    "\n",
    "The `set_values()` method can be used to update record values "
   ]
  },
  {
   "cell_type": "code",
   "execution_count": 8,
   "metadata": {},
   "outputs": [
    {
     "name": "stdout",
     "output_type": "stream",
     "text": [
      "\n",
      "####\n",
      "start_time\n",
      "6\n",
      "1\n",
      "1990\n",
      "1\n",
      "1\n",
      "0.\n",
      ".\n",
      ".\n",
      "####\n"
     ]
    }
   ],
   "source": [
    "gsf.control.set_values(name='start_time', values=[1990,1,1,0,0,0])\n",
    "\n",
    "print(gsf.control.get_record(\"start_time\"))"
   ]
  },
  {
   "cell_type": "markdown",
   "metadata": {},
   "source": [
    "#### Adding a new record to the Control file\n",
    "\n",
    "The `add_record()` method allows the user to add a new record to the control file. This method has two parameters.\n",
    "   - `name` : the parameter name\n",
    "   - `values` : a list or numpy array of values\n",
    "   - `after`: optional, existing parameter name to insert record after, default is None\n",
    "   \n",
    "Note: pyGSFLOW does not check if the parameter name is valid"
   ]
  },
  {
   "cell_type": "code",
   "execution_count": 9,
   "metadata": {},
   "outputs": [
    {
     "name": "stdout",
     "output_type": "stream",
     "text": [
      "Warning: xyz data type will be infered from data supplied\n",
      "\n",
      "####\n",
      "xyz\n",
      "2\n",
      "1\n",
      "1\n",
      "2\n",
      "####\n"
     ]
    }
   ],
   "source": [
    "gsf.control.add_record(\"xyz\", [1, 2])\n",
    "\n",
    "print(gsf.control.get_record('xyz'))"
   ]
  },
  {
   "cell_type": "markdown",
   "metadata": {},
   "source": [
    "The user is also able to insert a new record into a specific location within the control file using the `after=` keyword argument"
   ]
  },
  {
   "cell_type": "code",
   "execution_count": 10,
   "metadata": {},
   "outputs": [
    {
     "name": "stdout",
     "output_type": "stream",
     "text": [
      "Warning: hummingbird_2 data type will be infered from data supplied\n"
     ]
    },
    {
     "data": {
      "text/plain": [
       "['modflow_name',\n",
       " 'nanioutvars',\n",
       " 'ndispgraphs',\n",
       " 'param_file',\n",
       " 'precip_module',\n",
       " 'param_print_file',\n",
       " 'save_vars_to_file',\n",
       " 'hummingbird_2']"
      ]
     },
     "execution_count": 10,
     "metadata": {},
     "output_type": "execute_result"
    }
   ],
   "source": [
    "gsf.control.add_record(name=\"hummingbird_2\", values=['a', 'b'], after='save_vars_to_file')\n",
    "gsf.control.record_names[-25: -17]"
   ]
  },
  {
   "cell_type": "markdown",
   "metadata": {},
   "source": [
    "#### Removing records from the control file\n",
    "\n",
    "pyGSFLOW allows the user to remove records with the `remove_record()` method. If a record does not exist, pyGSFLOW will warn the user."
   ]
  },
  {
   "cell_type": "code",
   "execution_count": 11,
   "metadata": {},
   "outputs": [
    {
     "name": "stderr",
     "output_type": "stream",
     "text": [
      "param_base.py:72: UserWarning: The record does not exist...\n"
     ]
    }
   ],
   "source": [
    "gsf.control.remove_record(\"xyz\") \n",
    "gsf.control.remove_record(\"hummingbird_2\")\n",
    "\n",
    "# try to get the non-exitent record\n",
    "gsf.control.get_record(\"hummingbird_2\") "
   ]
  },
  {
   "cell_type": "markdown",
   "metadata": {},
   "source": [
    "### (2.b) PRMS Parameters information\n",
    "\n",
    "Prms parameters are stored in the `PrmsParameters` class which can be accessed via the following example"
   ]
  },
  {
   "cell_type": "code",
   "execution_count": 12,
   "metadata": {},
   "outputs": [],
   "source": [
    "parameters = gsf.prms.parameters"
   ]
  },
  {
   "cell_type": "markdown",
   "metadata": {},
   "source": [
    "#### Accessing a list of PRMS parameter names\n",
    "\n",
    "A list of the model's PRMS parameter names can be aquired using the `record_names` attribute"
   ]
  },
  {
   "cell_type": "code",
   "execution_count": 13,
   "metadata": {},
   "outputs": [
    {
     "name": "stdout",
     "output_type": "stream",
     "text": [
      "133\n",
      "['ncascade', 'ncascdgw', 'ndays', 'ndepl', 'ndeplval']\n"
     ]
    }
   ],
   "source": [
    "parameter_names = parameters.record_names\n",
    "print(len(parameter_names))\n",
    "\n",
    "# print first 5 parameter names in list\n",
    "print(parameter_names[0:5])"
   ]
  },
  {
   "cell_type": "markdown",
   "metadata": {},
   "source": [
    "#### Getting parameter values from `prms.parameters`\n",
    "\n",
    "The `get_values()` method allows the user to get a numpy array of parameter values for any of the prms parameters."
   ]
  },
  {
   "cell_type": "code",
   "execution_count": 14,
   "metadata": {},
   "outputs": [
    {
     "data": {
      "text/plain": [
       "array([1, 1, 1, ..., 1, 1, 1])"
      ]
     },
     "execution_count": 14,
     "metadata": {},
     "output_type": "execute_result"
    }
   ],
   "source": [
    "# check the temperature station for each hru\n",
    "hru_tsta = parameters.get_values('hru_tsta')\n",
    "hru_tsta"
   ]
  },
  {
   "cell_type": "markdown",
   "metadata": {},
   "source": [
    "#### Updating parameter values from `prms.parameters`\n",
    "\n",
    "parameter values can be changed using the `set_values()` method. "
   ]
  },
  {
   "cell_type": "code",
   "execution_count": 15,
   "metadata": {},
   "outputs": [
    {
     "data": {
      "text/plain": [
       "array([2, 1, 1, ..., 1, 1, 1])"
      ]
     },
     "execution_count": 15,
     "metadata": {},
     "output_type": "execute_result"
    }
   ],
   "source": [
    "hru_tsta = parameters.get_values('hru_tsta')\n",
    "hru_tsta[0] = 2\n",
    "parameters.set_values('hru_tsta', hru_tsta)\n",
    "\n",
    "parameters.get_values('hru_tsta')"
   ]
  },
  {
   "cell_type": "markdown",
   "metadata": {},
   "source": [
    "### (2.c) Data Class (Climate Data)\n",
    "\n",
    "Climate data is stored in the `PrmsData` object and can be accessed as follows. "
   ]
  },
  {
   "cell_type": "code",
   "execution_count": 16,
   "metadata": {},
   "outputs": [
    {
     "data": {
      "text/html": [
       "<div>\n",
       "<style scoped>\n",
       "    .dataframe tbody tr th:only-of-type {\n",
       "        vertical-align: middle;\n",
       "    }\n",
       "\n",
       "    .dataframe tbody tr th {\n",
       "        vertical-align: top;\n",
       "    }\n",
       "\n",
       "    .dataframe thead th {\n",
       "        text-align: right;\n",
       "    }\n",
       "</style>\n",
       "<table border=\"1\" class=\"dataframe\">\n",
       "  <thead>\n",
       "    <tr style=\"text-align: right;\">\n",
       "      <th></th>\n",
       "      <th>Year</th>\n",
       "      <th>Month</th>\n",
       "      <th>Day</th>\n",
       "      <th>Hour</th>\n",
       "      <th>Minute</th>\n",
       "      <th>Second</th>\n",
       "      <th>tmax_0</th>\n",
       "      <th>tmin_0</th>\n",
       "      <th>precip_0</th>\n",
       "      <th>runoff_0</th>\n",
       "      <th>Date</th>\n",
       "    </tr>\n",
       "  </thead>\n",
       "  <tbody>\n",
       "    <tr>\n",
       "      <th>0</th>\n",
       "      <td>1953</td>\n",
       "      <td>10</td>\n",
       "      <td>1</td>\n",
       "      <td>0</td>\n",
       "      <td>0</td>\n",
       "      <td>0</td>\n",
       "      <td>-999</td>\n",
       "      <td>-999</td>\n",
       "      <td>0.0</td>\n",
       "      <td>2.9</td>\n",
       "      <td>1953-10-01</td>\n",
       "    </tr>\n",
       "    <tr>\n",
       "      <th>1</th>\n",
       "      <td>1953</td>\n",
       "      <td>10</td>\n",
       "      <td>2</td>\n",
       "      <td>0</td>\n",
       "      <td>0</td>\n",
       "      <td>0</td>\n",
       "      <td>-999</td>\n",
       "      <td>-999</td>\n",
       "      <td>0.0</td>\n",
       "      <td>2.9</td>\n",
       "      <td>1953-10-02</td>\n",
       "    </tr>\n",
       "    <tr>\n",
       "      <th>2</th>\n",
       "      <td>1953</td>\n",
       "      <td>10</td>\n",
       "      <td>3</td>\n",
       "      <td>0</td>\n",
       "      <td>0</td>\n",
       "      <td>0</td>\n",
       "      <td>-999</td>\n",
       "      <td>-999</td>\n",
       "      <td>0.0</td>\n",
       "      <td>2.9</td>\n",
       "      <td>1953-10-03</td>\n",
       "    </tr>\n",
       "    <tr>\n",
       "      <th>3</th>\n",
       "      <td>1953</td>\n",
       "      <td>10</td>\n",
       "      <td>4</td>\n",
       "      <td>0</td>\n",
       "      <td>0</td>\n",
       "      <td>0</td>\n",
       "      <td>-999</td>\n",
       "      <td>-999</td>\n",
       "      <td>0.0</td>\n",
       "      <td>2.9</td>\n",
       "      <td>1953-10-04</td>\n",
       "    </tr>\n",
       "    <tr>\n",
       "      <th>4</th>\n",
       "      <td>1953</td>\n",
       "      <td>10</td>\n",
       "      <td>5</td>\n",
       "      <td>0</td>\n",
       "      <td>0</td>\n",
       "      <td>0</td>\n",
       "      <td>-999</td>\n",
       "      <td>-999</td>\n",
       "      <td>0.0</td>\n",
       "      <td>2.9</td>\n",
       "      <td>1953-10-05</td>\n",
       "    </tr>\n",
       "    <tr>\n",
       "      <th>5</th>\n",
       "      <td>1953</td>\n",
       "      <td>10</td>\n",
       "      <td>6</td>\n",
       "      <td>0</td>\n",
       "      <td>0</td>\n",
       "      <td>0</td>\n",
       "      <td>-999</td>\n",
       "      <td>-999</td>\n",
       "      <td>0.0</td>\n",
       "      <td>2.9</td>\n",
       "      <td>1953-10-06</td>\n",
       "    </tr>\n",
       "    <tr>\n",
       "      <th>6</th>\n",
       "      <td>1953</td>\n",
       "      <td>10</td>\n",
       "      <td>7</td>\n",
       "      <td>0</td>\n",
       "      <td>0</td>\n",
       "      <td>0</td>\n",
       "      <td>-999</td>\n",
       "      <td>-999</td>\n",
       "      <td>0.0</td>\n",
       "      <td>2.9</td>\n",
       "      <td>1953-10-07</td>\n",
       "    </tr>\n",
       "    <tr>\n",
       "      <th>7</th>\n",
       "      <td>1953</td>\n",
       "      <td>10</td>\n",
       "      <td>8</td>\n",
       "      <td>0</td>\n",
       "      <td>0</td>\n",
       "      <td>0</td>\n",
       "      <td>-999</td>\n",
       "      <td>-999</td>\n",
       "      <td>0.0</td>\n",
       "      <td>2.8</td>\n",
       "      <td>1953-10-08</td>\n",
       "    </tr>\n",
       "    <tr>\n",
       "      <th>8</th>\n",
       "      <td>1953</td>\n",
       "      <td>10</td>\n",
       "      <td>9</td>\n",
       "      <td>0</td>\n",
       "      <td>0</td>\n",
       "      <td>0</td>\n",
       "      <td>-999</td>\n",
       "      <td>-999</td>\n",
       "      <td>0.0</td>\n",
       "      <td>2.9</td>\n",
       "      <td>1953-10-09</td>\n",
       "    </tr>\n",
       "    <tr>\n",
       "      <th>9</th>\n",
       "      <td>1953</td>\n",
       "      <td>10</td>\n",
       "      <td>10</td>\n",
       "      <td>0</td>\n",
       "      <td>0</td>\n",
       "      <td>0</td>\n",
       "      <td>-999</td>\n",
       "      <td>-999</td>\n",
       "      <td>0.0</td>\n",
       "      <td>3.0</td>\n",
       "      <td>1953-10-10</td>\n",
       "    </tr>\n",
       "  </tbody>\n",
       "</table>\n",
       "</div>"
      ],
      "text/plain": [
       "   Year  Month  Day  Hour  Minute  Second  tmax_0  tmin_0  precip_0  runoff_0  \\\n",
       "0  1953     10    1     0       0       0    -999    -999       0.0       2.9   \n",
       "1  1953     10    2     0       0       0    -999    -999       0.0       2.9   \n",
       "2  1953     10    3     0       0       0    -999    -999       0.0       2.9   \n",
       "3  1953     10    4     0       0       0    -999    -999       0.0       2.9   \n",
       "4  1953     10    5     0       0       0    -999    -999       0.0       2.9   \n",
       "5  1953     10    6     0       0       0    -999    -999       0.0       2.9   \n",
       "6  1953     10    7     0       0       0    -999    -999       0.0       2.9   \n",
       "7  1953     10    8     0       0       0    -999    -999       0.0       2.8   \n",
       "8  1953     10    9     0       0       0    -999    -999       0.0       2.9   \n",
       "9  1953     10   10     0       0       0    -999    -999       0.0       3.0   \n",
       "\n",
       "        Date  \n",
       "0 1953-10-01  \n",
       "1 1953-10-02  \n",
       "2 1953-10-03  \n",
       "3 1953-10-04  \n",
       "4 1953-10-05  \n",
       "5 1953-10-06  \n",
       "6 1953-10-07  \n",
       "7 1953-10-08  \n",
       "8 1953-10-09  \n",
       "9 1953-10-10  "
      ]
     },
     "execution_count": 16,
     "metadata": {},
     "output_type": "execute_result"
    }
   ],
   "source": [
    "data = gsf.prms.data\n",
    "\n",
    "data.data_df.head(10)"
   ]
  },
  {
   "cell_type": "markdown",
   "metadata": {},
   "source": [
    "No data values are stored as a default value of -999. in the `PrmsData` dataframe. If we plot all of the data without filtering the no data values will mask the climate trends, as we see in the example below."
   ]
  },
  {
   "cell_type": "code",
   "execution_count": 17,
   "metadata": {},
   "outputs": [
    {
     "data": {
      "image/png": "[encoded data removed]",
      "text/plain": [
       "<Figure size 432x288 with 1 Axes>"
      ]
     },
     "metadata": {
      "needs_background": "light"
     },
     "output_type": "display_data"
    }
   ],
   "source": [
    "climate_data = data.data_df\n",
    "plt.plot(climate_data['Date'], climate_data['tmax_0']);"
   ]
  },
  {
   "cell_type": "markdown",
   "metadata": {},
   "source": [
    "We can mask out the no data values by either filtering the pandas dataframe or setting no data values to NaN values. This allows us to visualize the climite trends over the simulation period. "
   ]
  },
  {
   "cell_type": "code",
   "execution_count": 18,
   "metadata": {},
   "outputs": [
    {
     "data": {
      "image/png": "[encoded data removed]",
      "text/plain": [
       "<Figure size 432x288 with 1 Axes>"
      ]
     },
     "metadata": {
      "needs_background": "light"
     },
     "output_type": "display_data"
    },
    {
     "data": {
      "image/png": "[encoded data removed]",
      "text/plain": [
       "<Figure size 432x288 with 1 Axes>"
      ]
     },
     "metadata": {
      "needs_background": "light"
     },
     "output_type": "display_data"
    }
   ],
   "source": [
    "# filtering data \n",
    "df_to_plot = climate_data[climate_data['tmax_0']>-100]\n",
    "plt.plot(df_to_plot['Date'], df_to_plot['tmax_0'])\n",
    "plt.title('filtering by value')\n",
    "plt.show()\n",
    "\n",
    "# replacing -999 with np.nan\n",
    "df_to_plot = climate_data.copy()\n",
    "df_to_plot[df_to_plot.tmax_0 == -999] = np.nan\n",
    "plt.plot(df_to_plot['Date'], df_to_plot['tmax_0'])\n",
    "plt.title('replacing filler value with NaN');"
   ]
  },
  {
   "cell_type": "markdown",
   "metadata": {},
   "source": [
    "### Adding a climate station to the `prms.data` object\n",
    "\n",
    "The prms data object stores data as a pandas dataframe. Adding a station to the DataFrame is as simple as adding a new column and setting data to it."
   ]
  },
  {
   "cell_type": "code",
   "execution_count": 19,
   "metadata": {},
   "outputs": [],
   "source": [
    "## add a station\n",
    "climate_data['precip_2'] = 10"
   ]
  },
  {
   "cell_type": "code",
   "execution_count": 20,
   "metadata": {},
   "outputs": [
    {
     "data": {
      "text/html": [
       "<div>\n",
       "<style scoped>\n",
       "    .dataframe tbody tr th:only-of-type {\n",
       "        vertical-align: middle;\n",
       "    }\n",
       "\n",
       "    .dataframe tbody tr th {\n",
       "        vertical-align: top;\n",
       "    }\n",
       "\n",
       "    .dataframe thead th {\n",
       "        text-align: right;\n",
       "    }\n",
       "</style>\n",
       "<table border=\"1\" class=\"dataframe\">\n",
       "  <thead>\n",
       "    <tr style=\"text-align: right;\">\n",
       "      <th></th>\n",
       "      <th>Year</th>\n",
       "      <th>Month</th>\n",
       "      <th>Day</th>\n",
       "      <th>Hour</th>\n",
       "      <th>Minute</th>\n",
       "      <th>Second</th>\n",
       "      <th>tmax_0</th>\n",
       "      <th>tmin_0</th>\n",
       "      <th>precip_0</th>\n",
       "      <th>runoff_0</th>\n",
       "      <th>Date</th>\n",
       "      <th>precip_2</th>\n",
       "    </tr>\n",
       "  </thead>\n",
       "  <tbody>\n",
       "    <tr>\n",
       "      <th>0</th>\n",
       "      <td>1953</td>\n",
       "      <td>10</td>\n",
       "      <td>1</td>\n",
       "      <td>0</td>\n",
       "      <td>0</td>\n",
       "      <td>0</td>\n",
       "      <td>-999</td>\n",
       "      <td>-999</td>\n",
       "      <td>0.0</td>\n",
       "      <td>2.9</td>\n",
       "      <td>1953-10-01</td>\n",
       "      <td>10</td>\n",
       "    </tr>\n",
       "    <tr>\n",
       "      <th>1</th>\n",
       "      <td>1953</td>\n",
       "      <td>10</td>\n",
       "      <td>2</td>\n",
       "      <td>0</td>\n",
       "      <td>0</td>\n",
       "      <td>0</td>\n",
       "      <td>-999</td>\n",
       "      <td>-999</td>\n",
       "      <td>0.0</td>\n",
       "      <td>2.9</td>\n",
       "      <td>1953-10-02</td>\n",
       "      <td>10</td>\n",
       "    </tr>\n",
       "    <tr>\n",
       "      <th>2</th>\n",
       "      <td>1953</td>\n",
       "      <td>10</td>\n",
       "      <td>3</td>\n",
       "      <td>0</td>\n",
       "      <td>0</td>\n",
       "      <td>0</td>\n",
       "      <td>-999</td>\n",
       "      <td>-999</td>\n",
       "      <td>0.0</td>\n",
       "      <td>2.9</td>\n",
       "      <td>1953-10-03</td>\n",
       "      <td>10</td>\n",
       "    </tr>\n",
       "    <tr>\n",
       "      <th>3</th>\n",
       "      <td>1953</td>\n",
       "      <td>10</td>\n",
       "      <td>4</td>\n",
       "      <td>0</td>\n",
       "      <td>0</td>\n",
       "      <td>0</td>\n",
       "      <td>-999</td>\n",
       "      <td>-999</td>\n",
       "      <td>0.0</td>\n",
       "      <td>2.9</td>\n",
       "      <td>1953-10-04</td>\n",
       "      <td>10</td>\n",
       "    </tr>\n",
       "    <tr>\n",
       "      <th>4</th>\n",
       "      <td>1953</td>\n",
       "      <td>10</td>\n",
       "      <td>5</td>\n",
       "      <td>0</td>\n",
       "      <td>0</td>\n",
       "      <td>0</td>\n",
       "      <td>-999</td>\n",
       "      <td>-999</td>\n",
       "      <td>0.0</td>\n",
       "      <td>2.9</td>\n",
       "      <td>1953-10-05</td>\n",
       "      <td>10</td>\n",
       "    </tr>\n",
       "    <tr>\n",
       "      <th>5</th>\n",
       "      <td>1953</td>\n",
       "      <td>10</td>\n",
       "      <td>6</td>\n",
       "      <td>0</td>\n",
       "      <td>0</td>\n",
       "      <td>0</td>\n",
       "      <td>-999</td>\n",
       "      <td>-999</td>\n",
       "      <td>0.0</td>\n",
       "      <td>2.9</td>\n",
       "      <td>1953-10-06</td>\n",
       "      <td>10</td>\n",
       "    </tr>\n",
       "    <tr>\n",
       "      <th>6</th>\n",
       "      <td>1953</td>\n",
       "      <td>10</td>\n",
       "      <td>7</td>\n",
       "      <td>0</td>\n",
       "      <td>0</td>\n",
       "      <td>0</td>\n",
       "      <td>-999</td>\n",
       "      <td>-999</td>\n",
       "      <td>0.0</td>\n",
       "      <td>2.9</td>\n",
       "      <td>1953-10-07</td>\n",
       "      <td>10</td>\n",
       "    </tr>\n",
       "    <tr>\n",
       "      <th>7</th>\n",
       "      <td>1953</td>\n",
       "      <td>10</td>\n",
       "      <td>8</td>\n",
       "      <td>0</td>\n",
       "      <td>0</td>\n",
       "      <td>0</td>\n",
       "      <td>-999</td>\n",
       "      <td>-999</td>\n",
       "      <td>0.0</td>\n",
       "      <td>2.8</td>\n",
       "      <td>1953-10-08</td>\n",
       "      <td>10</td>\n",
       "    </tr>\n",
       "    <tr>\n",
       "      <th>8</th>\n",
       "      <td>1953</td>\n",
       "      <td>10</td>\n",
       "      <td>9</td>\n",
       "      <td>0</td>\n",
       "      <td>0</td>\n",
       "      <td>0</td>\n",
       "      <td>-999</td>\n",
       "      <td>-999</td>\n",
       "      <td>0.0</td>\n",
       "      <td>2.9</td>\n",
       "      <td>1953-10-09</td>\n",
       "      <td>10</td>\n",
       "    </tr>\n",
       "    <tr>\n",
       "      <th>9</th>\n",
       "      <td>1953</td>\n",
       "      <td>10</td>\n",
       "      <td>10</td>\n",
       "      <td>0</td>\n",
       "      <td>0</td>\n",
       "      <td>0</td>\n",
       "      <td>-999</td>\n",
       "      <td>-999</td>\n",
       "      <td>0.0</td>\n",
       "      <td>3.0</td>\n",
       "      <td>1953-10-10</td>\n",
       "      <td>10</td>\n",
       "    </tr>\n",
       "  </tbody>\n",
       "</table>\n",
       "</div>"
      ],
      "text/plain": [
       "   Year  Month  Day  Hour  Minute  Second  tmax_0  tmin_0  precip_0  runoff_0  \\\n",
       "0  1953     10    1     0       0       0    -999    -999       0.0       2.9   \n",
       "1  1953     10    2     0       0       0    -999    -999       0.0       2.9   \n",
       "2  1953     10    3     0       0       0    -999    -999       0.0       2.9   \n",
       "3  1953     10    4     0       0       0    -999    -999       0.0       2.9   \n",
       "4  1953     10    5     0       0       0    -999    -999       0.0       2.9   \n",
       "5  1953     10    6     0       0       0    -999    -999       0.0       2.9   \n",
       "6  1953     10    7     0       0       0    -999    -999       0.0       2.9   \n",
       "7  1953     10    8     0       0       0    -999    -999       0.0       2.8   \n",
       "8  1953     10    9     0       0       0    -999    -999       0.0       2.9   \n",
       "9  1953     10   10     0       0       0    -999    -999       0.0       3.0   \n",
       "\n",
       "        Date  precip_2  \n",
       "0 1953-10-01        10  \n",
       "1 1953-10-02        10  \n",
       "2 1953-10-03        10  \n",
       "3 1953-10-04        10  \n",
       "4 1953-10-05        10  \n",
       "5 1953-10-06        10  \n",
       "6 1953-10-07        10  \n",
       "7 1953-10-08        10  \n",
       "8 1953-10-09        10  \n",
       "9 1953-10-10        10  "
      ]
     },
     "execution_count": 20,
     "metadata": {},
     "output_type": "execute_result"
    }
   ],
   "source": [
    "climate_data.head(10)"
   ]
  },
  {
   "cell_type": "markdown",
   "metadata": {},
   "source": [
    "### Removing station information from the dataframe"
   ]
  },
  {
   "cell_type": "code",
   "execution_count": 21,
   "metadata": {},
   "outputs": [
    {
     "data": {
      "text/html": [
       "<div>\n",
       "<style scoped>\n",
       "    .dataframe tbody tr th:only-of-type {\n",
       "        vertical-align: middle;\n",
       "    }\n",
       "\n",
       "    .dataframe tbody tr th {\n",
       "        vertical-align: top;\n",
       "    }\n",
       "\n",
       "    .dataframe thead th {\n",
       "        text-align: right;\n",
       "    }\n",
       "</style>\n",
       "<table border=\"1\" class=\"dataframe\">\n",
       "  <thead>\n",
       "    <tr style=\"text-align: right;\">\n",
       "      <th></th>\n",
       "      <th>Year</th>\n",
       "      <th>Month</th>\n",
       "      <th>Day</th>\n",
       "      <th>Hour</th>\n",
       "      <th>Minute</th>\n",
       "      <th>Second</th>\n",
       "      <th>tmax_0</th>\n",
       "      <th>tmin_0</th>\n",
       "      <th>precip_0</th>\n",
       "      <th>runoff_0</th>\n",
       "      <th>Date</th>\n",
       "    </tr>\n",
       "  </thead>\n",
       "  <tbody>\n",
       "    <tr>\n",
       "      <th>0</th>\n",
       "      <td>1953</td>\n",
       "      <td>10</td>\n",
       "      <td>1</td>\n",
       "      <td>0</td>\n",
       "      <td>0</td>\n",
       "      <td>0</td>\n",
       "      <td>-999</td>\n",
       "      <td>-999</td>\n",
       "      <td>0.0</td>\n",
       "      <td>2.90</td>\n",
       "      <td>1953-10-01</td>\n",
       "    </tr>\n",
       "    <tr>\n",
       "      <th>1</th>\n",
       "      <td>1953</td>\n",
       "      <td>10</td>\n",
       "      <td>2</td>\n",
       "      <td>0</td>\n",
       "      <td>0</td>\n",
       "      <td>0</td>\n",
       "      <td>-999</td>\n",
       "      <td>-999</td>\n",
       "      <td>0.0</td>\n",
       "      <td>2.90</td>\n",
       "      <td>1953-10-02</td>\n",
       "    </tr>\n",
       "    <tr>\n",
       "      <th>2</th>\n",
       "      <td>1953</td>\n",
       "      <td>10</td>\n",
       "      <td>3</td>\n",
       "      <td>0</td>\n",
       "      <td>0</td>\n",
       "      <td>0</td>\n",
       "      <td>-999</td>\n",
       "      <td>-999</td>\n",
       "      <td>0.0</td>\n",
       "      <td>2.90</td>\n",
       "      <td>1953-10-03</td>\n",
       "    </tr>\n",
       "    <tr>\n",
       "      <th>3</th>\n",
       "      <td>1953</td>\n",
       "      <td>10</td>\n",
       "      <td>4</td>\n",
       "      <td>0</td>\n",
       "      <td>0</td>\n",
       "      <td>0</td>\n",
       "      <td>-999</td>\n",
       "      <td>-999</td>\n",
       "      <td>0.0</td>\n",
       "      <td>2.90</td>\n",
       "      <td>1953-10-04</td>\n",
       "    </tr>\n",
       "    <tr>\n",
       "      <th>4</th>\n",
       "      <td>1953</td>\n",
       "      <td>10</td>\n",
       "      <td>5</td>\n",
       "      <td>0</td>\n",
       "      <td>0</td>\n",
       "      <td>0</td>\n",
       "      <td>-999</td>\n",
       "      <td>-999</td>\n",
       "      <td>0.0</td>\n",
       "      <td>2.90</td>\n",
       "      <td>1953-10-05</td>\n",
       "    </tr>\n",
       "    <tr>\n",
       "      <th>...</th>\n",
       "      <td>...</td>\n",
       "      <td>...</td>\n",
       "      <td>...</td>\n",
       "      <td>...</td>\n",
       "      <td>...</td>\n",
       "      <td>...</td>\n",
       "      <td>...</td>\n",
       "      <td>...</td>\n",
       "      <td>...</td>\n",
       "      <td>...</td>\n",
       "      <td>...</td>\n",
       "    </tr>\n",
       "    <tr>\n",
       "      <th>19626</th>\n",
       "      <td>2007</td>\n",
       "      <td>6</td>\n",
       "      <td>26</td>\n",
       "      <td>0</td>\n",
       "      <td>0</td>\n",
       "      <td>0</td>\n",
       "      <td>78</td>\n",
       "      <td>32</td>\n",
       "      <td>0.0</td>\n",
       "      <td>2.25</td>\n",
       "      <td>2007-06-26</td>\n",
       "    </tr>\n",
       "    <tr>\n",
       "      <th>19627</th>\n",
       "      <td>2007</td>\n",
       "      <td>6</td>\n",
       "      <td>27</td>\n",
       "      <td>0</td>\n",
       "      <td>0</td>\n",
       "      <td>0</td>\n",
       "      <td>77</td>\n",
       "      <td>30</td>\n",
       "      <td>0.0</td>\n",
       "      <td>2.20</td>\n",
       "      <td>2007-06-27</td>\n",
       "    </tr>\n",
       "    <tr>\n",
       "      <th>19628</th>\n",
       "      <td>2007</td>\n",
       "      <td>6</td>\n",
       "      <td>28</td>\n",
       "      <td>0</td>\n",
       "      <td>0</td>\n",
       "      <td>0</td>\n",
       "      <td>72</td>\n",
       "      <td>31</td>\n",
       "      <td>0.0</td>\n",
       "      <td>2.17</td>\n",
       "      <td>2007-06-28</td>\n",
       "    </tr>\n",
       "    <tr>\n",
       "      <th>19629</th>\n",
       "      <td>2007</td>\n",
       "      <td>6</td>\n",
       "      <td>29</td>\n",
       "      <td>0</td>\n",
       "      <td>0</td>\n",
       "      <td>0</td>\n",
       "      <td>70</td>\n",
       "      <td>45</td>\n",
       "      <td>0.0</td>\n",
       "      <td>2.14</td>\n",
       "      <td>2007-06-29</td>\n",
       "    </tr>\n",
       "    <tr>\n",
       "      <th>19630</th>\n",
       "      <td>2007</td>\n",
       "      <td>6</td>\n",
       "      <td>30</td>\n",
       "      <td>0</td>\n",
       "      <td>0</td>\n",
       "      <td>0</td>\n",
       "      <td>75</td>\n",
       "      <td>41</td>\n",
       "      <td>0.0</td>\n",
       "      <td>2.11</td>\n",
       "      <td>2007-06-30</td>\n",
       "    </tr>\n",
       "  </tbody>\n",
       "</table>\n",
       "<p>19631 rows × 11 columns</p>\n",
       "</div>"
      ],
      "text/plain": [
       "       Year  Month  Day  Hour  Minute  Second  tmax_0  tmin_0  precip_0  \\\n",
       "0      1953     10    1     0       0       0    -999    -999       0.0   \n",
       "1      1953     10    2     0       0       0    -999    -999       0.0   \n",
       "2      1953     10    3     0       0       0    -999    -999       0.0   \n",
       "3      1953     10    4     0       0       0    -999    -999       0.0   \n",
       "4      1953     10    5     0       0       0    -999    -999       0.0   \n",
       "...     ...    ...  ...   ...     ...     ...     ...     ...       ...   \n",
       "19626  2007      6   26     0       0       0      78      32       0.0   \n",
       "19627  2007      6   27     0       0       0      77      30       0.0   \n",
       "19628  2007      6   28     0       0       0      72      31       0.0   \n",
       "19629  2007      6   29     0       0       0      70      45       0.0   \n",
       "19630  2007      6   30     0       0       0      75      41       0.0   \n",
       "\n",
       "       runoff_0       Date  \n",
       "0          2.90 1953-10-01  \n",
       "1          2.90 1953-10-02  \n",
       "2          2.90 1953-10-03  \n",
       "3          2.90 1953-10-04  \n",
       "4          2.90 1953-10-05  \n",
       "...         ...        ...  \n",
       "19626      2.25 2007-06-26  \n",
       "19627      2.20 2007-06-27  \n",
       "19628      2.17 2007-06-28  \n",
       "19629      2.14 2007-06-29  \n",
       "19630      2.11 2007-06-30  \n",
       "\n",
       "[19631 rows x 11 columns]"
      ]
     },
     "execution_count": 21,
     "metadata": {},
     "output_type": "execute_result"
    }
   ],
   "source": [
    "gsf.prms.data.data_df.drop(columns=[\"precip_2\"], inplace=True)\n",
    "gsf.prms.data.data_df"
   ]
  },
  {
   "cell_type": "markdown",
   "metadata": {},
   "source": [
    "### (2.d) Access MODFLOW data in pyGSFLOW \n",
    "All data related to MODFLOW can be accessed and assigned using `.mf` object. This object is pyGSFLOW `Modflow` instance that interacts with the python package Flopy; all operations in Flopy can be used here. MODFLOW is covered in notebook `pygsflow_assemble_GSFLOW_model.ipynb`"
   ]
  },
  {
   "cell_type": "code",
   "execution_count": 22,
   "metadata": {},
   "outputs": [],
   "source": [
    "# !jupyter nbconvert --to script pygsflow_intro.ipynb"
   ]
  }
 ],
 "metadata": {
  "kernelspec": {
   "display_name": "Python 3 (ipykernel)",
   "language": "python",
   "name": "python3"
  },
  "language_info": {
   "codemirror_mode": {
    "name": "ipython",
    "version": 3
   },
   "file_extension": ".py",
   "mimetype": "text/x-python",
   "name": "python",
   "nbconvert_exporter": "python",
   "pygments_lexer": "ipython3",
   "version": "3.8.18"
  }
 },
 "nbformat": 4,
 "nbformat_minor": 2
}
