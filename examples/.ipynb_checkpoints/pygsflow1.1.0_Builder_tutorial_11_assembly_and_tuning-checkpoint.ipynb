{
 "cells": [
  {
   "cell_type": "markdown",
   "metadata": {},
   "source": [
    "# Builder Tutorial number 11\n",
    "\n",
    "The builder tutorials demonstrate how to build an operational GSFLOW model using `pyGSFLOW` from shapefile, DEM, and other common data sources. These tutorials focus on the `gsflow.builder` classes.\n",
    "\n",
    "## Assembling a GSFLOW model from MODFLOW and PRMS components\n",
    "\n",
    "In this final builder tutorial, we show how to assemble a GSFLOW model from the previously built MODFLOW, PRMS, and CONTROl file components. After assembling the model, final adjustments to parameter values are applied and the model is run. "
   ]
  },
  {
   "cell_type": "code",
   "execution_count": 1,
   "metadata": {},
   "outputs": [],
   "source": [
    "import os\n",
    "import shapefile\n",
    "import matplotlib.pyplot as plt\n",
    "import matplotlib.colors as mcolors\n",
    "import numpy as np\n",
    "import pandas as pd\n",
    "import flopy\n",
    "import platform\n",
    "from gsflow.builder import builder_utils as bu\n",
    "import gsflow\n",
    "\n",
    "# silence pandas setting with copy warning\n",
    "pd.options.mode.chained_assignment = None\n",
    "\n",
    "# register pandas plotting converters\n",
    "from pandas.plotting import register_matplotlib_converters\n",
    "register_matplotlib_converters()"
   ]
  },
  {
   "cell_type": "markdown",
   "metadata": {},
   "source": [
    "## Applying the methods to the Sagehen 50m model\n",
    "\n",
    "In this example the methods presented are applied directly to Sagehen 50m model."
   ]
  },
  {
   "cell_type": "markdown",
   "metadata": {},
   "source": [
    "### Loading the model components\n",
    "\n",
    "Prior to assembling the GSFLOW model, model components must be loaded using pyGSFLOW built in methods. \n",
    "\n",
    "Let's start by defining paths and the Loading the PRMS parameter and data files, MODFLOW model, and GSFLOW control file."
   ]
  },
  {
   "cell_type": "code",
   "execution_count": 2,
   "metadata": {},
   "outputs": [],
   "source": [
    "# define the input and output data paths\n",
    "input_ws = os.path.join(\"data\", \"sagehen\", \"50m_tutorials\")\n",
    "geospatial_ws = os.path.join(\"data\", \"geospatial\")\n",
    "output_ws=input_ws\n",
    "\n",
    "modflow_nam = \"sagehen_50m.nam\"\n",
    "parameter_file = os.path.join(input_ws, \"sagehen_50m_ncal.param\")\n",
    "data_file = os.path.join(input_ws, \"sagehen_50m.data\")\n",
    "control_file = os.path.join(input_ws, \"sagehen_50m_initial.control\")"
   ]
  },
  {
   "cell_type": "markdown",
   "metadata": {},
   "source": [
    "Load each of the GSFLOW model components"
   ]
  },
  {
   "cell_type": "code",
   "execution_count": 3,
   "metadata": {},
   "outputs": [
    {
     "name": "stderr",
     "output_type": "stream",
     "text": [
      "/home/carlos/miniconda3/envs/sequia/lib/python3.8/site-packages/flopy/mbase.py:96: UserWarning: The program mfnwt does not exist or is not executable.\n",
      "  warn(\n"
     ]
    },
    {
     "name": "stdout",
     "output_type": "stream",
     "text": [
      "   loading iuzfbnd array...\n",
      "   loading irunbnd array...\n",
      "   loading vks array...\n",
      "   loading eps array...\n",
      "   loading thts array...\n",
      "   loading thti array...\n",
      "stress period 1:\n",
      "   loading finf array...\n",
      "stress period 2:\n",
      "stress period 3:\n",
      "stress period 4:\n",
      "stress period 5:\n",
      "stress period 6:\n",
      "stress period 7:\n",
      "stress period 8:\n",
      "stress period 9:\n",
      "stress period 10:\n",
      "stress period 11:\n",
      "stress period 12:\n",
      "stress period 13:\n",
      "stress period 14:\n",
      "stress period 15:\n",
      "stress period 16:\n",
      "stress period 17:\n",
      "stress period 18:\n",
      "stress period 19:\n",
      "stress period 20:\n",
      "stress period 21:\n",
      "stress period 22:\n",
      "stress period 23:\n",
      "stress period 24:\n",
      "stress period 25:\n",
      "stress period 26:\n",
      "stress period 27:\n",
      "stress period 28:\n",
      "stress period 29:\n",
      "stress period 30:\n",
      "stress period 31:\n",
      "stress period 32:\n",
      "stress period 33:\n",
      "stress period 34:\n",
      "stress period 35:\n",
      "stress period 36:\n",
      "stress period 37:\n",
      "stress period 38:\n",
      "stress period 39:\n",
      "stress period 40:\n",
      "stress period 41:\n",
      "stress period 42:\n",
      "stress period 43:\n",
      "stress period 44:\n",
      "stress period 45:\n",
      "stress period 46:\n",
      "stress period 47:\n",
      "stress period 48:\n",
      "stress period 49:\n",
      "stress period 50:\n",
      "stress period 51:\n",
      "stress period 52:\n",
      "stress period 53:\n",
      "stress period 54:\n",
      "stress period 55:\n",
      "stress period 56:\n",
      "stress period 57:\n",
      "stress period 58:\n",
      "stress period 59:\n",
      "stress period 60:\n",
      "stress period 61:\n",
      "stress period 62:\n",
      "stress period 63:\n",
      "stress period 64:\n",
      "stress period 65:\n",
      "stress period 66:\n",
      "stress period 67:\n",
      "stress period 68:\n",
      "stress period 69:\n",
      "stress period 70:\n",
      "stress period 71:\n",
      "stress period 72:\n",
      "stress period 73:\n",
      "stress period 74:\n",
      "stress period 75:\n",
      "stress period 76:\n",
      "stress period 77:\n",
      "stress period 78:\n",
      "stress period 79:\n",
      "stress period 80:\n",
      "stress period 81:\n",
      "stress period 82:\n",
      "stress period 83:\n",
      "stress period 84:\n",
      "stress period 85:\n",
      "stress period 86:\n",
      "stress period 87:\n",
      "stress period 88:\n",
      "stress period 89:\n",
      "stress period 90:\n",
      "stress period 91:\n",
      "stress period 92:\n",
      "stress period 93:\n",
      "stress period 94:\n",
      "stress period 95:\n",
      "stress period 96:\n",
      "stress period 97:\n",
      "stress period 98:\n",
      "stress period 99:\n",
      "stress period 100:\n",
      "stress period 101:\n",
      "stress period 102:\n",
      "stress period 103:\n",
      "stress period 104:\n",
      "stress period 105:\n",
      "stress period 106:\n",
      "stress period 107:\n",
      "stress period 108:\n",
      "stress period 109:\n",
      "stress period 110:\n",
      "stress period 111:\n",
      "stress period 112:\n",
      "stress period 113:\n",
      "stress period 114:\n",
      "stress period 115:\n",
      "stress period 116:\n",
      "stress period 117:\n",
      "stress period 118:\n",
      "stress period 119:\n",
      "stress period 120:\n",
      "------------------------------------\n",
      "Reading parameter file : sagehen_50m_ncal.param\n",
      "------------------------------------\n",
      "Warning: ndays data type will be infered from data supplied\n",
      "Warning: ndepl data type will be infered from data supplied\n",
      "Warning: nlake data type will be infered from data supplied\n",
      "Warning: nmonths data type will be infered from data supplied\n",
      "Warning: nrain data type will be infered from data supplied\n",
      "Warning: ntemp data type will be infered from data supplied\n",
      "Warning: one data type will be infered from data supplied\n",
      "Warning: nsegment data type will be infered from data supplied\n",
      "Warning: nreach data type will be infered from data supplied\n",
      "Warning: ngw data type will be infered from data supplied\n",
      "Warning: ngwcell data type will be infered from data supplied\n",
      "Warning: nhru data type will be infered from data supplied\n",
      "Warning: nhrucell data type will be infered from data supplied\n",
      "Warning: nssr data type will be infered from data supplied\n",
      "Warning: ncascade data type will be infered from data supplied\n",
      "Warning: ncascdgw data type will be infered from data supplied\n",
      "Warning: ndeplval data type will be infered from data supplied\n",
      "Warning: nsub data type will be infered from data supplied\n"
     ]
    }
   ],
   "source": [
    "# MODFLOW\n",
    "ml = gsflow.modflow.Modflow.load(modflow_nam, model_ws=input_ws)\n",
    "\n",
    "# PRMS\n",
    "parameters = gsflow.prms.PrmsParameters.load_from_file(parameter_file)\n",
    "prms_data = gsflow.prms.PrmsData.load_from_file(data_file)\n",
    "\n",
    "# GSFLOW Control File\n",
    "control = gsflow.ControlFile.load_from_file(control_file)"
   ]
  },
  {
   "cell_type": "markdown",
   "metadata": {},
   "source": [
    "### Assembling the PRMS model from components with `PrmsModel`\n",
    "\n",
    "Before a GSFLOW model can be assembled, the user must first assemble a PRMS model using the `PrmsModel` container. The `PrmsModel` container object holds all components of the PRMS surface water model and has the following input parameters:\n",
    "   - `control` : a gsflow.ControlFile object, required\n",
    "   - `parameters` : a gsflow.prms.PrmsParameters object, optional\n",
    "   - `data` : a gsflow.prms.PrmsData object, optional\n",
    "   - `day` : An optional dictionary of gsflow.prms.PrmsDay objects, dictionary key for each object must be the same as the budget by hru variable name. \n",
    "   \n",
    "Let's assemble the PRMS model for the sagehen 50m model."
   ]
  },
  {
   "cell_type": "code",
   "execution_count": 4,
   "metadata": {},
   "outputs": [],
   "source": [
    "prms = gsflow.prms.PrmsModel(control, parameters=parameters, data=prms_data)"
   ]
  },
  {
   "cell_type": "markdown",
   "metadata": {},
   "source": [
    "Inspecting the PRMS object"
   ]
  },
  {
   "cell_type": "code",
   "execution_count": 5,
   "metadata": {},
   "outputs": [
    {
     "name": "stdout",
     "output_type": "stream",
     "text": [
      "<gsflow.prms.prms_model.PrmsModel object at 0x7fee47fa8eb0>\n",
      "<gsflow.prms.prms_parameter.PrmsParameters object at 0x7fee4844eaf0>\n",
      "<gsflow.prms.prms_data.PrmsData object at 0x7fee47ede0d0>\n",
      "None\n"
     ]
    }
   ],
   "source": [
    "print(prms)\n",
    "print(prms.parameters)\n",
    "print(prms.data)\n",
    "print(prms.day)"
   ]
  },
  {
   "cell_type": "markdown",
   "metadata": {},
   "source": [
    "### Assembling the GSFLOW model \n",
    "\n",
    "Now that the `PrmsModel` object has been assembled, the GSFLOW model can be assembled from the prms and modflow model objects. The `GsflowModel` class allows the user to assemble a GSFLOW model and has the following parameters:\n",
    "   - `control` : a gsflow.ControlFile object\n",
    "   - `prms` : optional gsflow.PrmsModel object\n",
    "   - `mf` : optional gsflow.modflow.Modflow object\n",
    "   - `modflow_only` : optional boolean flag, if True class can be instantiated with only a control object and a modflow object\n",
    "   - `prms_only` : optional boolean flag, if True class can be instantiated with only a control and prms model object\n",
    "   - `modsim` : optional boolean flag, if True on model write a MODSIM compatible stream vector shapefile is produced from SFR and LAK package information.\n",
    "   \n",
    "Let's assemble the Sagehen 50m GSFLOW model!"
   ]
  },
  {
   "cell_type": "code",
   "execution_count": 6,
   "metadata": {},
   "outputs": [],
   "source": [
    "gsf = gsflow.GsflowModel(control, prms=prms, mf=ml)"
   ]
  },
  {
   "cell_type": "markdown",
   "metadata": {},
   "source": [
    "Inspecting the `GsflowModel` object"
   ]
  },
  {
   "cell_type": "code",
   "execution_count": 7,
   "metadata": {},
   "outputs": [
    {
     "name": "stdout",
     "output_type": "stream",
     "text": [
      "<gsflow.gsflow.GsflowModel object at 0x7fee48564a90>\n",
      "MODFLOW 1 layer(s) 160 row(s) 104 column(s) 120 stress period(s)\n",
      "<gsflow.prms.prms_model.PrmsModel object at 0x7fee47fa8eb0>\n",
      "<gsflow.prms.prms_parameter.PrmsParameters object at 0x7fee4844eaf0>\n",
      "<gsflow.prms.prms_data.PrmsData object at 0x7fee47ede0d0>\n"
     ]
    }
   ],
   "source": [
    "print(gsf)\n",
    "print(gsf.mf)\n",
    "print(gsf.prms)\n",
    "print(gsf.prms.parameters)\n",
    "print(gsf.prms.data)"
   ]
  },
  {
   "cell_type": "markdown",
   "metadata": {},
   "source": [
    "### Adding required records to the GSFLOW control file object\n",
    "\n",
    "Before writing and running the model, a few required records need to added and/or updated in the GSFLOW control file to 1) add the PRMS data file, 2) sync the PRMS and MODFLOW models, and 3) produce the desired output from the GSFLOW model.\n",
    "\n",
    "These parameters are shown in the code block below"
   ]
  },
  {
   "cell_type": "code",
   "execution_count": 14,
   "metadata": {},
   "outputs": [
    {
     "name": "stderr",
     "output_type": "stream",
     "text": [
      "param_base.py:172: UserWarning: The record already exists, skipping add_record: data_file...\n",
      "param_base.py:172: UserWarning: The record already exists, skipping add_record: modflow_time_zero...\n",
      "param_base.py:172: UserWarning: The record already exists, skipping add_record: end_time...\n",
      "param_base.py:172: UserWarning: The record already exists, skipping add_record: print_debug...\n",
      "param_base.py:172: UserWarning: The record already exists, skipping add_record: statson_off...\n",
      "param_base.py:172: UserWarning: The record already exists, skipping add_record: nstatvars...\n",
      "param_base.py:172: UserWarning: The record already exists, skipping add_record: statvar_element...\n",
      "param_base.py:172: UserWarning: The record already exists, skipping add_record: statvar_names...\n",
      "param_base.py:172: UserWarning: The record already exists, skipping add_record: stat_var_file...\n"
     ]
    }
   ],
   "source": [
    "start_time = [2010, 1, 1, 0, 0, 0]\n",
    "end_time = [2010, 2, 3, 0, 0, 0]\n",
    "\n",
    "# control file records to add\n",
    "gsf.control.add_record(\"data_file\", [\"sagehen_50m.data\",])\n",
    "gsf.control.add_record(\"modflow_time_zero\", start_time)\n",
    "gsf.control.add_record(\"end_time\", end_time)\n",
    "\n",
    "# control file output control records added\n",
    "gsf.control.add_record(\"print_debug\", [0,])\n",
    "gsf.control.add_record(\"statsON_OFF\", [1,])\n",
    "gsf.control.add_record(\"nstatVars\", [6,])\n",
    "gsf.control.add_record(\"statVar_element\", [\"1\",] * 6)\n",
    "gsf.control.add_record(\n",
    "    \"statVar_names\",\n",
    "    values=[\n",
    "        \"runoff\",\n",
    "        \"basin_cfs\",\n",
    "        \"basin_ssflow_cfs\",\n",
    "        \"basin_gwflow_cfs\",\n",
    "        \"basin_sroff_cfs\",\n",
    "        \"basin_dunnian\"\n",
    "    ]\n",
    ")\n",
    "gsf.control.add_record(\"stat_var_file\", [\"statvar.dat\",])"
   ]
  },
  {
   "cell_type": "code",
   "execution_count": 15,
   "metadata": {},
   "outputs": [],
   "source": [
    "# control file records to edit\n",
    "gsf.control.start_time = start_time\n",
    "gsf.control.model_mode = [\"GSFLOW5\",]\n",
    "gsf.control.subbasin_flag = [0,]\n",
    "gsf.control.parameter_check_flag = [0,]\n",
    "gsf.control.srunoff_module = [\"srunoff_smidx\"]"
   ]
  },
  {
   "cell_type": "markdown",
   "metadata": {},
   "source": [
    "### Writing the assembled GSFLOW model to file\n",
    "\n",
    "In this example we show how to write the assembled GSFLOW model to file using the built in `write()` method. The `write()` method has three optional parameters, however in the case of new model assembly the first two should both always be used!\n",
    "   - `basename` : the \"basename\" for all model files, in this case it will be \"sagehen_50m\"\n",
    "   - `workspace` : the folder path for model files to be written to\n",
    "   - `write_only` : optional list that allows the user to write only the \"control\", \"parameters\", \"prms_data\", \"mf\", or \"modsim\" or a combinations of parts of the GSFLOW model "
   ]
  },
  {
   "cell_type": "code",
   "execution_count": 16,
   "metadata": {},
   "outputs": [
    {
     "name": "stdout",
     "output_type": "stream",
     "text": [
      "Writing the project files .....\n",
      "Writing Control file ...\n",
      "Writing Parameters files ...\n",
      "Writing Data file ...\n",
      "Writing Modflow files...\n"
     ]
    }
   ],
   "source": [
    "gsf.write_input(basename=\"sagehen_50m\", workspace=output_ws)"
   ]
  },
  {
   "cell_type": "markdown",
   "metadata": {},
   "source": [
    "### Running the uncalibrated model\n",
    "\n",
    "The uncalibrated GSFLOW model can be run using the built in `run_model()` method. The `run_model()` method has 4 optional parameters:\n",
    "   - `model_ws` : path to model directory\n",
    "   - `forgive` : boolean flag, which forgives convergence issues (will return True for successful run)\n",
    "   - `gsflow_exe` : optional path to the gsflow executable\n",
    "   - `silent` : boolean flag to silence model output from being written to the screen. Default is False\n",
    "   \n",
    "Note: change `run_model = True` to `run_model = False` to skip the model run. The model run takes about 20 minutes to complete. Output has been saved for this example and results will load regardless of model run status."
   ]
  },
  {
   "cell_type": "code",
   "execution_count": 17,
   "metadata": {},
   "outputs": [],
   "source": [
    "run_model = True"
   ]
  },
  {
   "cell_type": "code",
   "execution_count": 18,
   "metadata": {},
   "outputs": [
    {
     "name": "stdout",
     "output_type": "stream",
     "text": [
      "pyGSFLOW is using the following executable to run the model: ../bin/gsflow\n",
      " Command line: /home/carlos/Documents/pygsflow/bin/gsflow /home/carlos/Documents/pygsflow/examples/data/sagehen/50m_tutorials/sagehen_50m_cont.control\n",
      "\n",
      "====================================================================\n",
      " PRMS command line argument,           1 : /home/carlos/Documents/pygsflow/examples/data/sagehen/50m_tutorials/sagehen_50m_cont.control\n",
      "====================================================================\n",
      "\n",
      "\n",
      "                          U.S. Geological Survey\n",
      "        Coupled Groundwater and Surface-water FLOW model (GSFLOW)\n",
      "                         Version: 2.3.0 03/01/2022\n",
      "\n",
      "    An integration of the Precipitation-Runoff Modeling System (PRMS)\n",
      "    and the Modular Groundwater Model (MODFLOW-NWT and MODFLOW-2005)\n",
      "\n",
      " Warning, dimension: nlake is not needed as value specified as 0\n",
      "\n",
      "               Precipitation-Runoff Modeling System (PRMS)\n",
      "                       Version 5.3.0 03/01/2022\n",
      "\n",
      "                            MODFLOW-NWT-SWR1 \n",
      "  U.S. GEOLOGICAL SURVEY MODULAR FINITE-DIFFERENCE GROUNDWATER-FLOW MODEL\n",
      "                         WITH NEWTON FORMULATION\n",
      "                         Version 1.2.0 03/01/202\n",
      "              BASED ON MODFLOW-2005 Version 1.12.0 02/03/2017\n",
      "                      SWR1 Version 1.04.0 09/15/2016\n",
      "\n",
      "              PROCESSES: GWF and OBS\n",
      "              PACKAGES:  BAS, BCF, CHD, DE4, FHB, GAG, GHB,\n",
      "                         HFB, HUF, LAK LPF, MNW1, MNW2, NWT, PCG,\n",
      "                         AG, SFR, SIP, UPW, UZF, WEL, SWI, SWT, LMT\n",
      "\n",
      "\n",
      "        Process            Available Modules\n",
      "--------------------------------------------------------------------\n",
      "  Basin Definition: basin\n",
      "    Cascading Flow: cascade\n",
      "  Time Series Data: obs, water_use_read, dynamic_param_read\n",
      "   Potet Solar Rad: soltab\n",
      "  Temperature Dist: temp_1sta, temp_laps, temp_dist2, climate_hru,\n",
      "                    temp_map\n",
      "       Precip Dist: precip_1sta, precip_laps, precip_dist2,\n",
      "                    climate_hru, precip_map\n",
      "Temp & Precip Dist: xyz_dist, ide_dist\n",
      "    Solar Rad Dist: ccsolrad, ddsolrad, climate_hru\n",
      "Transpiration Dist: transp_tindex, climate_hru, transp_frost\n",
      "      Potential ET: potet_hamon, potet_jh, potet_pan, climate_hru,\n",
      "                    potet_hs, potet_pt, potet_pm, potet_pm_sta\n",
      "      Interception: intcp\n",
      "Snow & Glacr Dynam: snowcomp, glacr_melt\n",
      "    Surface Runoff: srunoff_smidx, srunoff_carea\n",
      "         Soil Zone: soilzone, soilzone_ag\n",
      "       Groundwater: gwflow\n",
      "Streamflow Routing: strmflow, strmflow_in_out, muskingum,\n",
      "                    muskingum_lake, muskingum_mann\n",
      "Stream Temperature: stream_temp\n",
      "    Output Summary: basin_sum, subbasin, map_results, prms_summary,\n",
      "                    nhru_summary, nsub_summary, water_balance\n",
      "                    basin_summary, nsegment_summary, statvar_out\n",
      "     Preprocessing: write_climate_hru, frost_date\n",
      "--------------------------------------------------------------------\n",
      "\n",
      "\n",
      "==========================================================================\n",
      "Please give careful consideration to fixing all ERROR and WARNING messages\n",
      "==========================================================================\n",
      "\n",
      "\n",
      "    Active modules listed in the order in which they are called\n",
      "\n",
      "        Process                    Module         Version Date\n",
      "==============================================================\n",
      "PRMS Computation Order          gsflow_prms         2022-03-01\n",
      "Read Control File               read_control_file   2022-02-23\n",
      "Read Parameter File             read_parameter_file 2022-01-12\n",
      "Read Data File                  read_data_file      2022-01-12\n",
      " ERROR, number of values for data variable: runoff          \n",
      " does not equal dimension value; data values:           1  dimension:           0\n",
      "Basin Definition                basin               2022-02-10\n",
      "Cascading Flow                  cascade             2021-11-19\n",
      "Common States and Fluxes        climateflow         2022-02-18\n",
      "Potential Solar Radiation       soltab              2021-09-07\n",
      "Time Series Data                obs                 2022-01-12\n",
      "Timestep Control                prms_time           2021-11-19\n",
      "Temperature Distribution        climate_hru         2021-11-19\n",
      "Precipitation Distribution      climate_hru         2021-11-19\n",
      "Solar Radiation Distribution    ddsolrad            2021-11-19\n",
      "Transpiration Distribution      transp_tindex       2021-09-07\n",
      "Potential Evapotranspiration    potet_jh            2021-11-19\n",
      "Canopy Interception             intcp               2022-02-03\n",
      "Snow Dynamics                   snowcomp            2022-02-18\n",
      "Surface Runoff                  srunoff_smidx       2022-02-10\n",
      "Soilzone Computations           soilzone            2022-02-04\n",
      "GSFLOW PRMS to MODFLOW          gsflow_prms2mf      2021-12-09\n",
      "GSFLOW MODFLOW to PRMS          gsflow_mf2prms      2022-02-18\n",
      "GSFLOW Output Budget Summary    gsflow_budget       2022-02-18\n",
      "GSFLOW Output CSV Summary       gsflow_sum          2022-02-10\n",
      "Statistics Variables Output     statvar_out         2021-09-08\n",
      "\n",
      "Values for parameter: basin_tsta 10 are ignored as the parameter is not used\n",
      "\n",
      "Values for parameter: gvr_cell_pct 10 are ignored as the parameter is not used\n",
      "\n",
      "Values for parameter: gvr_hru_pct 10 are ignored as the parameter is not used\n",
      "\n",
      "Values for parameter: gwflow_coef 10 are ignored as the parameter is not used\n",
      "\n",
      "Values for parameter: gwsink_coef 10 are ignored as the parameter is not used\n",
      "\n",
      "Values for parameter: gwstor_init 10 are ignored as the parameter is not used\n",
      "\n",
      "Values for parameter: gwstor_min 10 are ignored as the parameter is not used\n",
      "\n",
      "Values for parameter: hru_psta 10 are ignored as the parameter is not used\n",
      "\n",
      "Values for parameter: hru_tsta 10 are ignored as the parameter is not used\n",
      "\n",
      "Values for parameter: max_missing 10 are ignored as the parameter is not used\n",
      "\n",
      "Values for parameter: print_freq 10 are ignored as the parameter is not used\n",
      "\n",
      "Values for parameter: print_type 10 are ignored as the parameter is not used\n",
      "\n",
      "Values for parameter: rain_adj 10 are ignored as the parameter is not used\n",
      "\n",
      "Values for parameter: snow_adj 10 are ignored as the parameter is not used\n",
      "\n",
      "Values for parameter: ssstor_init 10 are ignored as the parameter is not used\n",
      "\n",
      "Values for parameter: tmax_adj 10 are ignored as the parameter is not used\n",
      "\n",
      "Values for parameter: tmax_lapse 10 are ignored as the parameter is not used\n",
      "\n",
      "Values for parameter: tmin_adj 10 are ignored as the parameter is not used\n",
      "\n",
      "Values for parameter: tmin_lapse 10 are ignored as the parameter is not used\n",
      "\n",
      "Values for parameter: hru_lon 10 are ignored as the parameter is not used\n",
      "\n",
      "Values for parameter: hru_subbasin 10 are ignored as the parameter is not used\n",
      "\n",
      "Values for parameter: gw_up_id 10 are ignored as the parameter is not used\n",
      "\n",
      "Values for parameter: gw_down_id 10 are ignored as the parameter is not used\n",
      "\n",
      "Values for parameter: gw_strmseg_down_id 10 are ignored as the parameter is not used\n",
      "\n",
      "Values for parameter: gw_pct_up 10 are ignored as the parameter is not used\n",
      "\n",
      "Values for parameter: subbasin_down 10 are ignored as the parameter is not used\n",
      "\n",
      "Values for parameter: gvr_hru_id 10 are ignored as the parameter is not used\n",
      "\n",
      "Values for parameter: soil_moist_init 10 are ignored as the parameter is not used\n",
      "\n",
      "Values for parameter: soil_rechr_max 10 are ignored as the parameter is not used\n",
      "\n",
      "Values for parameter: soil_rechr_init 10 are ignored as the parameter is not used\n",
      "\n",
      "Values for parameter: ssr2gw_sq 10 are ignored as the parameter is not used\n",
      "==============================================================\n",
      "GSFLOW MODFLOW main             gsflow_modflow      2022-01-12\n",
      "====================================================================\n",
      "MODFLOW Packages\n",
      "====================================================================\n",
      "UZF-NWT Package                 gwf2uzf1_NWT        2021-03-02\n",
      "SFR-NWT Package                 gwf2sfr7_NWT        2022-02-01\n",
      "====================================================================\n",
      "\n",
      "Using NAME file: sagehen_50m.nam\n",
      "\n",
      "Using Solver Package: NWT \n",
      "\n",
      "modflow_time_zero: 2010/01/01\n",
      "\n",
      "Using Control File: /home/carlos/Documents/pygsflow/examples/data/sagehen/50m_tutorials/sagehen_50m_cont.control\n",
      "\n",
      "Using Parameter File: sagehen_50m_par_0.params\n",
      "\n",
      "Writing PRMS Water Budget File: prms.out\n"
     ]
    },
    {
     "name": "stdout",
     "output_type": "stream",
     "text": [
      "\n",
      "Percent difference between GVR mapping and active model domain:  0.0000000D+00\n",
      "\n",
      "Water Budget print frequency is:   7\n",
      "\n",
      "Writing GSFLOW Water Budget File: sagehen_50m_gsflow_output.out\n",
      "\n",
      "Writing GSFLOW CSV File: sagehen_50m_csv_output.csv\n",
      " ERROR variable: runoff not available\n",
      "ERROR STOP 2\n",
      "\n",
      "Error termination. Backtrace:\n",
      "#0  0x7f97cae20d4a\n",
      "#1  0x7f97cae21859\n",
      "#2  0x7f97cae22ff2\n",
      "#3  0x560af0eb8877\n",
      "#4  0x560af0f27cfb\n",
      "#5  0x560af0f290f5\n",
      "#6  0x560af0f7b7d6\n",
      "#7  0x560af0f82653\n",
      "#8  0x560af0eba5c1\n",
      "#9  0x7f97caae3082\n",
      "#10  0x560af0e04639\n",
      "#11  0xffffffffffffffff\n"
     ]
    }
   ],
   "source": [
    "gsflow_exe = os.path.join(\"..\", \"bin\", \"gsflow\")\n",
    "if platform.system().lower() == \"windows\":\n",
    "    gsflow_exe += \".exe\"\n",
    "\n",
    "if run_model:\n",
    "    gsf.run_model(gsflow_exe=gsflow_exe, silent=False)"
   ]
  },
  {
   "cell_type": "markdown",
   "metadata": {},
   "source": [
    "Now load in the statsvar file using the built in method `get_StatVar()` and examine the output"
   ]
  },
  {
   "cell_type": "code",
   "execution_count": 13,
   "metadata": {},
   "outputs": [
    {
     "name": "stdout",
     "output_type": "stream",
     "text": [
      "Loading the statvar output file .....\n"
     ]
    },
    {
     "ename": "ValueError",
     "evalue": "not enough values to unpack (expected 2, got 0)",
     "output_type": "error",
     "traceback": [
      "\u001b[0;31m---------------------------------------------------------------------------\u001b[0m",
      "\u001b[0;31mValueError\u001b[0m                                Traceback (most recent call last)",
      "Cell \u001b[0;32mIn[13], line 2\u001b[0m\n\u001b[1;32m      1\u001b[0m \u001b[38;5;28;01mtry\u001b[39;00m:\n\u001b[0;32m----> 2\u001b[0m     stats \u001b[38;5;241m=\u001b[39m \u001b[43mgsf\u001b[49m\u001b[38;5;241;43m.\u001b[39;49m\u001b[43mprms\u001b[49m\u001b[38;5;241;43m.\u001b[39;49m\u001b[43mget_StatVar\u001b[49m\u001b[43m(\u001b[49m\u001b[43m)\u001b[49m\n\u001b[1;32m      3\u001b[0m \u001b[38;5;28;01mexcept\u001b[39;00m \u001b[38;5;167;01mFileNotFoundError\u001b[39;00m:\n\u001b[1;32m      4\u001b[0m     \u001b[38;5;28mprint\u001b[39m(\u001b[38;5;124m\"\u001b[39m\u001b[38;5;124m@@@@@ Loading cached output @@@@@@\u001b[39m\u001b[38;5;124m\"\u001b[39m)\n",
      "File \u001b[0;32m~/miniconda3/envs/sequia/lib/python3.8/site-packages/gsflow/prms/prms_model.py:205\u001b[0m, in \u001b[0;36mPrmsModel.get_StatVar\u001b[0;34m(self)\u001b[0m\n\u001b[1;32m    196\u001b[0m \u001b[38;5;28;01mdef\u001b[39;00m \u001b[38;5;21mget_StatVar\u001b[39m(\u001b[38;5;28mself\u001b[39m):\n\u001b[1;32m    197\u001b[0m \u001b[38;5;250m    \u001b[39m\u001b[38;5;124;03m\"\"\"\u001b[39;00m\n\u001b[1;32m    198\u001b[0m \u001b[38;5;124;03m    Method to get statvar output\u001b[39;00m\n\u001b[1;32m    199\u001b[0m \n\u001b[0;32m   (...)\u001b[0m\n\u001b[1;32m    203\u001b[0m \n\u001b[1;32m    204\u001b[0m \u001b[38;5;124;03m    \"\"\"\u001b[39;00m\n\u001b[0;32m--> 205\u001b[0m     \u001b[38;5;28mself\u001b[39m\u001b[38;5;241m.\u001b[39mstat \u001b[38;5;241m=\u001b[39m \u001b[43mStatVar\u001b[49m\u001b[38;5;241;43m.\u001b[39;49m\u001b[43mload_from_control_object\u001b[49m\u001b[43m(\u001b[49m\u001b[38;5;28;43mself\u001b[39;49m\u001b[38;5;241;43m.\u001b[39;49m\u001b[43mcontrol\u001b[49m\u001b[43m)\u001b[49m\n\u001b[1;32m    206\u001b[0m     \u001b[38;5;28;01mreturn\u001b[39;00m \u001b[38;5;28mself\u001b[39m\u001b[38;5;241m.\u001b[39mstat\u001b[38;5;241m.\u001b[39mstat_df\n",
      "File \u001b[0;32m~/miniconda3/envs/sequia/lib/python3.8/site-packages/gsflow/output/prms_output.py:75\u001b[0m, in \u001b[0;36mStatVar.load_from_control_object\u001b[0;34m(control)\u001b[0m\n\u001b[1;32m     72\u001b[0m statvar_names \u001b[38;5;241m=\u001b[39m control\u001b[38;5;241m.\u001b[39mget_values(\u001b[38;5;124m\"\u001b[39m\u001b[38;5;124mstatVar_names\u001b[39m\u001b[38;5;124m\"\u001b[39m)\n\u001b[1;32m     73\u001b[0m statvar_elements \u001b[38;5;241m=\u001b[39m control\u001b[38;5;241m.\u001b[39mget_values(\u001b[38;5;124m\"\u001b[39m\u001b[38;5;124mstatVar_element\u001b[39m\u001b[38;5;124m\"\u001b[39m)\n\u001b[0;32m---> 75\u001b[0m \u001b[38;5;28;01mreturn\u001b[39;00m \u001b[43mStatVar\u001b[49m\u001b[43m(\u001b[49m\u001b[43mstatvar_file\u001b[49m\u001b[43m,\u001b[49m\u001b[43m \u001b[49m\u001b[43mstatvar_names\u001b[49m\u001b[43m,\u001b[49m\u001b[43m \u001b[49m\u001b[43mstatvar_elements\u001b[49m\u001b[43m)\u001b[49m\n",
      "File \u001b[0;32m~/miniconda3/envs/sequia/lib/python3.8/site-packages/gsflow/output/prms_output.py:44\u001b[0m, in \u001b[0;36mStatVar.__init__\u001b[0;34m(self, statvar_file, statvar_names, statvar_elements)\u001b[0m\n\u001b[1;32m     41\u001b[0m \u001b[38;5;28mself\u001b[39m\u001b[38;5;241m.\u001b[39mstatvar_elements \u001b[38;5;241m=\u001b[39m statvar_elements\n\u001b[1;32m     42\u001b[0m \u001b[38;5;28mself\u001b[39m\u001b[38;5;241m.\u001b[39mstat_df \u001b[38;5;241m=\u001b[39m \u001b[38;5;28;01mNone\u001b[39;00m\n\u001b[0;32m---> 44\u001b[0m \u001b[38;5;28;43mself\u001b[39;49m\u001b[38;5;241;43m.\u001b[39;49m\u001b[43m_load_statvar_file\u001b[49m\u001b[43m(\u001b[49m\u001b[43m)\u001b[49m\n",
      "File \u001b[0;32m~/miniconda3/envs/sequia/lib/python3.8/site-packages/gsflow/output/prms_output.py:99\u001b[0m, in \u001b[0;36mStatVar._load_statvar_file\u001b[0;34m(self)\u001b[0m\n\u001b[1;32m     97\u001b[0m var_element \u001b[38;5;241m=\u001b[39m []\n\u001b[1;32m     98\u001b[0m \u001b[38;5;28;01mfor\u001b[39;00m header \u001b[38;5;129;01min\u001b[39;00m \u001b[38;5;28mrange\u001b[39m(nvals):\n\u001b[0;32m---> 99\u001b[0m     nm, elem \u001b[38;5;241m=\u001b[39m fid\u001b[38;5;241m.\u001b[39mreadline()\u001b[38;5;241m.\u001b[39mstrip()\u001b[38;5;241m.\u001b[39msplit()\n\u001b[1;32m    101\u001b[0m     \u001b[38;5;28;01mif\u001b[39;00m svn:\n\u001b[1;32m    102\u001b[0m         \u001b[38;5;28mself\u001b[39m\u001b[38;5;241m.\u001b[39mstatvar_names\u001b[38;5;241m.\u001b[39mappend(nm)\n",
      "\u001b[0;31mValueError\u001b[0m: not enough values to unpack (expected 2, got 0)"
     ]
    }
   ],
   "source": [
    "try:\n",
    "    stats = gsf.prms.get_StatVar()\n",
    "except FileNotFoundError:\n",
    "    print(\"@@@@@ Loading cached output @@@@@@\")\n",
    "    statvar = gsflow.output.StatVar(os.path.join(input_ws, \"sagehen_50m_stat_var.dat\"))\n",
    "    stats = statvar.stat_df\n",
    "stats.head()"
   ]
  },
  {
   "cell_type": "code",
   "execution_count": null,
   "metadata": {},
   "outputs": [],
   "source": [
    "# get data from 10/1/1985 onward\n",
    "stats = stats[1096:]\n",
    "stats.reset_index(inplace=True, drop=True)"
   ]
  },
  {
   "cell_type": "markdown",
   "metadata": {},
   "source": [
    "plot simulated vs. measured streamflow results"
   ]
  },
  {
   "cell_type": "code",
   "execution_count": null,
   "metadata": {},
   "outputs": [],
   "source": [
    "fig, ax = plt.subplots(figsize=(16, 6))\n",
    "ax.plot(stats.Date, stats.basin_cfs_1, color='r', linewidth=2.2, label=\"simulated\")\n",
    "ax.plot(stats.Date, stats.runoff_1, color='b', linewidth=1.5, label=\"measured\")\n",
    "ax.legend(bbox_to_anchor=(0.25, 0.65))\n",
    "ax.set_xlabel(\"Date\")\n",
    "ax.set_ylabel(\"Streamflow, in cfs\")\n",
    "ax.set_ylim([0, 2000])\n",
    "plt.show();"
   ]
  },
  {
   "cell_type": "markdown",
   "metadata": {},
   "source": [
    "Plot surface water contributions to streamflow"
   ]
  },
  {
   "cell_type": "code",
   "execution_count": null,
   "metadata": {},
   "outputs": [],
   "source": [
    "gw_seepage = stats.basin_cfs_1.values - (\n",
    "    stats.basin_ssflow_cfs_1.values + \n",
    "    stats.basin_sroff_cfs_1.values +\n",
    "    stats.basin_dunnian_1.values\n",
    ")\n",
    "\n",
    "fig, ax = plt.subplots(figsize=(16, 6))\n",
    "ax.plot(stats.Date, stats.basin_ssflow_cfs_1, color='r', linewidth=1.5, label=\"Interflow\")\n",
    "ax.plot(stats.Date, gw_seepage, color='purple', linewidth=1.5, label=\"Groundwater Seepage\")\n",
    "ax.plot(stats.Date, stats.basin_sroff_cfs_1, color=\"y\", linewidth=1.5, label=\"Hortonian runoff\")\n",
    "ax.plot(stats.Date, stats.basin_dunnian_1, color=\"b\", linewidth=1.5, label=\"Dunnian runoff\")\n",
    "ax.legend(bbox_to_anchor=(0.25, 0.65))\n",
    "ax.set_xlabel(\"Date\")\n",
    "ax.set_ylabel(\"Flow components, in cfs\")\n",
    "ax.set_yscale(\"log\")\n",
    "ax.set_ylim([1e-03, 1e4])\n",
    "plt.show();"
   ]
  },
  {
   "cell_type": "markdown",
   "metadata": {},
   "source": [
    "### Model adjustments for a calibrated result\n",
    "\n",
    "Model calibration adjustments for the sagehen 50m model were performed in a stepwise fashion by hand. Here we adjust the parameters to their final calibrated values and re-run the model. "
   ]
  },
  {
   "cell_type": "markdown",
   "metadata": {},
   "source": [
    "#### Modify PRMS parameters"
   ]
  },
  {
   "cell_type": "code",
   "execution_count": null,
   "metadata": {},
   "outputs": [],
   "source": [
    "# temp distribution\n",
    "v = gsf.prms.parameters.tmax_lapse.values\n",
    "gsf.prms.parameters.tmax_lapse += 1.2\n",
    "gsf.prms.parameters.tmin_lapse += 1.2\n",
    "gsf.prms.parameters.set_values(\n",
    "    \"max_missing\",\n",
    "    gsf.prms.parameters.max_missing.values * 2\n",
    ")\n",
    "\n",
    "# snow \n",
    "gsf.prms.parameters.tmax_allsnow[:] = 0.7\n",
    "covden_win = gsf.prms.parameters.covden_win.values\n",
    "gsf.prms.parameters.rad_trncf[:] = covden_win * 0.8\n",
    "gsf.prms.parameters.add_record(\n",
    "    \"tmax_allrain_offset\",\n",
    "    values=[2.1,] * 12,\n",
    "    dimensions=[[\"nmonths\", 12]]\n",
    ")\n",
    "\n",
    "# ET\n",
    "gsf.prms.parameters.soil_moist_max *= 3.0\n",
    "gsf.prms.parameters.add_record(\n",
    "    \"jh_coef\", \n",
    "    values=[0.03,] * 12, \n",
    "    dimensions=[('nmonths', 12)]\n",
    ")\n",
    "\n",
    "# runoff\n",
    "print(gsf.prms.parameters.snowinfil_max.values)\n",
    "gsf.prms.parameters.snowinfil_max *= 5\n",
    "print(gsf.prms.parameters.snowinfil_max.values)\n",
    "gsf.prms.parameters.smidx_coef /= 100\n",
    "gsf.prms.parameters.smidx_exp /= 100\n",
    "gsf.prms.parameters.carea_max /= 100\n",
    "\n",
    "# Interflow\n",
    "gsf.prms.parameters.slowcoef_sq *= 0.1\n",
    "gsf.prms.parameters.slowcoef_lin *= 3.0\n",
    "\n",
    "# Recharge\n",
    "gsf.prms.parameters.ssr2gw_rate *= 500\n",
    "gsf.prms.parameters.sat_threshold /= 3"
   ]
  },
  {
   "cell_type": "markdown",
   "metadata": {},
   "source": [
    "#### Write calibrated model to file"
   ]
  },
  {
   "cell_type": "code",
   "execution_count": null,
   "metadata": {},
   "outputs": [],
   "source": [
    "gsf.write_input(basename=\"sagehen_50m_cal\", workspace=output_ws)"
   ]
  },
  {
   "cell_type": "markdown",
   "metadata": {},
   "source": [
    "### Running the calibrated model\n",
    "\n",
    "The calibrated GSFLOW model can be run using the built in `run_model()` method. The `run_model()` method has 4 optional parameters:\n",
    "   - `model_ws` : path to model directory\n",
    "   - `forgive` : boolean flag, which forgives convergence issues (will return True for successful run)\n",
    "   - `gsflow_exe` : optional path to the gsflow executable\n",
    "   - `silent` : boolean flag to silence model output from being written to the screen. Default is False\n",
    "   \n",
    "Note: change `run_model = True` to `run_model = False` to skip the model run. The model run takes about 20 minutes to complete. Output has been saved for this example and results will load regardless of model run status."
   ]
  },
  {
   "cell_type": "code",
   "execution_count": null,
   "metadata": {},
   "outputs": [],
   "source": [
    "run_model = True"
   ]
  },
  {
   "cell_type": "code",
   "execution_count": null,
   "metadata": {},
   "outputs": [],
   "source": [
    "gsflow_exe = os.path.join(\"..\", \"bin\", \"gsflow\")\n",
    "if platform.system().lower() == \"windows\":\n",
    "    gsflow_exe += \".exe\"\n",
    "\n",
    "if run_model:\n",
    "    gsf.run_model(gsflow_exe=gsflow_exe, silent=True)"
   ]
  },
  {
   "cell_type": "markdown",
   "metadata": {},
   "source": [
    "### Get calibrated model results from the statistics variables file\n",
    "\n",
    "Load in the statsvar file using the built in method `get_StatVar()` and examine the output"
   ]
  },
  {
   "cell_type": "code",
   "execution_count": null,
   "metadata": {},
   "outputs": [],
   "source": [
    "try:\n",
    "    stats = gsf.prms.get_StatVar()\n",
    "except FileNotFoundError:\n",
    "    print(\"@@@@@ Loading cached output @@@@@@\")\n",
    "    statvar = gsflow.output.StatVar(os.path.join(input_ws, \"sagehen_50m_cal_stat_var.dat\"))\n",
    "    stats = statvar.stat_df\n",
    "stats.head()"
   ]
  },
  {
   "cell_type": "code",
   "execution_count": null,
   "metadata": {},
   "outputs": [],
   "source": [
    "# get data from 10/1/1985 onward\n",
    "stats = stats[1096:]\n",
    "stats.reset_index(inplace=True, drop=True)"
   ]
  },
  {
   "cell_type": "markdown",
   "metadata": {},
   "source": [
    "#### plot simulated vs. measured streamflow results"
   ]
  },
  {
   "cell_type": "code",
   "execution_count": null,
   "metadata": {},
   "outputs": [],
   "source": [
    "fig, ax = plt.subplots(figsize=(16, 6))\n",
    "ax.plot(stats.Date, stats.basin_cfs_1, color='r', linewidth=2.2, label=\"simulated\")\n",
    "ax.plot(stats.Date, stats.runoff_1, color='b', linewidth=1.5, label=\"measured\")\n",
    "ax.legend(bbox_to_anchor=(0.25, 0.65))\n",
    "ax.set_xlabel(\"Date\")\n",
    "ax.set_ylabel(\"Streamflow, in cfs\")\n",
    "ax.set_ylim([0, 400])\n",
    "plt.show();"
   ]
  },
  {
   "cell_type": "markdown",
   "metadata": {},
   "source": [
    "#### plot surface water contribution to streamflow"
   ]
  },
  {
   "cell_type": "code",
   "execution_count": null,
   "metadata": {
    "scrolled": false
   },
   "outputs": [],
   "source": [
    "gw_seepage = stats.basin_cfs_1.values.copy() - (\n",
    "    stats.basin_ssflow_cfs_1.values.copy() + \n",
    "    stats.basin_sroff_cfs_1.values.copy() +\n",
    "    stats.basin_dunnian_1.values.copy()\n",
    ")\n",
    "\n",
    "fig, ax = plt.subplots(figsize=(16, 6))\n",
    "ax.plot(stats.Date, stats.basin_ssflow_cfs_1, color='r', linewidth=1.5, label=\"Interflow\")\n",
    "ax.plot(stats.Date, gw_seepage, color='purple', linewidth=1.5, label=\"Groundwater Seepage\")\n",
    "ax.plot(stats.Date, stats.basin_sroff_cfs_1, color=\"y\", linewidth=1.5, label=\"Hortonian runoff\")\n",
    "ax.plot(stats.Date, stats.basin_dunnian_1, color=\"b\", linewidth=1.5, label=\"Dunnian runoff\")\n",
    "ax.legend(bbox_to_anchor=(0.25, 0.65))\n",
    "ax.set_xlabel(\"Date\")\n",
    "ax.set_ylabel(\"Flow components, in cfs\")\n",
    "ax.set_yscale(\"log\")\n",
    "ax.set_ylim([1e-03, 1e4])\n",
    "plt.show();"
   ]
  },
  {
   "cell_type": "markdown",
   "metadata": {},
   "source": [
    "## This concludes the pyGSFLOW builder tutorials.\n",
    "\n",
    "These tutorials outline GSFLOW model building starting from Raster data and going to a fully operational model. The example problem Sagehen 50m was used to demonstrate this process."
   ]
  },
  {
   "cell_type": "code",
   "execution_count": null,
   "metadata": {},
   "outputs": [],
   "source": []
  }
 ],
 "metadata": {
  "kernelspec": {
   "display_name": "sequia",
   "language": "python",
   "name": "sequia"
  },
  "language_info": {
   "codemirror_mode": {
    "name": "ipython",
    "version": 3
   },
   "file_extension": ".py",
   "mimetype": "text/x-python",
   "name": "python",
   "nbconvert_exporter": "python",
   "pygments_lexer": "ipython3",
   "version": "3.8.18"
  }
 },
 "nbformat": 4,
 "nbformat_minor": 2
}
