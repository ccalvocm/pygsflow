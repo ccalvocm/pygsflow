{
 "cells": [
  {
   "cell_type": "markdown",
   "metadata": {},
   "source": [
    "# Working with model paths\n",
    "\n",
    "In this example we show how to deal with model paths, which can be tricky when working with a GSFLOW model or individual parts of a GSFLOW model.\n",
    "\n",
    "Relative paths in the GSFLOW control file and in the MODFLOW NAM file are always set relative to the shell or bat file the model is being run from. This file does not need to be in the same directory as any of the model files. We show how to work with these cases."
   ]
  },
  {
   "cell_type": "code",
   "execution_count": 1,
   "metadata": {},
   "outputs": [],
   "source": [
    "import os\n",
    "import gsflow\n",
    "from gsflow.modflow import Modflow"
   ]
  },
  {
   "cell_type": "markdown",
   "metadata": {},
   "source": [
    "### How pyGSFLOW automatically determines the \"base path\" for a model\n",
    "\n",
    "The default method `pyGSFLOW` uses to determine the base path is by the location of the Control file. When a model is loaded using `gsflow.GsflowModel.load_from_file()` the code determines the location of the control file and applies this as the base directory for all relative paths within the control file and the MODFLOW NAM file.\n",
    "\n",
    "Here are a couple of examples of this case"
   ]
  },
  {
   "cell_type": "code",
   "execution_count": 2,
   "metadata": {},
   "outputs": [
    {
     "name": "stdout",
     "output_type": "stream",
     "text": [
      "Control file is loaded\n",
      "Working on loading PRMS model ...\n",
      "Prms model loading ...\n",
      "------------------------------------\n",
      "Reading parameter file : saghen_new_par_0.params\n",
      "------------------------------------\n",
      "Warning: ncascade data type will be infered from data supplied\n",
      "Warning: ncascdgw data type will be infered from data supplied\n",
      "Warning: ndays data type will be infered from data supplied\n",
      "Warning: ndepl data type will be infered from data supplied\n",
      "Warning: ndeplval data type will be infered from data supplied\n",
      "Warning: nevap data type will be infered from data supplied\n",
      "Warning: ngw data type will be infered from data supplied\n",
      "Warning: ngwcell data type will be infered from data supplied\n",
      "Warning: nhru data type will be infered from data supplied\n",
      "Warning: nhrucell data type will be infered from data supplied\n",
      "Warning: nlake data type will be infered from data supplied\n",
      "Warning: nlake_hrus data type will be infered from data supplied\n",
      "Warning: nmonths data type will be infered from data supplied\n",
      "Warning: nobs data type will be infered from data supplied\n",
      "Warning: nrain data type will be infered from data supplied\n",
      "Warning: nreach data type will be infered from data supplied\n",
      "Warning: nsegment data type will be infered from data supplied\n",
      "Warning: nsnow data type will be infered from data supplied\n",
      "Warning: nsol data type will be infered from data supplied\n",
      "Warning: nssr data type will be infered from data supplied\n",
      "Warning: nsub data type will be infered from data supplied\n",
      "Warning: ntemp data type will be infered from data supplied\n",
      "Warning: one data type will be infered from data supplied\n",
      "------------------------------------\n",
      "Reading parameter file : saghen_new_par_1.params\n",
      "------------------------------------\n",
      "------------------------------------\n",
      "Reading parameter file : saghen_new_par_2.params\n",
      "------------------------------------\n",
      "------------------------------------\n",
      "Reading parameter file : saghen_new_par_3.params\n",
      "------------------------------------\n",
      "PRMS model loaded ...\n",
      "Working on loading MODFLOW files ....\n",
      "   loading iuzfbnd array...\n",
      "   loading irunbnd array...\n",
      "   loading vks array...\n",
      "   loading eps array...\n",
      "   loading thts array...\n",
      "stress period 1:\n",
      "   loading finf array...\n",
      "stress period 2:\n",
      "MODFLOW files are loaded ... \n"
     ]
    }
   ],
   "source": [
    "control_file = os.path.join(\".\", \"data\", \"sagehen\", \"gsflow\", \"saghen_new_cont.control\")\n",
    "gsf = gsflow.GsflowModel.load_from_file(control_file)"
   ]
  },
  {
   "cell_type": "markdown",
   "metadata": {},
   "source": [
    "### Loading only the modflow files using the standard method\n",
    "\n",
    "we first specify the `model_ws` which is the base directory that paths in the NAM file are relative to and then we can pass this to the `Modflow.load()` method."
   ]
  },
  {
   "cell_type": "code",
   "execution_count": 3,
   "metadata": {},
   "outputs": [
    {
     "name": "stdout",
     "output_type": "stream",
     "text": [
      "   loading iuzfbnd array...\n",
      "   loading irunbnd array...\n",
      "   loading vks array...\n",
      "   loading eps array...\n",
      "   loading thts array...\n",
      "stress period 1:\n",
      "   loading finf array...\n",
      "stress period 2:\n"
     ]
    },
    {
     "data": {
      "text/plain": [
       "MODFLOW 2 layer(s) 77 row(s) 84 column(s) 2 stress period(s)"
      ]
     },
     "execution_count": 3,
     "metadata": {},
     "output_type": "execute_result"
    }
   ],
   "source": [
    "model_ws = os.path.join(\".\", \"data\", \"sagehen\", \"gsflow\")\n",
    "\n",
    "name_file = \"saghen_new.nam\" \n",
    "ml = Modflow.load(name_file, model_ws=model_ws)\n",
    "ml"
   ]
  },
  {
   "cell_type": "markdown",
   "metadata": {},
   "source": [
    "## Specifying the \"base path\"\n",
    "\n",
    "Specifying the \"base path\" is useful when paths are not relative to the GSFLOW control file. This is the case when the model run file (.bat, .sh) is located in a different directory.\n",
    "\n",
    "The `model_ws` parameter in the `GsflowModel.load_from_file()` allows the user to override the default behaviour and set the base path for all model files.\n",
    "\n",
    "Here is an example where the model run file is located one directory up from the control file:"
   ]
  },
  {
   "cell_type": "code",
   "execution_count": 4,
   "metadata": {},
   "outputs": [
    {
     "name": "stdout",
     "output_type": "stream",
     "text": [
      "Control file is loaded\n",
      "Working on loading PRMS model ...\n",
      "Prms model loading ...\n",
      "------------------------------------\n",
      "Reading parameter file : saghen_paths_par_0.params\n",
      "------------------------------------\n",
      "Warning: ncascade data type will be infered from data supplied\n",
      "Warning: ncascdgw data type will be infered from data supplied\n",
      "Warning: ndays data type will be infered from data supplied\n",
      "Warning: ndepl data type will be infered from data supplied\n",
      "Warning: ndeplval data type will be infered from data supplied\n",
      "Warning: nevap data type will be infered from data supplied\n",
      "Warning: ngw data type will be infered from data supplied\n",
      "Warning: ngwcell data type will be infered from data supplied\n",
      "Warning: nhru data type will be infered from data supplied\n",
      "Warning: nhrucell data type will be infered from data supplied\n",
      "Warning: nlake data type will be infered from data supplied\n",
      "Warning: nlake_hrus data type will be infered from data supplied\n",
      "Warning: nmonths data type will be infered from data supplied\n",
      "Warning: nobs data type will be infered from data supplied\n",
      "Warning: nrain data type will be infered from data supplied\n",
      "Warning: nreach data type will be infered from data supplied\n",
      "Warning: nsegment data type will be infered from data supplied\n",
      "Warning: nsnow data type will be infered from data supplied\n",
      "Warning: nsol data type will be infered from data supplied\n",
      "Warning: nssr data type will be infered from data supplied\n",
      "Warning: nsub data type will be infered from data supplied\n",
      "Warning: ntemp data type will be infered from data supplied\n",
      "Warning: one data type will be infered from data supplied\n",
      "------------------------------------\n",
      "Reading parameter file : saghen_paths_par_1.params\n",
      "------------------------------------\n",
      "------------------------------------\n",
      "Reading parameter file : saghen_paths_par_2.params\n",
      "------------------------------------\n",
      "------------------------------------\n",
      "Reading parameter file : saghen_paths_par_3.params\n",
      "------------------------------------\n",
      "PRMS model loaded ...\n",
      "Working on loading MODFLOW files ....\n",
      "   loading iuzfbnd array...\n",
      "   loading irunbnd array...\n",
      "   loading vks array...\n",
      "   loading eps array...\n",
      "   loading thts array...\n",
      "stress period 1:\n",
      "   loading finf array...\n",
      "stress period 2:\n",
      "MODFLOW files are loaded ... \n"
     ]
    }
   ],
   "source": [
    "# set the location of model run file \n",
    "model_ws = os.path.join(\".\", \"data\", \"sagehen\", \"gsflow_paths\")\n",
    "\n",
    "# set the location of the gsflow control file\n",
    "control_file = os.path.join(model_ws, \"control\", \"saghen_paths_cont.control\")\n",
    "\n",
    "# load the model and override the default path creation by passing in model_ws\n",
    "gsf = gsflow.GsflowModel.load_from_file(control_file, model_ws=model_ws)"
   ]
  },
  {
   "cell_type": "markdown",
   "metadata": {},
   "source": [
    "### Loading only MODFLOW or PRMS with `GsflowModel` after specifying \"base path\""
   ]
  },
  {
   "cell_type": "code",
   "execution_count": 5,
   "metadata": {},
   "outputs": [
    {
     "name": "stdout",
     "output_type": "stream",
     "text": [
      "Control file is loaded\n",
      "Working on loading MODFLOW files ....\n",
      "   loading iuzfbnd array...\n",
      "   loading irunbnd array...\n",
      "   loading vks array...\n",
      "   loading eps array...\n",
      "   loading thts array...\n",
      "stress period 1:\n",
      "   loading finf array...\n",
      "stress period 2:\n",
      "MODFLOW files are loaded ... \n"
     ]
    },
    {
     "data": {
      "text/plain": [
       "MODFLOW 2 layer(s) 77 row(s) 84 column(s) 2 stress period(s)"
      ]
     },
     "execution_count": 5,
     "metadata": {},
     "output_type": "execute_result"
    }
   ],
   "source": [
    "# set the location of model run file \n",
    "model_ws = os.path.join(\".\", \"data\", \"sagehen\", \"gsflow_paths\")\n",
    "\n",
    "# set the location of the gsflow control file\n",
    "control_file = os.path.join(model_ws, \"control\", \"saghen_paths_cont.control\")\n",
    "\n",
    "# load only modflow into the GsflowModel object and override the default path creation by passing in model_ws\n",
    "gsf = gsflow.GsflowModel.load_from_file(control_file, modflow_only=True, model_ws=model_ws)\n",
    "\n",
    "# get the modflow model\n",
    "ml = gsf.mf\n",
    "ml"
   ]
  },
  {
   "cell_type": "code",
   "execution_count": 6,
   "metadata": {},
   "outputs": [
    {
     "name": "stdout",
     "output_type": "stream",
     "text": [
      "Control file is loaded\n",
      "Working on loading PRMS model ...\n",
      "Prms model loading ...\n",
      "------------------------------------\n",
      "Reading parameter file : saghen_paths_par_0.params\n",
      "------------------------------------\n",
      "Warning: ncascade data type will be infered from data supplied\n",
      "Warning: ncascdgw data type will be infered from data supplied\n",
      "Warning: ndays data type will be infered from data supplied\n",
      "Warning: ndepl data type will be infered from data supplied\n",
      "Warning: ndeplval data type will be infered from data supplied\n",
      "Warning: nevap data type will be infered from data supplied\n",
      "Warning: ngw data type will be infered from data supplied\n",
      "Warning: ngwcell data type will be infered from data supplied\n",
      "Warning: nhru data type will be infered from data supplied\n",
      "Warning: nhrucell data type will be infered from data supplied\n",
      "Warning: nlake data type will be infered from data supplied\n",
      "Warning: nlake_hrus data type will be infered from data supplied\n",
      "Warning: nmonths data type will be infered from data supplied\n",
      "Warning: nobs data type will be infered from data supplied\n",
      "Warning: nrain data type will be infered from data supplied\n",
      "Warning: nreach data type will be infered from data supplied\n",
      "Warning: nsegment data type will be infered from data supplied\n",
      "Warning: nsnow data type will be infered from data supplied\n",
      "Warning: nsol data type will be infered from data supplied\n",
      "Warning: nssr data type will be infered from data supplied\n",
      "Warning: nsub data type will be infered from data supplied\n",
      "Warning: ntemp data type will be infered from data supplied\n",
      "Warning: one data type will be infered from data supplied\n",
      "------------------------------------\n",
      "Reading parameter file : saghen_paths_par_1.params\n",
      "------------------------------------\n",
      "------------------------------------\n",
      "Reading parameter file : saghen_paths_par_2.params\n",
      "------------------------------------\n",
      "------------------------------------\n",
      "Reading parameter file : saghen_paths_par_3.params\n",
      "------------------------------------\n",
      "PRMS model loaded ...\n"
     ]
    }
   ],
   "source": [
    "# set the location of model run file \n",
    "model_ws = os.path.join(\".\", \"data\", \"sagehen\", \"gsflow_paths\")\n",
    "\n",
    "# set the location of the gsflow control file\n",
    "control_file = os.path.join(model_ws, \"control\", \"saghen_paths_cont.control\")\n",
    "\n",
    "# load only modflow into the GsflowModel object and override the default path creation by passing in model_ws\n",
    "gsf = gsflow.GsflowModel.load_from_file(control_file, prms_only=True, model_ws=model_ws)\n",
    "\n",
    "# get the prms model\n",
    "prms = gsf.prms"
   ]
  },
  {
   "cell_type": "markdown",
   "metadata": {},
   "source": [
    "### Loading MODFLOW with `Modflow` after specifying the base path"
   ]
  },
  {
   "cell_type": "code",
   "execution_count": 7,
   "metadata": {},
   "outputs": [
    {
     "name": "stdout",
     "output_type": "stream",
     "text": [
      "   loading iuzfbnd array...\n",
      "   loading irunbnd array...\n",
      "   loading vks array...\n",
      "   loading eps array...\n",
      "   loading thts array...\n",
      "stress period 1:\n",
      "   loading finf array...\n",
      "stress period 2:\n"
     ]
    }
   ],
   "source": [
    "# specify our base path\n",
    "model_ws = os.path.join(\".\", \"data\", \"sagehen\", \"gsflow_paths\")\n",
    "\n",
    "# specify the relative path to the NAM file\n",
    "name_file = os.path.join(\"modflow\", \"saghen_paths.nam\")\n",
    "\n",
    "ml = Modflow.load(name_file, model_ws=model_ws)"
   ]
  },
  {
   "cell_type": "code",
   "execution_count": null,
   "metadata": {},
   "outputs": [],
   "source": []
  }
 ],
 "metadata": {
  "kernelspec": {
   "display_name": "Python 3 (ipykernel)",
   "language": "python",
   "name": "python3"
  },
  "language_info": {
   "codemirror_mode": {
    "name": "ipython",
    "version": 3
   },
   "file_extension": ".py",
   "mimetype": "text/x-python",
   "name": "python",
   "nbconvert_exporter": "python",
   "pygments_lexer": "ipython3",
   "version": "3.8.18"
  }
 },
 "nbformat": 4,
 "nbformat_minor": 2
}
