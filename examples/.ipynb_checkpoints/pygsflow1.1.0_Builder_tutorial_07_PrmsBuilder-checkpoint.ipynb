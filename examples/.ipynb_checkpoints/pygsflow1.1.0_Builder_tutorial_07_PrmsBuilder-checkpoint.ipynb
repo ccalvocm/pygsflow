{
 "cells": [
  {
   "cell_type": "markdown",
   "metadata": {},
   "source": [
    "# Builder Tutorial number 7\n",
    "\n",
    "The builder tutorials demonstrate how to build an operational GSFLOW model using `pyGSFLOW` from shapefile, DEM, and other common data sources. These tutorials focus on the `gsflow.builder` classes.\n",
    "\n",
    "## Building PRMS parameter input files\n",
    "\n",
    "In this tutorial, we demonstrate how to build PRMS parameter input files for GSFLOW and PRMS models. The building method relies on a number of defaults stored within pyGSFLOW, which allows the user to 1) rapidly generate a basic PRMS model, and 2) later adjust it using pyGSFLOW built in functionality."
   ]
  },
  {
   "cell_type": "code",
   "execution_count": 11,
   "metadata": {},
   "outputs": [],
   "source": [
    "import os\n",
    "import utm\n",
    "import shapefile\n",
    "import matplotlib.pyplot as plt\n",
    "import matplotlib.colors as mcolors\n",
    "import numpy as np\n",
    "import flopy\n",
    "from gsflow.builder import GenerateFishnet, FlowAccumulation"
   ]
  },
  {
   "cell_type": "markdown",
   "metadata": {},
   "source": [
    "### The `PrmsBuilder` class\n",
    "\n",
    "The `PrmsBuilder` class builds a PRMS parameter file from pyGSFLOW default parameter values (from PRMS tables 5.2.0) and user supplied cascade routing information. \n",
    "\n",
    "The `PrmsBuilder` class has 4 required parameters and 3 optional parameters:\n",
    "\n",
    "**REQUIRED parameters**\n",
    "   - `stream_data_obj` : A `_StreamsObj` object that contains stream connectivity information (created by `FlowAccumulation.make_streams()`)\n",
    "   - `cascades_obj` : A `_Cascades` object that contains cascade routing information (created by `FlowAccumulation.get_cascades()`)\n",
    "   - `modelgrid` : modelgrid instance from GenerateFishnet (flopy.discretization.StructuredGrid object)\n",
    "   - `dem` : numpy array of resampled DEM map data\n",
    "   \n",
    "**OPTIONAL parameters**\n",
    "   - `hru_type` : optional hru_type array that defines inactive=0, land=1, lake=2, swale=3, and glacier=4 cells. \n",
    "   - `hru_subbasin` : optional hru_subbasin array that can be defined by using the `FlowAccumulation.define_subbasins()` method.\n",
    "   - `defaults` : optional parameter, user can supply a gsflow.builder.Defaults instance to ModflowBuilder to use a custom set of default values\n",
    "   \n",
    "Let's start by importing the class"
   ]
  },
  {
   "cell_type": "code",
   "execution_count": 12,
   "metadata": {},
   "outputs": [],
   "source": [
    "from gsflow.builder import PrmsBuilder"
   ]
  },
  {
   "cell_type": "markdown",
   "metadata": {},
   "source": [
    "## Applying the methods to the Sagehen 50m example problem\n",
    "\n",
    "In this example the methods are applied directly to the Sagehen 50m model as they are presented."
   ]
  },
  {
   "cell_type": "code",
   "execution_count": 13,
   "metadata": {},
   "outputs": [],
   "source": [
    "# define the input and output data paths\n",
    "input_ws = os.path.join(\"data\", \"sagehen\", \"50m_tutorials\")\n",
    "output_ws = input_ws\n",
    "\n",
    "# define the modelgrid and resampled DEM data paths\n",
    "mg_file = os.path.join(input_ws, \"sagehen_50m_grid.bin\")\n",
    "dem_data = os.path.join(input_ws, \"sagehen_50m_dem.txt\")\n",
    "\n",
    "# define the watershed data path\n",
    "watershed_file = os.path.join(input_ws, \"sagehen_50m_watershed.txt\")\n",
    "\n",
    "# define the stream information and cascade routing binary data paths\n",
    "stream_file = os.path.join(input_ws, \"sagehen_50m_streams.bin\")\n",
    "cascade_file = os.path.join(input_ws, \"sagehen_50m_cascades.bin\")"
   ]
  },
  {
   "cell_type": "markdown",
   "metadata": {},
   "source": [
    "Load the previously processed data"
   ]
  },
  {
   "cell_type": "code",
   "execution_count": 14,
   "metadata": {},
   "outputs": [],
   "source": [
    "# load modelgrid, dem, watershed, stream information, and cascade routing file\n",
    "modelgrid = GenerateFishnet.load_from_file(mg_file)\n",
    "dem_data = np.genfromtxt(dem_data)\n",
    "watershed = np.genfromtxt(watershed_file, dtype=int)\n",
    "strm_obj = FlowAccumulation.load_streams(stream_file)\n",
    "cascades = FlowAccumulation.load_cascades(cascade_file)"
   ]
  },
  {
   "cell_type": "markdown",
   "metadata": {},
   "source": [
    "### Building a parameter file object\n",
    "\n",
    "Now that the modelgrid, resampled dem, watershed, and streamflow information has been loaded. `PrmsBuilder` can be instantiated\n",
    "\n",
    "In this example all parameters except `defaults` are supplied to `PrmsBuilder` on instantiation. The built in `Defaults` will be used to create the initial iteration of the Sagehen 50m model."
   ]
  },
  {
   "cell_type": "code",
   "execution_count": 15,
   "metadata": {},
   "outputs": [],
   "source": [
    "prmsbuild = PrmsBuilder(\n",
    "    strm_obj,\n",
    "    cascades,\n",
    "    modelgrid,\n",
    "    dem_data.ravel(),\n",
    "    hru_type=watershed.ravel(),\n",
    "    hru_subbasin=watershed.ravel()\n",
    ")"
   ]
  },
  {
   "cell_type": "markdown",
   "metadata": {},
   "source": [
    "To build a parameter file object the user just needs to run the `build()` method"
   ]
  },
  {
   "cell_type": "code",
   "execution_count": 16,
   "metadata": {},
   "outputs": [
    {
     "name": "stdout",
     "output_type": "stream",
     "text": [
      "<gsflow.prms.prms_parameter.PrmsParameters object at 0x7f34d007a970>\n",
      "['ndays', 'ndepl', 'nlake', 'nmonths', 'nrain', 'ntemp', 'one', 'nsegment', 'nreach', 'ngw']\n"
     ]
    }
   ],
   "source": [
    "parameters = prmsbuild.build()\n",
    "\n",
    "print(parameters)\n",
    "print(parameters.record_names[0:10])"
   ]
  },
  {
   "cell_type": "markdown",
   "metadata": {},
   "source": [
    "## `PrmsParameters` object overview\n",
    "\n",
    "The `PrmsParameters` object holds parameter file information and allows the user to edit parameters, add parameters, remove parameters, and write PRMS parameter information to parameter file(s). The `pygsflow_quickstart` notebooks show how to interact with this class in more detail than will be presented here. \n",
    "\n",
    "Instead this example shows how to update the values of two existing variables \"hru_lat\" and \"hru_lon\" and how to write the parameter object to file for later updating and tuning.\n",
    "\n",
    "Futher tuning and calibration is presented in a later Notebook of the Builder_tutorial series."
   ]
  },
  {
   "cell_type": "markdown",
   "metadata": {},
   "source": [
    "### `ParameterRecord` explanation\n",
    "\n",
    "All parameter values are stored in a parameter record object that contains information about the parameters data type, prms dimensions, and parameter file name path. Let's look at a `ParameterRecord` object quickly"
   ]
  },
  {
   "cell_type": "code",
   "execution_count": 17,
   "metadata": {},
   "outputs": [
    {
     "name": "stdout",
     "output_type": "stream",
     "text": [
      "\n",
      "####\n",
      "ssr2gw_rate 10\n",
      "1\n",
      "nssr\n",
      "16640\n",
      "2\n",
      "0.1\n",
      "0.1\n",
      "0.1\n",
      "0.1.\n",
      ".\n",
      ".\n",
      "####\n",
      "<class 'gsflow.prms.prms_parameter.ParameterRecord'>\n",
      "[16640]\n",
      "[0.1 0.1 0.1 0.1 0.1]\n"
     ]
    }
   ],
   "source": [
    "ssr2gw_rate = parameters.get_record(\"ssr2gw_rate\")\n",
    "\n",
    "print(ssr2gw_rate)\n",
    "print(type(ssr2gw_rate))\n",
    "print(ssr2gw_rate.dims)\n",
    "print(ssr2gw_rate.values[0:5])"
   ]
  },
  {
   "cell_type": "markdown",
   "metadata": {},
   "source": [
    "### Updating all values of an existing parameter\n",
    "\n",
    "The `PrmsParameters` object allows the user to easily update existing parameters using pyGSFLOW. Here is an example of updating the PRMS \"hru_lat\" and \"hru_lon\" parameters.\n",
    "\n",
    "Because of python overloading methods arithmatic and setting values can be applied to the `ParameterRecord` object by calling it's name as an attribute."
   ]
  },
  {
   "cell_type": "code",
   "execution_count": 18,
   "metadata": {},
   "outputs": [],
   "source": [
    "lat, lon = utm.to_latlon(\n",
    "    modelgrid.xcellcenters.ravel(),\n",
    "    modelgrid.ycellcenters.ravel(),\n",
    "    10,\n",
    "    \"N\"\n",
    ")\n",
    "\n",
    "# set hru_lat and hru_lon values, using dynamic methods\n",
    "parameters.hru_lat = lat\n",
    "parameters.hru_lon = lon"
   ]
  },
  {
   "cell_type": "markdown",
   "metadata": {},
   "source": [
    "Now let's confirm that are values where set correctly and that \"hru_lon\" is still a `ParameterRecord` object."
   ]
  },
  {
   "cell_type": "code",
   "execution_count": 19,
   "metadata": {},
   "outputs": [
    {
     "name": "stdout",
     "output_type": "stream",
     "text": [
      "\n",
      "####\n",
      "hru_lon 10\n",
      "1\n",
      "nhru\n",
      "16640\n",
      "2\n",
      "-124.94685540391141\n",
      "-124.94184083618488\n",
      "-124.9368262429658\n",
      "-124.9318116243197.\n",
      ".\n",
      ".\n",
      "####\n",
      "<class 'gsflow.prms.prms_parameter.ParameterRecord'>\n"
     ]
    }
   ],
   "source": [
    "if not np.allclose(parameters.hru_lat.values, lat):\n",
    "    raise Exception()\n",
    "\n",
    "if not np.allclose(parameters.hru_lon.values, lon):\n",
    "    raise Exception()\n",
    "\n",
    "    \n",
    "print(parameters.hru_lon)\n",
    "print(type(parameters.hru_lon))"
   ]
  },
  {
   "cell_type": "markdown",
   "metadata": {},
   "source": [
    "### Writing the `PrmsParameter` object to a PRMS parameter file \n",
    "\n",
    "This section shows how to write the `PrmsParameter` object to a GSFLOW/PRMS parameter input file using the built in `write()` method. The Builder Tutorial series will revist this file later for further tuning and to adjust parameters that represent soil properties, vegetative cover, and imperviousness."
   ]
  },
  {
   "cell_type": "code",
   "execution_count": 20,
   "metadata": {},
   "outputs": [],
   "source": [
    "param_file = os.path.join(output_ws, \"sagehen_50m_initial.param\")\n",
    "parameters.write(param_file)"
   ]
  },
  {
   "cell_type": "code",
   "execution_count": null,
   "metadata": {},
   "outputs": [],
   "source": []
  }
 ],
 "metadata": {
  "kernelspec": {
   "display_name": "sequia",
   "language": "python",
   "name": "sequia"
  },
  "language_info": {
   "codemirror_mode": {
    "name": "ipython",
    "version": 3
   },
   "file_extension": ".py",
   "mimetype": "text/x-python",
   "name": "python",
   "nbconvert_exporter": "python",
   "pygments_lexer": "ipython3",
   "version": "3.8.18"
  }
 },
 "nbformat": 4,
 "nbformat_minor": 2
}
