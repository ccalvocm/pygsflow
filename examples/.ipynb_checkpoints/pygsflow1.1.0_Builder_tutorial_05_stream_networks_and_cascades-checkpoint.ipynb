{
 "cells": [
  {
   "cell_type": "markdown",
   "metadata": {},
   "source": [
    "# Builder Tutorial number 5\n",
    "\n",
    "The builder tutorials demonstrate how to build an operational GSFLOW model using `pyGSFLOW` from shapefile, DEM, and other common data sources. These tutorials focus on the `gsflow.builder` classes.\n",
    "\n",
    "## Building stream networks and cascade information for GSFLOW\n",
    "\n",
    "In this tutorial, we demonstrate how to generate stream network and cascade routing information for GSFLOW models. The streamflow connectivity and cascade connectivity is needed to define the streamflow network in modflow's SFR package and to define stream and cascade connectivity in PRMS."
   ]
  },
  {
   "cell_type": "code",
   "execution_count": 14,
   "metadata": {},
   "outputs": [],
   "source": [
    "import os\n",
    "import shapefile\n",
    "import matplotlib.pyplot as plt\n",
    "import matplotlib.colors as mcolors\n",
    "import numpy as np\n",
    "import flopy\n",
    "from gsflow.builder import GenerateFishnet"
   ]
  },
  {
   "cell_type": "markdown",
   "metadata": {},
   "source": [
    "### The `FlowAccumulation` class (refresher)\n",
    "\n",
    "The `FlowAccumulation` class performs many operations including generating flow direction arrays and flow accumulation arrays. This example notebook focuses is on the `flow_direction` and `flow_accumulation` methods of this class. Other methods are presented in following tutorials.\n",
    "\n",
    "The `FlowAccumulation` class has 3 required parameters and 5 optional input parameters:  \n",
    "\n",
    "**REQUIRED Parameters**\n",
    "   - `data` : resampled dem data array of dimension nrow, ncol (matches modelgrid dimension)\n",
    "   - `xcenters` : a two dimensional array of x coordinate cell centers (dimension nrow, ncol)\n",
    "   - `ycenters` : a two dimensional array of y coordinate cell centers (dimension nrow, ncol)\n",
    "\n",
    "**OPTIONAL Parameters**\n",
    "   - `acc_type` : flow accumlation type, currently only \"d8\" is supported\n",
    "   - `hru_type` : optional hru_type array where 0=inactive, 1=land, 2=lake, and 3=swale\n",
    "   - `closed_basin` : If true hru_type 2 is used in the flow direction calculations. False ignores hru_type 2. Default is False.\n",
    "   - `flow_dir_array` : previously calculated flow direction array. This parameter is used to restart the class without performing flow direction analysis\n",
    "   - `verbose` : boolean flag to print verbose output\n",
    "\n",
    "Let's start with importing the class."
   ]
  },
  {
   "cell_type": "code",
   "execution_count": 15,
   "metadata": {},
   "outputs": [],
   "source": [
    "from gsflow.builder import FlowAccumulation"
   ]
  },
  {
   "cell_type": "markdown",
   "metadata": {},
   "source": [
    "## Applying the methods to the Sagehen 50m example problem\n",
    "\n",
    "In this example the methods are applied directly to the Sagehen 50m model as they are presented."
   ]
  },
  {
   "cell_type": "code",
   "execution_count": 16,
   "metadata": {},
   "outputs": [],
   "source": [
    "# define the input and output data paths\n",
    "input_ws = os.path.join(\"data\", \"sagehen\", \"50m_tutorials\")\n",
    "shp_ws = os.path.join(\"data\", \"geospatial\")\n",
    "output_ws = input_ws\n",
    "\n",
    "# define the modelgrid and resampled DEM data paths\n",
    "mg_file = os.path.join(input_ws, \"sagehen_50m_grid.bin\")\n",
    "dem_data = os.path.join(input_ws, \"sagehen_50m_dem.txt\")\n",
    "\n",
    "# define the flow direction and flow accumulation data paths\n",
    "flowdir_file = os.path.join(input_ws, \"sagehen_50m_flowdir.txt\")\n",
    "flowacc_file = os.path.join(input_ws, \"sagehen_50m_flowacc.txt\")\n",
    "watershed_file = os.path.join(input_ws, \"sagehen_50m_watershed.txt\")\n",
    "\n",
    "# shapefile pour point\n",
    "shp_file = os.path.join(shp_ws, \"model_points.shp\")"
   ]
  },
  {
   "cell_type": "markdown",
   "metadata": {},
   "source": [
    "Load the previously processed data"
   ]
  },
  {
   "cell_type": "code",
   "execution_count": 17,
   "metadata": {},
   "outputs": [],
   "source": [
    "# load modelgrid, dem, flow directions, and flow accumulation\n",
    "modelgrid = GenerateFishnet.load_from_file(mg_file)\n",
    "dem_data = np.genfromtxt(dem_data)\n",
    "flow_directions = np.genfromtxt(flowdir_file, dtype=float)\n",
    "flow_accumulation = np.genfromtxt(flowacc_file)\n",
    "watershed = np.genfromtxt(watershed_file, dtype=int)"
   ]
  },
  {
   "cell_type": "markdown",
   "metadata": {},
   "source": [
    "### Restarting the `FlowAccumulation` class from existing data\n",
    "\n",
    "In this tutorial series, the flow direction and flow accumulation calculations were performed in the previous builder tutorial. Instead of re-running these calculations, which can be time consuming for very large models, we can provide the saved flow direction array to the class as a way of restarting the solution.\n",
    "\n",
    "To restart from the previous solution, the saved flow direction array is passed to the `flow_dir_array` parameter during instantiation as shown in this example. For sagehen 50m the `watershed` variable is also passed to the `hru_type` array to define active and inactive cells for stream network and cascade generation. "
   ]
  },
  {
   "cell_type": "code",
   "execution_count": 18,
   "metadata": {},
   "outputs": [],
   "source": [
    "fa = FlowAccumulation(\n",
    "    dem_data,\n",
    "    modelgrid.xcellcenters,\n",
    "    modelgrid.ycellcenters,\n",
    "    hru_type=watershed,\n",
    "    flow_dir_array=flow_directions,\n",
    "    verbose=True,\n",
    ")"
   ]
  },
  {
   "cell_type": "markdown",
   "metadata": {},
   "source": [
    "Now the `FlowAccumulation` object is ready to create stream network information and cascade information."
   ]
  },
  {
   "cell_type": "markdown",
   "metadata": {},
   "source": [
    "### Stream network creation\n",
    "\n",
    "The stream network creation routine uses information from the stored flow direction and flow accumulation arrays to define stream cells. The user provides a contributing area threshold (represented by number of cells) that define a stream cell. If the flow accumulation array value is greater than the threshold, a given cell will be classified as a stream cell.\n",
    "\n",
    "The `make_streams` method performs routines to classify and route streams and has the following parameters:\n",
    "\n",
    "**REQUIRED parameters**\n",
    "   - `fdir_array` : flow direction array\n",
    "   - `fa_array` : flow accumulation array\n",
    "   - `threshold` : accumulated area threshold, represented as number of cells, for defining streams\n",
    "\n",
    "**OPTIONAL parameters**\n",
    "   - `min_stream_length` : optional minimum stream length in number of cells\n",
    "   - `max_reach` : optional maximum number of reach cells per stream segment\n",
    "   - `default_slope` : optional default value for stream slope (defaults to 0.001), value is applied if slope cannot be calculated by cell center information.\n",
    "   - `min_slope` : optional minimum value for stream slope (defaults to 0.0001)\n",
    "   - `max_slope` : optional maximum value for stream slope (defaults to 1)\n",
    "\n",
    "This example shows how to run `make_streams` using the required parameters"
   ]
  },
  {
   "cell_type": "code",
   "execution_count": 19,
   "metadata": {},
   "outputs": [],
   "source": [
    "# create our threshold\n",
    "threshold_m2 = 810000 \n",
    "cellsize = 100\n",
    "threshold = threshold_m2 / (cellsize ** 2)\n",
    "\n",
    "# run make streams\n",
    "strm_obj = fa.make_streams(\n",
    "    flow_directions,\n",
    "    flow_accumulation,\n",
    "    threshold\n",
    ")"
   ]
  },
  {
   "cell_type": "markdown",
   "metadata": {},
   "source": [
    "**Data that's returned by `make_streams`**\n",
    "\n",
    "The `make_streams` method returns a `_StreamsObj` that contains the following information as attributes:\n",
    "   - `iseg` : an array of stream segment numbers\n",
    "   - `ireach` : an array of stream reach numbers\n",
    "   - `outseg` : an array of output segment connectivity\n",
    "   - `irunbnd` : an array of land surface runoff routing to stream segments for UZF\n",
    "   - `sfrtop` : an array of stream top elevation\n",
    "   - `rchlen` : an array of reach length information\n",
    "   - `slope` : an array of reach slopes\n",
    "   - `aspect` : an array of cell aspects\n",
    "   - `reach_data` : a ModflowSfr2 compatible recarray of the `reach_data` parameter\n",
    "   - `segment_data` : a ModflowSfr2 compatible recarray of the ` segment_data` parameter\n",
    "   \n",
    "\n",
    "Let's inpect the `iseg` array:"
   ]
  },
  {
   "cell_type": "code",
   "execution_count": 20,
   "metadata": {},
   "outputs": [
    {
     "data": {
      "image/png": "[encoded data removed]",
      "text/plain": [
       "<Figure size 1200x1200 with 2 Axes>"
      ]
     },
     "metadata": {},
     "output_type": "display_data"
    }
   ],
   "source": [
    "fig = plt.figure(figsize=(12, 12))\n",
    "ax = fig.add_subplot(1, 1, 1, aspect=\"equal\")\n",
    "\n",
    "pmv = flopy.plot.PlotMapView(modelgrid=modelgrid, ax=ax)\n",
    "# plot the watershed boundary on top\n",
    "ib = pmv.plot_ibound(ibound=watershed)\n",
    "pc = pmv.plot_array(strm_obj.iseg, masked_values=[0,])\n",
    "\n",
    "plt.colorbar(pc, shrink=0.7)\n",
    "plt.title(\"Sagehen 50m stream segments\")\n",
    "plt.show();"
   ]
  },
  {
   "cell_type": "markdown",
   "metadata": {},
   "source": [
    "### Cascade routing\n",
    "\n",
    "Cascade routing calculates the connectivity of each hyrologic response unit in PRMS and connects this information to PRMS stream cells. The cascade routing calculation method is based on the Number of Input Drainage Paths (NIDP) method and allows for many cells to flow to a single cell, but a single cell can only flow downgradient to one neighbor.\n",
    "\n",
    "The `get_cascades` method performs the cascade routing calculations and has the following parameters:\n",
    "\n",
    "**REQUIRED parameters**\n",
    "   - `streams` : Stream information object that is returned from the `make_streams()` method\n",
    "   \n",
    "**OPTIONAL parameters (required if watershed delineation has not been performed in the current script!)**\n",
    "   - `pour_point` : three seperate input methods can be used to define the pour point as described below\n",
    "      - list of [(xcoordinate, ycoordinate)] location that define the pour point\n",
    "      - list of [(row, column)] location that define the pour point\n",
    "      - shapefile name, file contains a single pour point that defines the basin outlet\n",
    "   - `modelgrid` : modelgrid instance from `GenerateFishnet` (flopy.discretization.StructuredGrid object)\n",
    "   - `fmt` : format of pour point input (\"xy\" for xy coordinates, \"rowcol\" for row column, \"shp\" for shapefile)\n",
    "   \n",
    "This example demonstrates how to create cascades when watershed delineation has not been performed in the current script."
   ]
  },
  {
   "cell_type": "code",
   "execution_count": 21,
   "metadata": {},
   "outputs": [
    {
     "name": "stdout",
     "output_type": "stream",
     "text": [
      "[[391554.2013650869, 6362941.977351526]]\n"
     ]
    }
   ],
   "source": [
    "# read in our pour point from a shapefile as an xy coordinate\n",
    "with shapefile.Reader(shp_file) as r:\n",
    "    shape = r.shape(0)\n",
    "    pour_point = shape.points\n",
    "\n",
    "print(pour_point)"
   ]
  },
  {
   "cell_type": "markdown",
   "metadata": {},
   "source": [
    "Now that the pour point is loaded cascade routing information can be calculated"
   ]
  },
  {
   "cell_type": "code",
   "execution_count": 22,
   "metadata": {},
   "outputs": [
    {
     "name": "stderr",
     "output_type": "stream",
     "text": [
      "flow_accumulation.py:818: UserWarning: running define watershed, watershed must be stored to run get_cascades\n"
     ]
    }
   ],
   "source": [
    "cascades = fa.get_cascades(\n",
    "    strm_obj,\n",
    "    pour_point,\n",
    "    modelgrid,\n",
    "    fmt=\"xy\"\n",
    ")"
   ]
  },
  {
   "cell_type": "markdown",
   "metadata": {},
   "source": [
    "**Data returned by the `get_cascades` method**\n",
    "\n",
    "The `get_cascades` method returns a `_Cascades` object that contains the following information as attributes:\n",
    "   - `ncascade` : number of PRMS cascades\n",
    "   - `hru_up_id` : numpy array of hru_up_id information for the hru_up_id parameter in PRMS\n",
    "   - `hru_down_id` : numpy array of hru_down_id information for the hru_down_id parameter in PRMS\n",
    "   - `hru_pct_up` : numpy array of hru_pct_up information for the hru_pct_up parameter in PRMS\n",
    "   - `hru_strmseg_down_id` : numpy array of hru_strmseg_down_id for the hru_strmseg_down_id parameter in PRMS\n",
    "   \n",
    "Each of these data sets can be accessed using the following convention:"
   ]
  },
  {
   "cell_type": "code",
   "execution_count": 23,
   "metadata": {},
   "outputs": [
    {
     "name": "stdout",
     "output_type": "stream",
     "text": [
      "3776\n"
     ]
    }
   ],
   "source": [
    "# get ncascades\n",
    "print(cascades.ncascade)"
   ]
  },
  {
   "cell_type": "markdown",
   "metadata": {},
   "source": [
    "## Saving the stream information and cascade routing information for later use\n",
    "\n",
    "The builder methods allow the user to save the stream information and cascade routing information as binary objects. This allows the user to pick up where they left off in another session or script.\n",
    "\n",
    "These objects can be written to binary file by using the `write()` built in method.\n",
    "\n",
    "*In the next tutorial we will load this information and begin building model files*"
   ]
  },
  {
   "cell_type": "code",
   "execution_count": 24,
   "metadata": {},
   "outputs": [],
   "source": [
    "strm_obj.write(os.path.join(output_ws, \"sagehen_50m_streams.bin\"))\n",
    "cascades.write(os.path.join(output_ws, \"sagehen_50m_cascades.bin\"))"
   ]
  },
  {
   "cell_type": "code",
   "execution_count": null,
   "metadata": {},
   "outputs": [],
   "source": []
  },
  {
   "cell_type": "code",
   "execution_count": null,
   "metadata": {},
   "outputs": [],
   "source": []
  },
  {
   "cell_type": "code",
   "execution_count": null,
   "metadata": {},
   "outputs": [],
   "source": []
  },
  {
   "cell_type": "code",
   "execution_count": null,
   "metadata": {},
   "outputs": [],
   "source": []
  }
 ],
 "metadata": {
  "kernelspec": {
   "display_name": "Python 3 (ipykernel)",
   "language": "python",
   "name": "python3"
  },
  "language_info": {
   "codemirror_mode": {
    "name": "ipython",
    "version": 3
   },
   "file_extension": ".py",
   "mimetype": "text/x-python",
   "name": "python",
   "nbconvert_exporter": "python",
   "pygments_lexer": "ipython3",
   "version": "3.8.18"
  }
 },
 "nbformat": 4,
 "nbformat_minor": 2
}
