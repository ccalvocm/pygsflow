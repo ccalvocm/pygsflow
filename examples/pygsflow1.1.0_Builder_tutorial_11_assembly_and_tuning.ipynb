{
 "cells": [
  {
   "cell_type": "markdown",
   "metadata": {},
   "source": [
    "# Builder Tutorial number 11\n",
    "\n",
    "The builder tutorials demonstrate how to build an operational GSFLOW model using `pyGSFLOW` from shapefile, DEM, and other common data sources. These tutorials focus on the `gsflow.builder` classes.\n",
    "\n",
    "## Assembling a GSFLOW model from MODFLOW and PRMS components\n",
    "\n",
    "In this final builder tutorial, we show how to assemble a GSFLOW model from the previously built MODFLOW, PRMS, and CONTROl file components. After assembling the model, final adjustments to parameter values are applied and the model is run. "
   ]
  },
  {
   "cell_type": "code",
   "execution_count": 1,
   "metadata": {},
   "outputs": [],
   "source": [
    "import os\n",
    "import shapefile\n",
    "import matplotlib.pyplot as plt\n",
    "import matplotlib.colors as mcolors\n",
    "import numpy as np\n",
    "import pandas as pd\n",
    "import flopy\n",
    "import platform\n",
    "from gsflow.builder import builder_utils as bu\n",
    "import gsflow\n",
    "\n",
    "# silence pandas setting with copy warning\n",
    "pd.options.mode.chained_assignment = None\n",
    "\n",
    "# register pandas plotting converters\n",
    "from pandas.plotting import register_matplotlib_converters\n",
    "register_matplotlib_converters()"
   ]
  },
  {
   "cell_type": "markdown",
   "metadata": {},
   "source": [
    "## Applying the methods to the Sagehen 50m model\n",
    "\n",
    "In this example the methods presented are applied directly to Sagehen 50m model."
   ]
  },
  {
   "cell_type": "markdown",
   "metadata": {},
   "source": [
    "### Loading the model components\n",
    "\n",
    "Prior to assembling the GSFLOW model, model components must be loaded using pyGSFLOW built in methods. \n",
    "\n",
    "Let's start by defining paths and the Loading the PRMS parameter and data files, MODFLOW model, and GSFLOW control file."
   ]
  },
  {
   "cell_type": "code",
   "execution_count": 2,
   "metadata": {},
   "outputs": [],
   "source": [
    "# define the input and output data paths\n",
    "input_ws = os.path.join(\"data\", \"sagehen\", \"50m_tutorials\")\n",
    "geospatial_ws = os.path.join(\"data\", \"geospatial\")\n",
    "output_ws=input_ws\n",
    "\n",
    "modflow_nam = \"sagehen_50m.nam\"\n",
    "parameter_file = os.path.join(input_ws, \"sagehen_50m_ncal.param\")\n",
    "data_file = os.path.join(input_ws, \"sagehen_50m.data\")\n",
    "control_file = os.path.join(input_ws, \"sagehen_50m_initial.control\")"
   ]
  },
  {
   "cell_type": "markdown",
   "metadata": {},
   "source": [
    "Load each of the GSFLOW model components"
   ]
  },
  {
   "cell_type": "code",
   "execution_count": 3,
   "metadata": {},
   "outputs": [
    {
     "name": "stderr",
     "output_type": "stream",
     "text": [
      "/home/carlos/miniconda3/envs/sequia/lib/python3.8/site-packages/flopy/mbase.py:96: UserWarning: The program mfnwt does not exist or is not executable.\n",
      "  warn(\n"
     ]
    },
    {
     "name": "stdout",
     "output_type": "stream",
     "text": [
      "   loading iuzfbnd array...\n",
      "   loading irunbnd array...\n",
      "   loading vks array...\n",
      "   loading eps array...\n",
      "   loading thts array...\n",
      "   loading thti array...\n",
      "stress period 1:\n",
      "   loading finf array...\n",
      "stress period 2:\n",
      "stress period 3:\n",
      "stress period 4:\n",
      "stress period 5:\n",
      "stress period 6:\n",
      "stress period 7:\n",
      "stress period 8:\n",
      "stress period 9:\n",
      "stress period 10:\n",
      "stress period 11:\n",
      "stress period 12:\n",
      "stress period 13:\n",
      "stress period 14:\n",
      "stress period 15:\n",
      "stress period 16:\n",
      "stress period 17:\n",
      "stress period 18:\n",
      "stress period 19:\n",
      "stress period 20:\n",
      "stress period 21:\n",
      "stress period 22:\n",
      "stress period 23:\n",
      "stress period 24:\n",
      "stress period 25:\n",
      "stress period 26:\n",
      "stress period 27:\n",
      "stress period 28:\n",
      "stress period 29:\n",
      "stress period 30:\n",
      "stress period 31:\n",
      "stress period 32:\n",
      "stress period 33:\n",
      "stress period 34:\n",
      "stress period 35:\n",
      "stress period 36:\n",
      "stress period 37:\n",
      "stress period 38:\n",
      "stress period 39:\n",
      "stress period 40:\n",
      "stress period 41:\n",
      "stress period 42:\n",
      "stress period 43:\n",
      "stress period 44:\n",
      "stress period 45:\n",
      "stress period 46:\n",
      "stress period 47:\n",
      "stress period 48:\n",
      "stress period 49:\n",
      "stress period 50:\n",
      "stress period 51:\n",
      "stress period 52:\n",
      "stress period 53:\n",
      "stress period 54:\n",
      "stress period 55:\n",
      "stress period 56:\n",
      "stress period 57:\n",
      "stress period 58:\n",
      "stress period 59:\n",
      "stress period 60:\n",
      "stress period 61:\n",
      "stress period 62:\n",
      "stress period 63:\n",
      "stress period 64:\n",
      "stress period 65:\n",
      "stress period 66:\n",
      "stress period 67:\n",
      "stress period 68:\n",
      "stress period 69:\n",
      "stress period 70:\n",
      "stress period 71:\n",
      "stress period 72:\n",
      "stress period 73:\n",
      "stress period 74:\n",
      "stress period 75:\n",
      "stress period 76:\n",
      "stress period 77:\n",
      "stress period 78:\n",
      "stress period 79:\n",
      "stress period 80:\n",
      "stress period 81:\n",
      "stress period 82:\n",
      "stress period 83:\n",
      "stress period 84:\n",
      "stress period 85:\n",
      "stress period 86:\n",
      "stress period 87:\n",
      "stress period 88:\n",
      "stress period 89:\n",
      "stress period 90:\n",
      "stress period 91:\n",
      "stress period 92:\n",
      "stress period 93:\n",
      "stress period 94:\n",
      "stress period 95:\n",
      "stress period 96:\n",
      "stress period 97:\n",
      "stress period 98:\n",
      "stress period 99:\n",
      "stress period 100:\n",
      "stress period 101:\n",
      "stress period 102:\n",
      "stress period 103:\n",
      "stress period 104:\n",
      "stress period 105:\n",
      "stress period 106:\n",
      "stress period 107:\n",
      "stress period 108:\n",
      "stress period 109:\n",
      "stress period 110:\n",
      "stress period 111:\n",
      "stress period 112:\n",
      "stress period 113:\n",
      "stress period 114:\n",
      "stress period 115:\n",
      "stress period 116:\n",
      "stress period 117:\n",
      "stress period 118:\n",
      "stress period 119:\n",
      "stress period 120:\n",
      "------------------------------------\n",
      "Reading parameter file : sagehen_50m_ncal.param\n",
      "------------------------------------\n",
      "Warning: ndays data type will be infered from data supplied\n",
      "Warning: ndepl data type will be infered from data supplied\n",
      "Warning: nlake data type will be infered from data supplied\n",
      "Warning: nmonths data type will be infered from data supplied\n",
      "Warning: nrain data type will be infered from data supplied\n",
      "Warning: ntemp data type will be infered from data supplied\n",
      "Warning: one data type will be infered from data supplied\n",
      "Warning: nsegment data type will be infered from data supplied\n",
      "Warning: nreach data type will be infered from data supplied\n",
      "Warning: ngw data type will be infered from data supplied\n",
      "Warning: ngwcell data type will be infered from data supplied\n",
      "Warning: nhru data type will be infered from data supplied\n",
      "Warning: nhrucell data type will be infered from data supplied\n",
      "Warning: nssr data type will be infered from data supplied\n",
      "Warning: ncascade data type will be infered from data supplied\n",
      "Warning: ncascdgw data type will be infered from data supplied\n",
      "Warning: ndeplval data type will be infered from data supplied\n",
      "Warning: nsub data type will be infered from data supplied\n",
      "Warning: nobs data type will be infered from data supplied\n"
     ]
    }
   ],
   "source": [
    "# MODFLOW\n",
    "ml = gsflow.modflow.Modflow.load(modflow_nam, model_ws=input_ws)\n",
    "\n",
    "# PRMS\n",
    "parameters = gsflow.prms.PrmsParameters.load_from_file(parameter_file)\n",
    "prms_data = gsflow.prms.PrmsData.load_from_file(data_file)\n",
    "\n",
    "# GSFLOW Control File\n",
    "control = gsflow.ControlFile.load_from_file(control_file)"
   ]
  },
  {
   "cell_type": "markdown",
   "metadata": {},
   "source": [
    "### Assembling the PRMS model from components with `PrmsModel`\n",
    "\n",
    "Before a GSFLOW model can be assembled, the user must first assemble a PRMS model using the `PrmsModel` container. The `PrmsModel` container object holds all components of the PRMS surface water model and has the following input parameters:\n",
    "   - `control` : a gsflow.ControlFile object, required\n",
    "   - `parameters` : a gsflow.prms.PrmsParameters object, optional\n",
    "   - `data` : a gsflow.prms.PrmsData object, optional\n",
    "   - `day` : An optional dictionary of gsflow.prms.PrmsDay objects, dictionary key for each object must be the same as the budget by hru variable name. \n",
    "   \n",
    "Let's assemble the PRMS model for the sagehen 50m model."
   ]
  },
  {
   "cell_type": "code",
   "execution_count": 4,
   "metadata": {},
   "outputs": [],
   "source": [
    "prms = gsflow.prms.PrmsModel(control, parameters=parameters, data=prms_data)"
   ]
  },
  {
   "cell_type": "markdown",
   "metadata": {},
   "source": [
    "Inspecting the PRMS object"
   ]
  },
  {
   "cell_type": "code",
   "execution_count": 5,
   "metadata": {},
   "outputs": [
    {
     "name": "stdout",
     "output_type": "stream",
     "text": [
      "<gsflow.prms.prms_model.PrmsModel object at 0x7f98c04c7430>\n",
      "<gsflow.prms.prms_parameter.PrmsParameters object at 0x7f98c0550af0>\n",
      "<gsflow.prms.prms_data.PrmsData object at 0x7f98c039d0d0>\n",
      "None\n"
     ]
    }
   ],
   "source": [
    "print(prms)\n",
    "print(prms.parameters)\n",
    "print(prms.data)\n",
    "print(prms.day)"
   ]
  },
  {
   "cell_type": "markdown",
   "metadata": {},
   "source": [
    "### Assembling the GSFLOW model \n",
    "\n",
    "Now that the `PrmsModel` object has been assembled, the GSFLOW model can be assembled from the prms and modflow model objects. The `GsflowModel` class allows the user to assemble a GSFLOW model and has the following parameters:\n",
    "   - `control` : a gsflow.ControlFile object\n",
    "   - `prms` : optional gsflow.PrmsModel object\n",
    "   - `mf` : optional gsflow.modflow.Modflow object\n",
    "   - `modflow_only` : optional boolean flag, if True class can be instantiated with only a control object and a modflow object\n",
    "   - `prms_only` : optional boolean flag, if True class can be instantiated with only a control and prms model object\n",
    "   - `modsim` : optional boolean flag, if True on model write a MODSIM compatible stream vector shapefile is produced from SFR and LAK package information.\n",
    "   \n",
    "Let's assemble the Sagehen 50m GSFLOW model!"
   ]
  },
  {
   "cell_type": "code",
   "execution_count": 6,
   "metadata": {},
   "outputs": [],
   "source": [
    "gsf = gsflow.GsflowModel(control, prms=prms, mf=ml)\n",
    "# gsf = gsflow.GsflowModel(control, mf=ml)"
   ]
  },
  {
   "cell_type": "markdown",
   "metadata": {},
   "source": [
    "Inspecting the `GsflowModel` object"
   ]
  },
  {
   "cell_type": "code",
   "execution_count": 7,
   "metadata": {},
   "outputs": [
    {
     "name": "stdout",
     "output_type": "stream",
     "text": [
      "<gsflow.gsflow.GsflowModel object at 0x7f98c0416d60>\n",
      "MODFLOW 1 layer(s) 160 row(s) 104 column(s) 120 stress period(s)\n",
      "<gsflow.prms.prms_model.PrmsModel object at 0x7f98c04c7430>\n",
      "<gsflow.prms.prms_parameter.PrmsParameters object at 0x7f98c0550af0>\n",
      "<gsflow.prms.prms_data.PrmsData object at 0x7f98c039d0d0>\n"
     ]
    }
   ],
   "source": [
    "print(gsf)\n",
    "print(gsf.mf)\n",
    "print(gsf.prms)\n",
    "print(gsf.prms.parameters)\n",
    "print(gsf.prms.data)"
   ]
  },
  {
   "cell_type": "markdown",
   "metadata": {},
   "source": [
    "### Adding required records to the GSFLOW control file object\n",
    "\n",
    "Before writing and running the model, a few required records need to added and/or updated in the GSFLOW control file to 1) add the PRMS data file, 2) sync the PRMS and MODFLOW models, and 3) produce the desired output from the GSFLOW model.\n",
    "\n",
    "These parameters are shown in the code block below"
   ]
  },
  {
   "cell_type": "code",
   "execution_count": 26,
   "metadata": {},
   "outputs": [
    {
     "name": "stderr",
     "output_type": "stream",
     "text": [
      "param_base.py:172: UserWarning: The record already exists, skipping add_record: data_file...\n",
      "param_base.py:172: UserWarning: The record already exists, skipping add_record: modflow_time_zero...\n",
      "param_base.py:172: UserWarning: The record already exists, skipping add_record: end_time...\n",
      "param_base.py:172: UserWarning: The record already exists, skipping add_record: print_debug...\n",
      "param_base.py:172: UserWarning: The record already exists, skipping add_record: statson_off...\n",
      "param_base.py:172: UserWarning: The record already exists, skipping add_record: nstatvars...\n",
      "param_base.py:172: UserWarning: The record already exists, skipping add_record: statvar_element...\n",
      "param_base.py:172: UserWarning: The record already exists, skipping add_record: statvar_names...\n",
      "param_base.py:172: UserWarning: The record already exists, skipping add_record: stat_var_file...\n"
     ]
    }
   ],
   "source": [
    "start_time = [2009, 12, 1, 0, 0, 0]\n",
    "end_time = [2010, 1, 1, 0, 0, 0]\n",
    "\n",
    "# control file records to add\n",
    "gsf.control.add_record(\"data_file\", [\"sagehen_50m.data\",])\n",
    "gsf.control.add_record(\"modflow_time_zero\", start_time)\n",
    "gsf.control.add_record(\"end_time\", end_time)\n",
    "\n",
    "# control file output control records added\n",
    "gsf.control.add_record(\"print_debug\", [0,])\n",
    "gsf.control.add_record(\"statsON_OFF\", [1,])\n",
    "gsf.control.add_record(\"nstatVars\", [6,])\n",
    "gsf.control.add_record(\"statVar_element\", [\"1\",] * 6)\n",
    "gsf.control.add_record(\n",
    "    \"statVar_names\",\n",
    "    values=[\n",
    "        \"runoff\",\n",
    "        \"basin_cfs\",\n",
    "        \"basin_ssflow_cfs\",\n",
    "        \"basin_gwflow_cfs\",\n",
    "        \"basin_sroff_cfs\",\n",
    "        \"basin_dunnian\"\n",
    "    ]\n",
    ")\n",
    "gsf.control.add_record(\"stat_var_file\", [\"statvar.dat\",])"
   ]
  },
  {
   "cell_type": "code",
   "execution_count": 27,
   "metadata": {},
   "outputs": [],
   "source": [
    "# control file records to edit\n",
    "gsf.control.start_time = start_time\n",
    "gsf.control.model_mode = [\"GSFLOW5\",]\n",
    "gsf.control.subbasin_flag = [0,]\n",
    "gsf.control.parameter_check_flag = [0,]\n",
    "gsf.control.srunoff_module = [\"srunoff_smidx\"]"
   ]
  },
  {
   "cell_type": "markdown",
   "metadata": {},
   "source": [
    "### Writing the assembled GSFLOW model to file\n",
    "\n",
    "In this example we show how to write the assembled GSFLOW model to file using the built in `write()` method. The `write()` method has three optional parameters, however in the case of new model assembly the first two should both always be used!\n",
    "   - `basename` : the \"basename\" for all model files, in this case it will be \"sagehen_50m\"\n",
    "   - `workspace` : the folder path for model files to be written to\n",
    "   - `write_only` : optional list that allows the user to write only the \"control\", \"parameters\", \"prms_data\", \"mf\", or \"modsim\" or a combinations of parts of the GSFLOW model "
   ]
  },
  {
   "cell_type": "code",
   "execution_count": 28,
   "metadata": {},
   "outputs": [
    {
     "name": "stdout",
     "output_type": "stream",
     "text": [
      "Writing the project files .....\n",
      "Writing Modflow files...\n"
     ]
    }
   ],
   "source": [
    "gsf.write_input(basename=\"sagehen_50m\", workspace=output_ws,write_only=['mf'])"
   ]
  },
  {
   "cell_type": "markdown",
   "metadata": {},
   "source": [
    "### Running the uncalibrated model\n",
    "\n",
    "The uncalibrated GSFLOW model can be run using the built in `run_model()` method. The `run_model()` method has 4 optional parameters:\n",
    "   - `model_ws` : path to model directory\n",
    "   - `forgive` : boolean flag, which forgives convergence issues (will return True for successful run)\n",
    "   - `gsflow_exe` : optional path to the gsflow executable\n",
    "   - `silent` : boolean flag to silence model output from being written to the screen. Default is False\n",
    "   \n",
    "Note: change `run_model = True` to `run_model = False` to skip the model run. The model run takes about 20 minutes to complete. Output has been saved for this example and results will load regardless of model run status."
   ]
  },
  {
   "cell_type": "code",
   "execution_count": 30,
   "metadata": {},
   "outputs": [
    {
     "name": "stdout",
     "output_type": "stream",
     "text": [
      "/home/carlos/Documents/pygsflow/examples\n"
     ]
    }
   ],
   "source": [
    "run_model = False\n",
    "print(os.getcwd())\n",
    "gsflow_exe = os.path.join(\"..\", \"bin\", \"gsflow\")\n",
    "if platform.system().lower() == \"windows\":\n",
    "    gsflow_exe += \".exe\"\n",
    "\n",
    "if run_model:\n",
    "    gsf.run_model(gsflow_exe=gsflow_exe, silent=False)"
   ]
  },
  {
   "cell_type": "markdown",
   "metadata": {},
   "source": [
    "Now load in the statsvar file using the built in method `get_StatVar()` and examine the output"
   ]
  },
  {
   "cell_type": "code",
   "execution_count": 31,
   "metadata": {},
   "outputs": [
    {
     "name": "stdout",
     "output_type": "stream",
     "text": [
      "Loading the statvar output file .....\n",
      "Finished Load the statvar output file .....\n"
     ]
    },
    {
     "data": {
      "text/html": [
       "<div>\n",
       "<style scoped>\n",
       "    .dataframe tbody tr th:only-of-type {\n",
       "        vertical-align: middle;\n",
       "    }\n",
       "\n",
       "    .dataframe tbody tr th {\n",
       "        vertical-align: top;\n",
       "    }\n",
       "\n",
       "    .dataframe thead th {\n",
       "        text-align: right;\n",
       "    }\n",
       "</style>\n",
       "<table border=\"1\" class=\"dataframe\">\n",
       "  <thead>\n",
       "    <tr style=\"text-align: right;\">\n",
       "      <th></th>\n",
       "      <th>ID</th>\n",
       "      <th>Year</th>\n",
       "      <th>Month</th>\n",
       "      <th>Day</th>\n",
       "      <th>Hour</th>\n",
       "      <th>Minute</th>\n",
       "      <th>Second</th>\n",
       "      <th>runoff_1</th>\n",
       "      <th>basin_cfs_1</th>\n",
       "      <th>basin_ssflow_cfs_1</th>\n",
       "      <th>basin_gwflow_cfs_1</th>\n",
       "      <th>basin_sroff_cfs_1</th>\n",
       "      <th>basin_dunnian_1</th>\n",
       "      <th>Date</th>\n",
       "    </tr>\n",
       "  </thead>\n",
       "  <tbody>\n",
       "    <tr>\n",
       "      <th>0</th>\n",
       "      <td>1</td>\n",
       "      <td>2010</td>\n",
       "      <td>1</td>\n",
       "      <td>1</td>\n",
       "      <td>0</td>\n",
       "      <td>0</td>\n",
       "      <td>0</td>\n",
       "      <td>2.0</td>\n",
       "      <td>0.0</td>\n",
       "      <td>0.0</td>\n",
       "      <td>0.0</td>\n",
       "      <td>0.0</td>\n",
       "      <td>0.0</td>\n",
       "      <td>2010-01-01</td>\n",
       "    </tr>\n",
       "    <tr>\n",
       "      <th>1</th>\n",
       "      <td>2</td>\n",
       "      <td>2010</td>\n",
       "      <td>1</td>\n",
       "      <td>2</td>\n",
       "      <td>0</td>\n",
       "      <td>0</td>\n",
       "      <td>0</td>\n",
       "      <td>2.1</td>\n",
       "      <td>0.0</td>\n",
       "      <td>0.0</td>\n",
       "      <td>0.0</td>\n",
       "      <td>0.0</td>\n",
       "      <td>0.0</td>\n",
       "      <td>2010-01-02</td>\n",
       "    </tr>\n",
       "  </tbody>\n",
       "</table>\n",
       "</div>"
      ],
      "text/plain": [
       "   ID  Year  Month  Day  Hour  Minute  Second  runoff_1  basin_cfs_1  \\\n",
       "0   1  2010      1    1     0       0       0       2.0          0.0   \n",
       "1   2  2010      1    2     0       0       0       2.1          0.0   \n",
       "\n",
       "   basin_ssflow_cfs_1  basin_gwflow_cfs_1  basin_sroff_cfs_1  basin_dunnian_1  \\\n",
       "0                 0.0                 0.0                0.0              0.0   \n",
       "1                 0.0                 0.0                0.0              0.0   \n",
       "\n",
       "        Date  \n",
       "0 2010-01-01  \n",
       "1 2010-01-02  "
      ]
     },
     "execution_count": 31,
     "metadata": {},
     "output_type": "execute_result"
    }
   ],
   "source": [
    "try:\n",
    "    stats = gsf.prms.get_StatVar()\n",
    "except FileNotFoundError:\n",
    "    print(\"@@@@@ Loading cached output @@@@@@\")\n",
    "    statvar = gsflow.output.StatVar(os.path.join(input_ws, \"sagehen_50m_stat_var.dat\"))\n",
    "    stats = statvar.stat_df\n",
    "stats.head()"
   ]
  },
  {
   "cell_type": "code",
   "execution_count": 32,
   "metadata": {},
   "outputs": [],
   "source": [
    "# get data from 10/1/1985 onward\n",
    "stats = stats[1096:]\n",
    "stats.reset_index(inplace=True, drop=True)"
   ]
  },
  {
   "cell_type": "markdown",
   "metadata": {},
   "source": [
    "plot simulated vs. measured streamflow results"
   ]
  },
  {
   "cell_type": "code",
   "execution_count": 33,
   "metadata": {},
   "outputs": [
    {
     "data": {
      "image/png": "[encoded data removed]",
      "text/plain": [
       "<Figure size 1600x600 with 1 Axes>"
      ]
     },
     "metadata": {},
     "output_type": "display_data"
    }
   ],
   "source": [
    "fig, ax = plt.subplots(figsize=(16, 6))\n",
    "ax.plot(stats.Date, stats.basin_cfs_1, color='r', linewidth=2.2, label=\"simulated\")\n",
    "ax.plot(stats.Date, stats.runoff_1, color='b', linewidth=1.5, label=\"measured\")\n",
    "ax.legend(bbox_to_anchor=(0.25, 0.65))\n",
    "ax.set_xlabel(\"Date\")\n",
    "ax.set_ylabel(\"Streamflow, in cfs\")\n",
    "ax.set_ylim([0, 2000])\n",
    "plt.show();"
   ]
  },
  {
   "cell_type": "markdown",
   "metadata": {},
   "source": [
    "Plot surface water contributions to streamflow"
   ]
  },
  {
   "cell_type": "code",
   "execution_count": 34,
   "metadata": {},
   "outputs": [
    {
     "data": {
      "image/png": "[encoded data removed]",
      "text/plain": [
       "<Figure size 1600x600 with 1 Axes>"
      ]
     },
     "metadata": {},
     "output_type": "display_data"
    }
   ],
   "source": [
    "gw_seepage = stats.basin_cfs_1.values - (\n",
    "    stats.basin_ssflow_cfs_1.values + \n",
    "    stats.basin_sroff_cfs_1.values +\n",
    "    stats.basin_dunnian_1.values\n",
    ")\n",
    "\n",
    "fig, ax = plt.subplots(figsize=(16, 6))\n",
    "ax.plot(stats.Date, stats.basin_ssflow_cfs_1, color='r', linewidth=1.5, label=\"Interflow\")\n",
    "ax.plot(stats.Date, gw_seepage, color='purple', linewidth=1.5, label=\"Groundwater Seepage\")\n",
    "ax.plot(stats.Date, stats.basin_sroff_cfs_1, color=\"y\", linewidth=1.5, label=\"Hortonian runoff\")\n",
    "ax.plot(stats.Date, stats.basin_dunnian_1, color=\"b\", linewidth=1.5, label=\"Dunnian runoff\")\n",
    "ax.legend(bbox_to_anchor=(0.25, 0.65))\n",
    "ax.set_xlabel(\"Date\")\n",
    "ax.set_ylabel(\"Flow components, in cfs\")\n",
    "ax.set_yscale(\"log\")\n",
    "ax.set_ylim([1e-03, 1e4])\n",
    "plt.show();"
   ]
  },
  {
   "cell_type": "markdown",
   "metadata": {},
   "source": [
    "### Model adjustments for a calibrated result\n",
    "\n",
    "Model calibration adjustments for the sagehen 50m model were performed in a stepwise fashion by hand. Here we adjust the parameters to their final calibrated values and re-run the model. "
   ]
  },
  {
   "cell_type": "markdown",
   "metadata": {},
   "source": [
    "#### Modify PRMS parameters"
   ]
  },
  {
   "cell_type": "code",
   "execution_count": 35,
   "metadata": {},
   "outputs": [
    {
     "name": "stdout",
     "output_type": "stream",
     "text": [
      "Warning: tmax_allrain_offset data type will be infered from data supplied\n",
      "Warning: jh_coef data type will be infered from data supplied\n",
      "[2. 2. 2. ... 2. 2. 2.]\n",
      "[10. 10. 10. ... 10. 10. 10.]\n"
     ]
    }
   ],
   "source": [
    "# temp distribution\n",
    "v = gsf.prms.parameters.tmax_lapse.values\n",
    "gsf.prms.parameters.tmax_lapse += 1.2\n",
    "gsf.prms.parameters.tmin_lapse += 1.2\n",
    "gsf.prms.parameters.set_values(\n",
    "    \"max_missing\",\n",
    "    gsf.prms.parameters.max_missing.values * 2\n",
    ")\n",
    "\n",
    "# snow \n",
    "gsf.prms.parameters.tmax_allsnow[:] = 0.7\n",
    "covden_win = gsf.prms.parameters.covden_win.values\n",
    "gsf.prms.parameters.rad_trncf[:] = covden_win * 0.8\n",
    "gsf.prms.parameters.add_record(\n",
    "    \"tmax_allrain_offset\",\n",
    "    values=[2.1,] * 12,\n",
    "    dimensions=[[\"nmonths\", 12]]\n",
    ")\n",
    "\n",
    "# ET\n",
    "gsf.prms.parameters.soil_moist_max *= 3.0\n",
    "gsf.prms.parameters.add_record(\n",
    "    \"jh_coef\", \n",
    "    values=[0.03,] * 12, \n",
    "    dimensions=[('nmonths', 12)]\n",
    ")\n",
    "\n",
    "# runoff\n",
    "print(gsf.prms.parameters.snowinfil_max.values)\n",
    "gsf.prms.parameters.snowinfil_max *= 5\n",
    "print(gsf.prms.parameters.snowinfil_max.values)\n",
    "gsf.prms.parameters.smidx_coef /= 100\n",
    "gsf.prms.parameters.smidx_exp /= 100\n",
    "gsf.prms.parameters.carea_max /= 100\n",
    "\n",
    "# Interflow\n",
    "gsf.prms.parameters.slowcoef_sq *= 0.1\n",
    "gsf.prms.parameters.slowcoef_lin *= 3.0\n",
    "\n",
    "# Recharge\n",
    "gsf.prms.parameters.ssr2gw_rate *= 500\n",
    "gsf.prms.parameters.sat_threshold /= 3"
   ]
  },
  {
   "cell_type": "markdown",
   "metadata": {},
   "source": [
    "#### Write calibrated model to file"
   ]
  },
  {
   "cell_type": "code",
   "execution_count": null,
   "metadata": {},
   "outputs": [],
   "source": [
    "gsf.write_input(basename=\"sagehen_50m_cal\", workspace=output_ws)"
   ]
  },
  {
   "cell_type": "markdown",
   "metadata": {},
   "source": [
    "### Running the calibrated model\n",
    "\n",
    "The calibrated GSFLOW model can be run using the built in `run_model()` method. The `run_model()` method has 4 optional parameters:\n",
    "   - `model_ws` : path to model directory\n",
    "   - `forgive` : boolean flag, which forgives convergence issues (will return True for successful run)\n",
    "   - `gsflow_exe` : optional path to the gsflow executable\n",
    "   - `silent` : boolean flag to silence model output from being written to the screen. Default is False\n",
    "   \n",
    "Note: change `run_model = True` to `run_model = False` to skip the model run. The model run takes about 20 minutes to complete. Output has been saved for this example and results will load regardless of model run status."
   ]
  },
  {
   "cell_type": "code",
   "execution_count": null,
   "metadata": {},
   "outputs": [],
   "source": [
    "run_model = True"
   ]
  },
  {
   "cell_type": "code",
   "execution_count": null,
   "metadata": {},
   "outputs": [],
   "source": [
    "gsflow_exe = os.path.join(\"..\", \"bin\", \"gsflow\")\n",
    "if platform.system().lower() == \"windows\":\n",
    "    gsflow_exe += \".exe\"\n",
    "\n",
    "if run_model:\n",
    "    gsf.run_model(gsflow_exe=gsflow_exe, silent=True)"
   ]
  },
  {
   "cell_type": "markdown",
   "metadata": {},
   "source": [
    "### Get calibrated model results from the statistics variables file\n",
    "\n",
    "Load in the statsvar file using the built in method `get_StatVar()` and examine the output"
   ]
  },
  {
   "cell_type": "code",
   "execution_count": null,
   "metadata": {},
   "outputs": [],
   "source": [
    "try:\n",
    "    stats = gsf.prms.get_StatVar()\n",
    "except FileNotFoundError:\n",
    "    print(\"@@@@@ Loading cached output @@@@@@\")\n",
    "    statvar = gsflow.output.StatVar(os.path.join(input_ws, \"sagehen_50m_cal_stat_var.dat\"))\n",
    "    stats = statvar.stat_df\n",
    "stats.head()"
   ]
  },
  {
   "cell_type": "code",
   "execution_count": null,
   "metadata": {},
   "outputs": [],
   "source": [
    "# get data from 10/1/1985 onward\n",
    "stats = stats[1096:]\n",
    "stats.reset_index(inplace=True, drop=True)"
   ]
  },
  {
   "cell_type": "markdown",
   "metadata": {},
   "source": [
    "#### plot simulated vs. measured streamflow results"
   ]
  },
  {
   "cell_type": "code",
   "execution_count": null,
   "metadata": {},
   "outputs": [],
   "source": [
    "fig, ax = plt.subplots(figsize=(16, 6))\n",
    "ax.plot(stats.Date, stats.basin_cfs_1, color='r', linewidth=2.2, label=\"simulated\")\n",
    "ax.plot(stats.Date, stats.runoff_1, color='b', linewidth=1.5, label=\"measured\")\n",
    "ax.legend(bbox_to_anchor=(0.25, 0.65))\n",
    "ax.set_xlabel(\"Date\")\n",
    "ax.set_ylabel(\"Streamflow, in cfs\")\n",
    "ax.set_ylim([0, 400])\n",
    "plt.show();"
   ]
  },
  {
   "cell_type": "markdown",
   "metadata": {},
   "source": [
    "#### plot surface water contribution to streamflow"
   ]
  },
  {
   "cell_type": "code",
   "execution_count": null,
   "metadata": {
    "scrolled": false
   },
   "outputs": [],
   "source": [
    "gw_seepage = stats.basin_cfs_1.values.copy() - (\n",
    "    stats.basin_ssflow_cfs_1.values.copy() + \n",
    "    stats.basin_sroff_cfs_1.values.copy() +\n",
    "    stats.basin_dunnian_1.values.copy()\n",
    ")\n",
    "\n",
    "fig, ax = plt.subplots(figsize=(16, 6))\n",
    "ax.plot(stats.Date, stats.basin_ssflow_cfs_1, color='r', linewidth=1.5, label=\"Interflow\")\n",
    "ax.plot(stats.Date, gw_seepage, color='purple', linewidth=1.5, label=\"Groundwater Seepage\")\n",
    "ax.plot(stats.Date, stats.basin_sroff_cfs_1, color=\"y\", linewidth=1.5, label=\"Hortonian runoff\")\n",
    "ax.plot(stats.Date, stats.basin_dunnian_1, color=\"b\", linewidth=1.5, label=\"Dunnian runoff\")\n",
    "ax.legend(bbox_to_anchor=(0.25, 0.65))\n",
    "ax.set_xlabel(\"Date\")\n",
    "ax.set_ylabel(\"Flow components, in cfs\")\n",
    "ax.set_yscale(\"log\")\n",
    "ax.set_ylim([1e-03, 1e4])\n",
    "plt.show();"
   ]
  },
  {
   "cell_type": "markdown",
   "metadata": {},
   "source": [
    "## This concludes the pyGSFLOW builder tutorials.\n",
    "\n",
    "These tutorials outline GSFLOW model building starting from Raster data and going to a fully operational model. The example problem Sagehen 50m was used to demonstrate this process."
   ]
  },
  {
   "cell_type": "code",
   "execution_count": null,
   "metadata": {},
   "outputs": [],
   "source": []
  }
 ],
 "metadata": {
  "kernelspec": {
   "display_name": "sequia",
   "language": "python",
   "name": "sequia"
  },
  "language_info": {
   "codemirror_mode": {
    "name": "ipython",
    "version": 3
   },
   "file_extension": ".py",
   "mimetype": "text/x-python",
   "name": "python",
   "nbconvert_exporter": "python",
   "pygments_lexer": "ipython3",
   "version": "3.8.18"
  }
 },
 "nbformat": 4,
 "nbformat_minor": 2
}
